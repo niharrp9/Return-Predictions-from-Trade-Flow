{
 "cells": [
  {
   "cell_type": "markdown",
   "id": "1cfecb5a",
   "metadata": {},
   "source": [
    "# Assignment 4: Return Predictions From Trade Flow"
   ]
  },
  {
   "cell_type": "markdown",
   "id": "1c2b523f",
   "metadata": {},
   "source": [
    "# 1. Introduction:"
   ]
  },
  {
   "cell_type": "markdown",
   "id": "66674fa1",
   "metadata": {},
   "source": [
    "This work is assessing the trade flow to generate profit opportunities in three cryptotoken markets. Trade flow is a running tally of signed trade sizes where the sign is defined as 1 if the trade is seller-initiated and -1 if it was buyer-initiated. All reported trades within the last time period of length tau are examined for the profit-generating purpose. Three crypto token pairs considered for the analysis are ETH-BTC, BTC-USD and ETH-USD."
   ]
  },
  {
   "cell_type": "markdown",
   "id": "245361b4",
   "metadata": {},
   "source": [
    "Import all the python packages needed:"
   ]
  },
  {
   "cell_type": "code",
   "execution_count": 1,
   "id": "c8af020a",
   "metadata": {
    "ExecuteTime": {
     "end_time": "2024-02-09T03:04:56.002800Z",
     "start_time": "2024-02-09T03:04:46.710799Z"
    }
   },
   "outputs": [],
   "source": [
    "import datetime\n",
    "import requests\n",
    "import pandas as pd\n",
    "import numpy as np\n",
    "import matplotlib.dates as mdates\n",
    "import matplotlib.pyplot as plt\n",
    "import seaborn as sns\n",
    "import scipy as sp\n",
    "import plotnine as p9\n",
    "import functools\n",
    "import itertools\n",
    "import random\n",
    "import warnings\n",
    "warnings.filterwarnings('ignore')\n",
    "\n",
    "from statsmodels.graphics.tsaplots import plot_acf\n",
    "from statsmodels.regression.linear_model import OLS\n",
    "import statsmodels.api as sm\n",
    "from scipy.stats import probplot\n",
    "from datetime import datetime\n",
    "from io import BytesIO\n",
    "from io import StringIO\n",
    "from zipfile import ZipFile\n",
    "from pandas.plotting import register_matplotlib_converters\n",
    "from plotnine import ggplot, aes, geom_line, labs, scale_x_date, theme_minimal, element_text, theme, geom_ribbon, geom_point\n",
    "from mizani.breaks import date_breaks\n",
    "from mizani.formatters import date_format\n",
    "register_matplotlib_converters()"
   ]
  },
  {
   "cell_type": "markdown",
   "id": "322407e7",
   "metadata": {},
   "source": [
    "# 2. Various functions that is to be used for the analysis:"
   ]
  },
  {
   "cell_type": "markdown",
   "id": "9d6a63e3",
   "metadata": {},
   "source": [
    "# Trade Flow Calculation Function (tau interval):"
   ]
  },
  {
   "cell_type": "code",
   "execution_count": 2,
   "id": "af87325d",
   "metadata": {
    "ExecuteTime": {
     "end_time": "2024-02-09T03:04:56.038405Z",
     "start_time": "2024-02-09T03:04:56.015248Z"
    }
   },
   "outputs": [],
   "source": [
    "def trade_flow(df, time_col='timestamp_utc_nanoseconds', size_col='SizeBillionths', sign_col='Side', tau = '10s'):\n",
    "    \"\"\"\n",
    "    Calculate the trade flow based on the cumulative size within a given time interval (tau).\n",
    "\n",
    "    Parameters:\n",
    "    - df: DataFrame containing the trade data.\n",
    "    - time_col: The name of the column containing the timestamp in nanoseconds.\n",
    "    - size_col: The name of the column containing the trade sizes.\n",
    "    - sign_col: The name of the column containing the trade side (buy/sell indicator).\n",
    "    - tau: The time interval as a string, e.g. '10s' for 10 seconds.\n",
    "\n",
    "    Returns:\n",
    "    - DataFrame with a new 'trade_flow' column representing the trade flow.\n",
    "    \"\"\"\n",
    "    df = df.copy()\n",
    "    \n",
    "    # Creating the signed size column\n",
    "    df['cum_size_billionths'] = df[size_col] * np.sign(df[sign_col])\n",
    "    \n",
    "    # Convert the timestamp to a datetime index\n",
    "    df['timestamp'] = pd.to_datetime(df[time_col], unit='ns')\n",
    "\n",
    "    # Ensure the data is sorted by timestamp\n",
    "    df.sort_values(by=time_col, inplace=True)\n",
    "\n",
    "    # Set the timestamp as the index\n",
    "    df.set_index('timestamp', inplace=True)\n",
    "\n",
    "    # Calculate the trade flow using a rolling window and sum within the interval tau\n",
    "    df['trade_flow'] = df['cum_size_billionths'].rolling(tau, closed='left').sum()\n",
    "    \n",
    "    df['trade_flow'] = df['trade_flow']/ 1e9\n",
    "    \n",
    "    # Reset the index to remove the timestamp from the index position\n",
    "    df.reset_index(drop=True, inplace=True)\n",
    "    \n",
    "    return df"
   ]
  },
  {
   "cell_type": "markdown",
   "id": "7427c35a",
   "metadata": {},
   "source": [
    "# T-second Forward Return Calculation Function:"
   ]
  },
  {
   "cell_type": "code",
   "execution_count": 3,
   "id": "42e3342c",
   "metadata": {
    "ExecuteTime": {
     "end_time": "2024-02-09T03:04:56.063532Z",
     "start_time": "2024-02-09T03:04:56.044547Z"
    }
   },
   "outputs": [],
   "source": [
    "def T_second_forward_return(trades, book, trade_price_col = 'PriceMillionths', mid_price_col = 'Mid', time_col = 'timestamp_utc_nanoseconds', T = '5s'):\n",
    "    \"\"\"\n",
    "    Calculate the T-second forward return within a given forward time interval (T).\n",
    "\n",
    "    Parameters:\n",
    "    - df1: DataFrame containing the trade data.\n",
    "    - df2: DataFrame containing the book data.\n",
    "    - trade_price: The name of the column containing trade price at time t.\n",
    "    - mid_price_tplusT: The name of the column containing trade price at time t+T.\n",
    "    - time_col: The name of the column containing the timestamp in nanoseconds.\n",
    "    - T: The forward time interval as a string, e.g. '5s' for 5 seconds.\n",
    "\n",
    "    Returns:\n",
    "    - DataFrame with a new 'T_second_forward_return' column representing the trade flow.\n",
    "    \"\"\"\n",
    "    # Create a temporary 'timestamp' column for both trades and book data\n",
    "    trades['timestamp'] = pd.to_datetime(trades[time_col], unit='ns')\n",
    "    book['timestamp'] = pd.to_datetime(book[time_col], unit='ns')\n",
    "    \n",
    "    # Set the temporary 'timestamp' column as the index for both DataFrames\n",
    "    trades.set_index('timestamp', inplace=True)\n",
    "    book.set_index('timestamp', inplace=True)\n",
    "\n",
    "    # Forward fill the book data to the timestamps of the trades data plus T seconds\n",
    "    later = book.reindex(trades.index + pd.to_timedelta(T), method='ffill')\n",
    "    later.index = trades.index\n",
    "\n",
    "    # Calculate the T-second forward return\n",
    "    trades['T_second_forward_return'] = (later[mid_price_col] / trades[trade_price_col]) - 1\n",
    "\n",
    "    # Reset the index to convert the datetime index back into a column and drop the temporary 'timestamp' column\n",
    "    trades.reset_index(drop=True, inplace=True)\n",
    "    \n",
    "    # Drop the temporary 'timestamp' column from the book DataFrame as well\n",
    "    book.reset_index(drop=True, inplace=True)\n",
    "    \n",
    "    return trades\n",
    "    \n",
    "        "
   ]
  },
  {
   "cell_type": "markdown",
   "id": "2dea1c4e",
   "metadata": {},
   "source": [
    "# Function to create the training and test split datasets:"
   ]
  },
  {
   "cell_type": "code",
   "execution_count": 4,
   "id": "8a943bff",
   "metadata": {
    "ExecuteTime": {
     "end_time": "2024-02-09T03:04:56.081218Z",
     "start_time": "2024-02-09T03:04:56.071853Z"
    }
   },
   "outputs": [],
   "source": [
    "def train_test_data(trades, train_size=0.4):\n",
    "    \"\"\"\n",
    "    Split the trades dataset into training and testing sets.\n",
    "\n",
    "    Parameters:\n",
    "    - trades: DataFrame containing the trade data.\n",
    "    - train_size: The proportion of the dataset to include in the train split.\n",
    "\n",
    "    Returns:\n",
    "    - A tuple containing the training set and the testing set.\n",
    "    \"\"\"\n",
    "    # Calculate the index to split on\n",
    "    split_index = int(len(trades) * train_size)\n",
    "    \n",
    "    # Split the DataFrame into training and testing sets\n",
    "    train_set = trades[:split_index]\n",
    "    test_set = trades[split_index:]\n",
    "    \n",
    "    return train_set, test_set"
   ]
  },
  {
   "cell_type": "markdown",
   "id": "3226d28a",
   "metadata": {},
   "source": [
    "# Regression function to find coefficient Beta of regression:"
   ]
  },
  {
   "cell_type": "code",
   "execution_count": 5,
   "id": "dd604abf",
   "metadata": {
    "ExecuteTime": {
     "end_time": "2024-02-09T03:04:56.099182Z",
     "start_time": "2024-02-09T03:04:56.086578Z"
    }
   },
   "outputs": [],
   "source": [
    "def regression(train_data, test_data, flow_col='trade_flow', return_col='T_second_forward_return'):\n",
    "    \"\"\"\n",
    "    Fit a regression model without an intercept and predict returns on the test set.\n",
    "    \"\"\"\n",
    "    # Ensure there are no NaN values in the columns used for regression\n",
    "    train_data = train_data.dropna(subset=[flow_col, return_col])\n",
    "    test_data = test_data.dropna(subset=[flow_col])\n",
    "    \n",
    "    # Fit regression model on the training set without a constant\n",
    "    model = OLS(train_data[return_col], train_data[flow_col]).fit()\n",
    "    \n",
    "    # Get the coefficient of regression\n",
    "    beta = model.params[flow_col]\n",
    "    \n",
    "    # Predict returns on the test set\n",
    "    test_data['predicted_return'] = model.predict(test_data[flow_col])\n",
    "    \n",
    "    # Calculate the R-squared value\n",
    "    r_squared = model.rsquared_adj\n",
    "    \n",
    "    return beta, test_data, r_squared"
   ]
  },
  {
   "cell_type": "markdown",
   "id": "d4537b37",
   "metadata": {},
   "source": [
    "# Function to find trade Signals:"
   ]
  },
  {
   "cell_type": "code",
   "execution_count": 6,
   "id": "e78bc5f5",
   "metadata": {
    "ExecuteTime": {
     "end_time": "2024-02-09T03:04:56.110855Z",
     "start_time": "2024-02-09T03:04:56.103531Z"
    }
   },
   "outputs": [],
   "source": [
    "def find_trade_signals(test_data, predicted_return_col='predicted_return', j=0.000001):\n",
    "    \"\"\"\n",
    "    Find trade signals based on the threshold j.\n",
    "    \"\"\"\n",
    "    # Identify potential trade signals where the absolute predicted return is greater than the threshold j\n",
    "    test_data['trade_signal'] = test_data[predicted_return_col].abs() > j\n",
    "    \n",
    "    return test_data"
   ]
  },
  {
   "cell_type": "markdown",
   "id": "a0343027",
   "metadata": {},
   "source": [
    "# Function to create PnL (without trading costs) dataframe:"
   ]
  },
  {
   "cell_type": "code",
   "execution_count": 7,
   "id": "6998f7d6",
   "metadata": {
    "ExecuteTime": {
     "end_time": "2024-02-09T03:04:56.133363Z",
     "start_time": "2024-02-09T03:04:56.115387Z"
    }
   },
   "outputs": [],
   "source": [
    "def calculate_pnl(test_pred, book, T, position_size=0.05):\n",
    "    \"\"\"\n",
    "    Calculate and accumulate P&L for trade signals within interval T.\n",
    "\n",
    "    Parameters:\n",
    "    - test_pred: DataFrame containing test predictions with trade signals.\n",
    "    - book: DataFrame containing book data with mid prices.\n",
    "    - T: Time interval in seconds as a string, e.g., '5s'.\n",
    "    - position_size: Multiplier to determine the position size.\n",
    "\n",
    "    Returns:\n",
    "    - pnl_df: DataFrame containing P&L information.\n",
    "    \"\"\"\n",
    "    # Filter for trade signals\n",
    "    signals = test_pred[test_pred['trade_signal']]\n",
    "\n",
    "    # Merge book data to get the mid price at the signal's timestamp\n",
    "    signals = signals.merge(book[['timestamp_utc_nanoseconds', 'Mid']], on='timestamp_utc_nanoseconds', how='left')\n",
    "           \n",
    "    signals['position'] = position_size * signals['SizeBillionths'] * signals['Side'].apply(np.sign)\n",
    "\n",
    "    # Get the price at the end of the interval T\n",
    "    signals['timestamp_end'] = pd.to_datetime(signals['timestamp_utc_nanoseconds'], unit='ns') + pd.to_timedelta(T)\n",
    "    book['timestamp'] = pd.to_datetime(book['timestamp_utc_nanoseconds'], unit='ns')\n",
    "    book.set_index('timestamp', inplace=True)\n",
    "    \n",
    "    signals['mid_price_end'] = signals['timestamp_end'].apply(lambda x: book.at[x, 'Mid'] if x in book.index else np.nan)\n",
    "\n",
    "    # Calculate P&L for each T interval\n",
    "    signals['plT'] = signals['position'] * (signals['mid_price_end'] - signals['PriceMillionths'])\n",
    "\n",
    "    # Accumulate P&L over all intervals\n",
    "    signals['acc_qty'] = signals['position'].cumsum().shift(fill_value = 0)\n",
    "    signals['acc_plT'] = signals['plT'].cumsum().shift(fill_value=0)\n",
    "\n",
    "    # Create the P&L DataFrame\n",
    "    pnl_df = signals[['timestamp_utc_nanoseconds', 'position', 'PriceMillionths', 'Mid', 'acc_qty', 'plT', 'acc_plT']].copy()\n",
    "\n",
    "    pnl_df['Mid'].fillna(method='ffill', inplace=True)\n",
    "    \n",
    "    # Convert 'PriceMillionths' to actual price\n",
    "    pnl_df['PriceMillionths'] = pnl_df['PriceMillionths'] / 1e6\n",
    "\n",
    "    # Assuming you already have a 'position' column calculated based on the original size\n",
    "    # and you want to adjust it using the actual size\n",
    "    pnl_df['position'] = pnl_df['position'] / 1e9\n",
    "\n",
    "    pnl_df['Mid'] = pnl_df['Mid'] / 1e6  \n",
    "    pnl_df['plT'] = pnl_df['position'] * (pnl_df['Mid'] - pnl_df['PriceMillionths'])\n",
    "    pnl_df['acc_plT'] = pnl_df['plT'].cumsum().shift(fill_value=0)\n",
    "\n",
    "    \n",
    "    return pnl_df\n"
   ]
  },
  {
   "cell_type": "markdown",
   "id": "6f05ded2",
   "metadata": {},
   "source": [
    "# Function to create PnL (with trading costs) dataframe:"
   ]
  },
  {
   "cell_type": "markdown",
   "id": "f515ff04",
   "metadata": {},
   "source": [
    "Trading costs for the pair has been assumed to be 0.2%."
   ]
  },
  {
   "cell_type": "code",
   "execution_count": 8,
   "id": "691a450f",
   "metadata": {
    "ExecuteTime": {
     "end_time": "2024-02-09T03:04:56.151456Z",
     "start_time": "2024-02-09T03:04:56.136315Z"
    }
   },
   "outputs": [],
   "source": [
    "def calculate_pnl_with_tc(test_pred, book, T, position_size=0.05):\n",
    "    \"\"\"\n",
    "    Calculate and accumulate P&L for trade signals within interval T.\n",
    "\n",
    "    Parameters:\n",
    "    - test_pred: DataFrame containing test predictions with trade signals.\n",
    "    - book: DataFrame containing book data with mid prices.\n",
    "    - T: Time interval in seconds as a string, e.g., '5s'.\n",
    "    - position_size: Multiplier to determine the position size.\n",
    "\n",
    "    Returns:\n",
    "    - pnl_df: DataFrame containing P&L information.\n",
    "    \"\"\"\n",
    "    # Filter for trade signals\n",
    "    signals = test_pred[test_pred['trade_signal']]\n",
    "\n",
    "    # Merge book data to get the mid price at the signal's timestamp\n",
    "    signals = signals.merge(book[['timestamp_utc_nanoseconds', 'Mid']], on='timestamp_utc_nanoseconds', how='left')\n",
    "           \n",
    "    signals['position'] = position_size * signals['SizeBillionths'] * signals['Side'].apply(np.sign)\n",
    "\n",
    "    # Get the price at the end of the interval T\n",
    "    signals['timestamp_end'] = pd.to_datetime(signals['timestamp_utc_nanoseconds'], unit='ns') + pd.to_timedelta(T)\n",
    "    book['timestamp'] = pd.to_datetime(book['timestamp_utc_nanoseconds'], unit='ns')\n",
    "    book.set_index('timestamp', inplace=True)\n",
    "    \n",
    "    signals['mid_price_end'] = signals['timestamp_end'].apply(lambda x: book.at[x, 'Mid'] if x in book.index else np.nan)\n",
    "\n",
    "    # Calculate P&L for each T interval\n",
    "    signals['plT'] = signals['position'] * (signals['mid_price_end'] - signals['PriceMillionths'])\n",
    "\n",
    "    # Accumulate P&L over all intervals\n",
    "    signals['acc_qty'] = signals['position'].cumsum().shift(fill_value = 0)\n",
    "    signals['acc_plT'] = signals['plT'].cumsum().shift(fill_value=0)\n",
    "\n",
    "    # Create the P&L DataFrame\n",
    "    pnl_df = signals[['timestamp_utc_nanoseconds', 'position', 'PriceMillionths', 'Mid', 'acc_qty', 'plT', 'acc_plT']].copy()\n",
    "\n",
    "    pnl_df['Mid'].fillna(method='ffill', inplace=True)\n",
    "    \n",
    "    # Convert 'PriceMillionths' to actual price\n",
    "    pnl_df['PriceMillionths'] = pnl_df['PriceMillionths'] / 1e6\n",
    "\n",
    "    # Assuming you already have a 'position' column calculated based on the original size\n",
    "    # and you want to adjust it using the actual size\n",
    "    pnl_df['position'] = pnl_df['position'] / 1e9\n",
    "\n",
    "    pnl_df['Mid'] = pnl_df['Mid'] / 1e6  \n",
    "    pnl_df['plT'] = pnl_df['position'] * (pnl_df['Mid'] - pnl_df['PriceMillionths'])*0.998\n",
    "    pnl_df['acc_plT'] = pnl_df['plT'].cumsum().shift(fill_value=0)\n",
    "\n",
    "    \n",
    "    return pnl_df\n"
   ]
  },
  {
   "cell_type": "markdown",
   "id": "540f310e",
   "metadata": {},
   "source": [
    "# Function to calculate Sharpe ratio, Max Drawdowns, Downside Deviations and Cumulative PnL plot:"
   ]
  },
  {
   "cell_type": "code",
   "execution_count": 9,
   "id": "b87bd1a5",
   "metadata": {
    "ExecuteTime": {
     "end_time": "2024-02-09T03:04:56.165176Z",
     "start_time": "2024-02-09T03:04:56.155310Z"
    }
   },
   "outputs": [],
   "source": [
    "def calculate_pnl_stats(pnl, T):\n",
    "    # Set the timestamp as the index\n",
    "    pnl['timestamp'] = pd.to_datetime(pnl['timestamp_utc_nanoseconds'], unit='ns')\n",
    "    pnl.set_index('timestamp', inplace=True)\n",
    "\n",
    "    # Group and sum P&L into T-second bins\n",
    "    grouped_plT = pnl['plT'].resample(T).sum()\n",
    "\n",
    "    # Calculate Sharpe Ratio (assuming risk-free rate is 0)\n",
    "    sharpe_ratio = grouped_plT.mean() / grouped_plT.std() if grouped_plT.std() != 0 else np.nan\n",
    "\n",
    "    # Calculate maximum drawdown\n",
    "    running_max = np.maximum.accumulate(grouped_plT.cumsum())\n",
    "    drawdown = running_max - grouped_plT.cumsum()\n",
    "    max_drawdown = drawdown.max()\n",
    "\n",
    "    # Calculate downside deviations (using 0 as the minimum acceptable return)\n",
    "    downside_deviations = grouped_plT[grouped_plT < 0].std() if not grouped_plT[grouped_plT < 0].empty else np.nan\n",
    "\n",
    "    # Plot cumulative P&L over time\n",
    "    cumulative_plT = grouped_plT.cumsum()\n",
    "    cumulative_plT.plot()\n",
    "    plt.title('Cumulative P&L over Time')\n",
    "    plt.xlabel('Time')\n",
    "    plt.ylabel('Cumulative P&L')\n",
    "    plt.show()\n",
    "    \n",
    "    pnl.reset_index(drop=True, inplace=True)\n",
    "    \n",
    "    return sharpe_ratio, max_drawdown, downside_deviations, cumulative_plT, grouped_plT\n",
    "\n"
   ]
  },
  {
   "cell_type": "markdown",
   "id": "ba71fba5",
   "metadata": {},
   "source": [
    "# Reliability and Stability of beta:"
   ]
  },
  {
   "cell_type": "code",
   "execution_count": 10,
   "id": "52631b2e",
   "metadata": {
    "ExecuteTime": {
     "end_time": "2024-02-09T03:04:56.189360Z",
     "start_time": "2024-02-09T03:04:56.176122Z"
    }
   },
   "outputs": [],
   "source": [
    "def analyze_beta_stability(beta_df):\n",
    "    \"\"\"\n",
    "    Analyze the stability of beta values.\n",
    "    \n",
    "    Parameters:\n",
    "    beta_df (DataFrame): DataFrame containing 'tau', 'T', and 'beta' columns.\n",
    "\n",
    "    Returns:\n",
    "    dict: Dictionary containing key metrics for beta stability.\n",
    "    \"\"\"\n",
    "    # Coefficient of Variation\n",
    "    cv = beta_df['beta'].std() / beta_df['beta'].mean()\n",
    "\n",
    "    # Standard Deviation\n",
    "    beta_std = beta_df['beta'].std()\n",
    "\n",
    "    # Range\n",
    "    beta_range = beta_df['beta'].max() - beta_df['beta'].min()\n",
    "\n",
    "    # Plotting\n",
    "    plt.figure(figsize=(10, 6))\n",
    "    sns.boxplot(data=beta_df, x='beta')\n",
    "    plt.title('Box Plot of Beta Values')\n",
    "    plt.show()\n",
    "\n",
    "    plt.figure(figsize=(10, 6))\n",
    "    sns.distplot(beta_df['beta'], bins=30)\n",
    "    plt.title('Distribution of Beta Values')\n",
    "    plt.show()\n",
    "\n",
    "    # Return the key metrics\n",
    "    return {\n",
    "        'Coefficient of Variation': cv,\n",
    "        'Beta Standard Deviation': beta_std,\n",
    "        'Beta Range': beta_range\n",
    "    }"
   ]
  },
  {
   "cell_type": "markdown",
   "id": "bd843d2b",
   "metadata": {},
   "source": [
    "# Pipeline to get beta for different tau and T:"
   ]
  },
  {
   "cell_type": "code",
   "execution_count": 11,
   "id": "d5ec5a88",
   "metadata": {
    "ExecuteTime": {
     "end_time": "2024-02-09T03:04:56.204318Z",
     "start_time": "2024-02-09T03:04:56.194669Z"
    }
   },
   "outputs": [],
   "source": [
    "def pipeline(trades, book, time_col='timestamp_utc_nanoseconds', size_col='SizeBillionths', sign_col='Side', trade_price_col = 'PriceMillionths', mid_price_col = 'Mid', tau = '10s', T = '5s', train_size=0.4):\n",
    "    # Step 1: Calculate trade flow\n",
    "    trades = trade_flow(trades, time_col='timestamp_utc_nanoseconds', size_col='SizeBillionths', sign_col='Side', tau = tau)\n",
    "    \n",
    "    # Step 2: Calculate T-second forward return\n",
    "    trades = T_second_forward_return(trades, book, trade_price_col = 'PriceMillionths', mid_price_col = 'Mid', time_col = 'timestamp_utc_nanoseconds', T = T)\n",
    "    \n",
    "    # Step 3: Split data into train and test\n",
    "    train, test = train_test_data(trades, train_size = train_size)\n",
    "    \n",
    "    # Step 4: Perform regression and get beta\n",
    "    beta, test_data, r_squared = regression(train, test, flow_col='trade_flow', return_col='T_second_forward_return')\n",
    "    \n",
    "    return beta\n"
   ]
  },
  {
   "cell_type": "markdown",
   "id": "dd3b8957",
   "metadata": {},
   "source": [
    "# 3. Analysis of ETH-BTC pair:"
   ]
  },
  {
   "cell_type": "markdown",
   "id": "ad95946f",
   "metadata": {},
   "source": [
    "Reading the trade and book data for ETH-BTC pair:"
   ]
  },
  {
   "cell_type": "code",
   "execution_count": 12,
   "id": "9e2def20",
   "metadata": {
    "ExecuteTime": {
     "end_time": "2024-02-09T03:04:56.238654Z",
     "start_time": "2024-02-09T03:04:56.208838Z"
    }
   },
   "outputs": [],
   "source": [
    "#Reading the trades data ETH-BTC\n",
    "trades_file_path = r'C:\\Users\\nihar\\Desktop\\QTS\\Week 4 Tick Level Data\\Assignment 4\\trades_narrow_ETH-BTC_2023.delim.gz'\n",
    "trades_ETH_BTC = pd.read_csv(trades_file_path, delimiter='\\t')"
   ]
  },
  {
   "cell_type": "code",
   "execution_count": 13,
   "id": "d2a89e61",
   "metadata": {
    "ExecuteTime": {
     "end_time": "2024-02-09T03:04:56.273995Z",
     "start_time": "2024-02-09T03:04:56.241667Z"
    }
   },
   "outputs": [
    {
     "data": {
      "text/html": [
       "<div>\n",
       "<style scoped>\n",
       "    .dataframe tbody tr th:only-of-type {\n",
       "        vertical-align: middle;\n",
       "    }\n",
       "\n",
       "    .dataframe tbody tr th {\n",
       "        vertical-align: top;\n",
       "    }\n",
       "\n",
       "    .dataframe thead th {\n",
       "        text-align: right;\n",
       "    }\n",
       "</style>\n",
       "<table border=\"1\" class=\"dataframe\">\n",
       "  <thead>\n",
       "    <tr style=\"text-align: right;\">\n",
       "      <th></th>\n",
       "      <th>received_utc_nanoseconds</th>\n",
       "      <th>timestamp_utc_nanoseconds</th>\n",
       "      <th>PriceMillionths</th>\n",
       "      <th>SizeBillionths</th>\n",
       "      <th>Side</th>\n",
       "    </tr>\n",
       "  </thead>\n",
       "  <tbody>\n",
       "    <tr>\n",
       "      <th>0</th>\n",
       "      <td>1674521345955989000</td>\n",
       "      <td>1674521346020758000</td>\n",
       "      <td>70950</td>\n",
       "      <td>259656510</td>\n",
       "      <td>1</td>\n",
       "    </tr>\n",
       "    <tr>\n",
       "      <th>1</th>\n",
       "      <td>1674521345984460000</td>\n",
       "      <td>1674521346050573000</td>\n",
       "      <td>70950</td>\n",
       "      <td>140800</td>\n",
       "      <td>1</td>\n",
       "    </tr>\n",
       "    <tr>\n",
       "      <th>2</th>\n",
       "      <td>1674521348097555000</td>\n",
       "      <td>1674521348159815000</td>\n",
       "      <td>70950</td>\n",
       "      <td>53582550</td>\n",
       "      <td>-1</td>\n",
       "    </tr>\n",
       "    <tr>\n",
       "      <th>3</th>\n",
       "      <td>1674521352535174000</td>\n",
       "      <td>1674521352601911000</td>\n",
       "      <td>70940</td>\n",
       "      <td>207220</td>\n",
       "      <td>-1</td>\n",
       "    </tr>\n",
       "    <tr>\n",
       "      <th>4</th>\n",
       "      <td>1674521546128872000</td>\n",
       "      <td>1674521546201920000</td>\n",
       "      <td>70950</td>\n",
       "      <td>990630</td>\n",
       "      <td>1</td>\n",
       "    </tr>\n",
       "  </tbody>\n",
       "</table>\n",
       "</div>"
      ],
      "text/plain": [
       "   received_utc_nanoseconds  timestamp_utc_nanoseconds  PriceMillionths  \\\n",
       "0       1674521345955989000        1674521346020758000            70950   \n",
       "1       1674521345984460000        1674521346050573000            70950   \n",
       "2       1674521348097555000        1674521348159815000            70950   \n",
       "3       1674521352535174000        1674521352601911000            70940   \n",
       "4       1674521546128872000        1674521546201920000            70950   \n",
       "\n",
       "   SizeBillionths  Side  \n",
       "0       259656510     1  \n",
       "1          140800     1  \n",
       "2        53582550    -1  \n",
       "3          207220    -1  \n",
       "4          990630     1  "
      ]
     },
     "execution_count": 13,
     "metadata": {},
     "output_type": "execute_result"
    }
   ],
   "source": [
    "trades_ETH_BTC.head()"
   ]
  },
  {
   "cell_type": "code",
   "execution_count": 14,
   "id": "64f38f9e",
   "metadata": {
    "ExecuteTime": {
     "end_time": "2024-02-09T03:04:56.286948Z",
     "start_time": "2024-02-09T03:04:56.277010Z"
    }
   },
   "outputs": [
    {
     "data": {
      "text/plain": [
       "(1958, 5)"
      ]
     },
     "execution_count": 14,
     "metadata": {},
     "output_type": "execute_result"
    }
   ],
   "source": [
    "trades_ETH_BTC.shape"
   ]
  },
  {
   "cell_type": "code",
   "execution_count": 15,
   "id": "95cdabd6",
   "metadata": {
    "ExecuteTime": {
     "end_time": "2024-02-09T03:04:56.873256Z",
     "start_time": "2024-02-09T03:04:56.289957Z"
    }
   },
   "outputs": [],
   "source": [
    "#Reading the book data ETH-BTC\n",
    "book_narrow_file_path = r'C:\\Users\\nihar\\Desktop\\QTS\\Week 4 Tick Level Data\\Assignment 4\\book_narrow_ETH-BTC_2023.delim.gz'\n",
    "book_narrow_ETH_BTC = pd.read_csv(book_narrow_file_path, delimiter='\\t')"
   ]
  },
  {
   "cell_type": "code",
   "execution_count": 16,
   "id": "6e065a47",
   "metadata": {
    "ExecuteTime": {
     "end_time": "2024-02-09T03:04:56.889297Z",
     "start_time": "2024-02-09T03:04:56.877272Z"
    }
   },
   "outputs": [
    {
     "data": {
      "text/plain": [
       "(216027, 11)"
      ]
     },
     "execution_count": 16,
     "metadata": {},
     "output_type": "execute_result"
    }
   ],
   "source": [
    "book_narrow_ETH_BTC.shape"
   ]
  },
  {
   "cell_type": "code",
   "execution_count": 17,
   "id": "70ec10f5",
   "metadata": {
    "ExecuteTime": {
     "end_time": "2024-02-09T03:04:56.961866Z",
     "start_time": "2024-02-09T03:04:56.895298Z"
    }
   },
   "outputs": [
    {
     "data": {
      "text/html": [
       "<div>\n",
       "<style scoped>\n",
       "    .dataframe tbody tr th:only-of-type {\n",
       "        vertical-align: middle;\n",
       "    }\n",
       "\n",
       "    .dataframe tbody tr th {\n",
       "        vertical-align: top;\n",
       "    }\n",
       "\n",
       "    .dataframe thead th {\n",
       "        text-align: right;\n",
       "    }\n",
       "</style>\n",
       "<table border=\"1\" class=\"dataframe\">\n",
       "  <thead>\n",
       "    <tr style=\"text-align: right;\">\n",
       "      <th></th>\n",
       "      <th>Ask1PriceMillionths</th>\n",
       "      <th>Bid1PriceMillionths</th>\n",
       "      <th>Ask1SizeBillionths</th>\n",
       "      <th>Bid1SizeBillionths</th>\n",
       "      <th>Ask2PriceMillionths</th>\n",
       "      <th>Bid2PriceMillionths</th>\n",
       "      <th>Ask2SizeBillionths</th>\n",
       "      <th>Bid2SizeBillionths</th>\n",
       "      <th>received_utc_nanoseconds</th>\n",
       "      <th>timestamp_utc_nanoseconds</th>\n",
       "      <th>Mid</th>\n",
       "    </tr>\n",
       "  </thead>\n",
       "  <tbody>\n",
       "    <tr>\n",
       "      <th>0</th>\n",
       "      <td>70970</td>\n",
       "      <td>70940</td>\n",
       "      <td>2297617430</td>\n",
       "      <td>48603840</td>\n",
       "      <td>70980</td>\n",
       "      <td>70930</td>\n",
       "      <td>13399602090</td>\n",
       "      <td>14206845420</td>\n",
       "      <td>1674521275893722000</td>\n",
       "      <td>1674521275066931000</td>\n",
       "      <td>70955.0</td>\n",
       "    </tr>\n",
       "    <tr>\n",
       "      <th>1</th>\n",
       "      <td>70970</td>\n",
       "      <td>70940</td>\n",
       "      <td>2297617430</td>\n",
       "      <td>48603840</td>\n",
       "      <td>70980</td>\n",
       "      <td>70930</td>\n",
       "      <td>13399602090</td>\n",
       "      <td>14206845420</td>\n",
       "      <td>1674521278094853200</td>\n",
       "      <td>1674521278159732000</td>\n",
       "      <td>70955.0</td>\n",
       "    </tr>\n",
       "    <tr>\n",
       "      <th>2</th>\n",
       "      <td>70970</td>\n",
       "      <td>70940</td>\n",
       "      <td>2297617430</td>\n",
       "      <td>48603840</td>\n",
       "      <td>70980</td>\n",
       "      <td>70930</td>\n",
       "      <td>13399602090</td>\n",
       "      <td>14996845420</td>\n",
       "      <td>1674521278106928800</td>\n",
       "      <td>1674521278171531000</td>\n",
       "      <td>70955.0</td>\n",
       "    </tr>\n",
       "    <tr>\n",
       "      <th>3</th>\n",
       "      <td>70970</td>\n",
       "      <td>70940</td>\n",
       "      <td>1507617430</td>\n",
       "      <td>48603840</td>\n",
       "      <td>70980</td>\n",
       "      <td>70930</td>\n",
       "      <td>10629602090</td>\n",
       "      <td>14996845420</td>\n",
       "      <td>1674521278108897000</td>\n",
       "      <td>1674521278173961000</td>\n",
       "      <td>70955.0</td>\n",
       "    </tr>\n",
       "    <tr>\n",
       "      <th>4</th>\n",
       "      <td>70970</td>\n",
       "      <td>70940</td>\n",
       "      <td>1507617430</td>\n",
       "      <td>48603840</td>\n",
       "      <td>70980</td>\n",
       "      <td>70930</td>\n",
       "      <td>10629602090</td>\n",
       "      <td>14996845420</td>\n",
       "      <td>1674521278122113000</td>\n",
       "      <td>1674521278183694000</td>\n",
       "      <td>70955.0</td>\n",
       "    </tr>\n",
       "  </tbody>\n",
       "</table>\n",
       "</div>"
      ],
      "text/plain": [
       "   Ask1PriceMillionths  Bid1PriceMillionths  Ask1SizeBillionths  \\\n",
       "0                70970                70940          2297617430   \n",
       "1                70970                70940          2297617430   \n",
       "2                70970                70940          2297617430   \n",
       "3                70970                70940          1507617430   \n",
       "4                70970                70940          1507617430   \n",
       "\n",
       "   Bid1SizeBillionths  Ask2PriceMillionths  Bid2PriceMillionths  \\\n",
       "0            48603840                70980                70930   \n",
       "1            48603840                70980                70930   \n",
       "2            48603840                70980                70930   \n",
       "3            48603840                70980                70930   \n",
       "4            48603840                70980                70930   \n",
       "\n",
       "   Ask2SizeBillionths  Bid2SizeBillionths  received_utc_nanoseconds  \\\n",
       "0         13399602090         14206845420       1674521275893722000   \n",
       "1         13399602090         14206845420       1674521278094853200   \n",
       "2         13399602090         14996845420       1674521278106928800   \n",
       "3         10629602090         14996845420       1674521278108897000   \n",
       "4         10629602090         14996845420       1674521278122113000   \n",
       "\n",
       "   timestamp_utc_nanoseconds      Mid  \n",
       "0        1674521275066931000  70955.0  \n",
       "1        1674521278159732000  70955.0  \n",
       "2        1674521278171531000  70955.0  \n",
       "3        1674521278173961000  70955.0  \n",
       "4        1674521278183694000  70955.0  "
      ]
     },
     "execution_count": 17,
     "metadata": {},
     "output_type": "execute_result"
    }
   ],
   "source": [
    "book_narrow_ETH_BTC.head()"
   ]
  },
  {
   "cell_type": "markdown",
   "id": "e6b1a212",
   "metadata": {},
   "source": [
    "Sorting the datasets by timestamps and remove the duplicates by keeping the latest value:"
   ]
  },
  {
   "cell_type": "code",
   "execution_count": 18,
   "id": "7d9f5a8e",
   "metadata": {
    "ExecuteTime": {
     "end_time": "2024-02-09T03:04:56.979117Z",
     "start_time": "2024-02-09T03:04:56.966026Z"
    }
   },
   "outputs": [],
   "source": [
    "# Sort by 'timestamp_utc_nanoseconds' in descending order to ensure the latest entries are first\n",
    "trades_ETH_BTC.sort_values(by='timestamp_utc_nanoseconds', ascending=False, inplace=True)\n",
    "\n",
    "trades_ETH_BTC.drop_duplicates(subset=['timestamp_utc_nanoseconds'], keep='first', inplace=True)\n",
    "\n",
    "trades_ETH_BTC.sort_values(by='timestamp_utc_nanoseconds', ascending=True, inplace=True)\n"
   ]
  },
  {
   "cell_type": "markdown",
   "id": "717fbd0a",
   "metadata": {},
   "source": [
    "# Calling the trade flow function to calculate trade flow for ETH-BTC pair:"
   ]
  },
  {
   "cell_type": "code",
   "execution_count": 19,
   "id": "273ae792",
   "metadata": {
    "ExecuteTime": {
     "end_time": "2024-02-09T03:04:56.995369Z",
     "start_time": "2024-02-09T03:04:56.982290Z"
    }
   },
   "outputs": [],
   "source": [
    "trades_ETH_BTC = trade_flow(trades_ETH_BTC,  time_col='timestamp_utc_nanoseconds', size_col='SizeBillionths', sign_col='Side', tau='60s')"
   ]
  },
  {
   "cell_type": "markdown",
   "id": "56c1ae9c",
   "metadata": {},
   "source": [
    "# Calculating the T-second forward returns:"
   ]
  },
  {
   "cell_type": "code",
   "execution_count": 20,
   "id": "85fd94ee",
   "metadata": {
    "ExecuteTime": {
     "end_time": "2024-02-09T03:04:57.049715Z",
     "start_time": "2024-02-09T03:04:56.999384Z"
    }
   },
   "outputs": [],
   "source": [
    "trades_ETH_BTC = T_second_forward_return(trades_ETH_BTC, book_narrow_ETH_BTC, trade_price_col = 'PriceMillionths', mid_price_col = 'Mid', time_col = 'timestamp_utc_nanoseconds', T = '50s')"
   ]
  },
  {
   "cell_type": "code",
   "execution_count": 21,
   "id": "17f70e1d",
   "metadata": {
    "ExecuteTime": {
     "end_time": "2024-02-09T03:04:57.064043Z",
     "start_time": "2024-02-09T03:04:57.054112Z"
    }
   },
   "outputs": [
    {
     "data": {
      "text/plain": [
       "(1844, 8)"
      ]
     },
     "execution_count": 21,
     "metadata": {},
     "output_type": "execute_result"
    }
   ],
   "source": [
    "trades_ETH_BTC.shape"
   ]
  },
  {
   "cell_type": "code",
   "execution_count": 22,
   "id": "7260c41d",
   "metadata": {
    "ExecuteTime": {
     "end_time": "2024-02-09T03:04:57.089160Z",
     "start_time": "2024-02-09T03:04:57.069054Z"
    }
   },
   "outputs": [
    {
     "data": {
      "text/html": [
       "<div>\n",
       "<style scoped>\n",
       "    .dataframe tbody tr th:only-of-type {\n",
       "        vertical-align: middle;\n",
       "    }\n",
       "\n",
       "    .dataframe tbody tr th {\n",
       "        vertical-align: top;\n",
       "    }\n",
       "\n",
       "    .dataframe thead th {\n",
       "        text-align: right;\n",
       "    }\n",
       "</style>\n",
       "<table border=\"1\" class=\"dataframe\">\n",
       "  <thead>\n",
       "    <tr style=\"text-align: right;\">\n",
       "      <th></th>\n",
       "      <th>received_utc_nanoseconds</th>\n",
       "      <th>timestamp_utc_nanoseconds</th>\n",
       "      <th>PriceMillionths</th>\n",
       "      <th>SizeBillionths</th>\n",
       "      <th>Side</th>\n",
       "      <th>cum_size_billionths</th>\n",
       "      <th>trade_flow</th>\n",
       "      <th>T_second_forward_return</th>\n",
       "    </tr>\n",
       "  </thead>\n",
       "  <tbody>\n",
       "    <tr>\n",
       "      <th>0</th>\n",
       "      <td>1674521345955989000</td>\n",
       "      <td>1674521346020758000</td>\n",
       "      <td>70950</td>\n",
       "      <td>259656510</td>\n",
       "      <td>1</td>\n",
       "      <td>259656510</td>\n",
       "      <td>NaN</td>\n",
       "      <td>-0.000070</td>\n",
       "    </tr>\n",
       "    <tr>\n",
       "      <th>1</th>\n",
       "      <td>1674521345984460000</td>\n",
       "      <td>1674521346050573000</td>\n",
       "      <td>70950</td>\n",
       "      <td>140800</td>\n",
       "      <td>1</td>\n",
       "      <td>140800</td>\n",
       "      <td>0.259657</td>\n",
       "      <td>-0.000070</td>\n",
       "    </tr>\n",
       "    <tr>\n",
       "      <th>2</th>\n",
       "      <td>1674521348097555000</td>\n",
       "      <td>1674521348159815000</td>\n",
       "      <td>70950</td>\n",
       "      <td>53582550</td>\n",
       "      <td>-1</td>\n",
       "      <td>-53582550</td>\n",
       "      <td>0.259797</td>\n",
       "      <td>-0.000070</td>\n",
       "    </tr>\n",
       "    <tr>\n",
       "      <th>3</th>\n",
       "      <td>1674521352535174000</td>\n",
       "      <td>1674521352601911000</td>\n",
       "      <td>70940</td>\n",
       "      <td>207220</td>\n",
       "      <td>-1</td>\n",
       "      <td>-207220</td>\n",
       "      <td>0.206215</td>\n",
       "      <td>0.000070</td>\n",
       "    </tr>\n",
       "    <tr>\n",
       "      <th>4</th>\n",
       "      <td>1674521546128872000</td>\n",
       "      <td>1674521546201920000</td>\n",
       "      <td>70950</td>\n",
       "      <td>990630</td>\n",
       "      <td>1</td>\n",
       "      <td>990630</td>\n",
       "      <td>NaN</td>\n",
       "      <td>0.000141</td>\n",
       "    </tr>\n",
       "  </tbody>\n",
       "</table>\n",
       "</div>"
      ],
      "text/plain": [
       "   received_utc_nanoseconds  timestamp_utc_nanoseconds  PriceMillionths  \\\n",
       "0       1674521345955989000        1674521346020758000            70950   \n",
       "1       1674521345984460000        1674521346050573000            70950   \n",
       "2       1674521348097555000        1674521348159815000            70950   \n",
       "3       1674521352535174000        1674521352601911000            70940   \n",
       "4       1674521546128872000        1674521546201920000            70950   \n",
       "\n",
       "   SizeBillionths  Side  cum_size_billionths  trade_flow  \\\n",
       "0       259656510     1            259656510         NaN   \n",
       "1          140800     1               140800    0.259657   \n",
       "2        53582550    -1            -53582550    0.259797   \n",
       "3          207220    -1              -207220    0.206215   \n",
       "4          990630     1               990630         NaN   \n",
       "\n",
       "   T_second_forward_return  \n",
       "0                -0.000070  \n",
       "1                -0.000070  \n",
       "2                -0.000070  \n",
       "3                 0.000070  \n",
       "4                 0.000141  "
      ]
     },
     "execution_count": 22,
     "metadata": {},
     "output_type": "execute_result"
    }
   ],
   "source": [
    "trades_ETH_BTC.head()"
   ]
  },
  {
   "cell_type": "markdown",
   "id": "5d6129db",
   "metadata": {},
   "source": [
    "# Looking at the data to check for nan values before regression:"
   ]
  },
  {
   "cell_type": "code",
   "execution_count": 23,
   "id": "74f82e78",
   "metadata": {
    "ExecuteTime": {
     "end_time": "2024-02-09T03:04:57.119133Z",
     "start_time": "2024-02-09T03:04:57.092843Z"
    }
   },
   "outputs": [
    {
     "name": "stdout",
     "output_type": "stream",
     "text": [
      "<class 'pandas.core.frame.DataFrame'>\n",
      "RangeIndex: 1844 entries, 0 to 1843\n",
      "Data columns (total 8 columns):\n",
      " #   Column                     Non-Null Count  Dtype  \n",
      "---  ------                     --------------  -----  \n",
      " 0   received_utc_nanoseconds   1844 non-null   int64  \n",
      " 1   timestamp_utc_nanoseconds  1844 non-null   int64  \n",
      " 2   PriceMillionths            1844 non-null   int64  \n",
      " 3   SizeBillionths             1844 non-null   int64  \n",
      " 4   Side                       1844 non-null   int64  \n",
      " 5   cum_size_billionths        1844 non-null   int64  \n",
      " 6   trade_flow                 1574 non-null   float64\n",
      " 7   T_second_forward_return    1844 non-null   float64\n",
      "dtypes: float64(2), int64(6)\n",
      "memory usage: 115.4 KB\n"
     ]
    }
   ],
   "source": [
    "trades_ETH_BTC.info()"
   ]
  },
  {
   "cell_type": "code",
   "execution_count": 24,
   "id": "ac808c72",
   "metadata": {
    "ExecuteTime": {
     "end_time": "2024-02-09T03:04:57.743072Z",
     "start_time": "2024-02-09T03:04:57.124078Z"
    }
   },
   "outputs": [
    {
     "data": {
      "image/png": "[encoded data removed]",
      "text/plain": [
       "<Figure size 1000x600 with 1 Axes>"
      ]
     },
     "metadata": {},
     "output_type": "display_data"
    }
   ],
   "source": [
    "plt.figure(figsize=(10, 6))\n",
    "plt.hist(trades_ETH_BTC['trade_flow'].dropna(), bins=50, alpha=0.7)\n",
    "plt.title('Distribution of trade_flow')\n",
    "plt.xlabel('trade_flow')\n",
    "plt.ylabel('Frequency')\n",
    "plt.grid(True)\n",
    "plt.show()"
   ]
  },
  {
   "cell_type": "markdown",
   "id": "4d764e8c",
   "metadata": {},
   "source": [
    "Fill the nan values for trade flow by keeping the distribution of trade flow the same:"
   ]
  },
  {
   "cell_type": "code",
   "execution_count": 25,
   "id": "b88370d3",
   "metadata": {
    "ExecuteTime": {
     "end_time": "2024-02-09T03:04:57.752838Z",
     "start_time": "2024-02-09T03:04:57.745910Z"
    }
   },
   "outputs": [],
   "source": [
    "# Fill NaN values in 'trade_flow' with the median value\n",
    "median_flow = trades_ETH_BTC['trade_flow'].median()\n",
    "trades_ETH_BTC['trade_flow'].fillna(median_flow, inplace=True)"
   ]
  },
  {
   "cell_type": "code",
   "execution_count": 26,
   "id": "6fe9e08a",
   "metadata": {
    "ExecuteTime": {
     "end_time": "2024-02-09T03:04:57.810063Z",
     "start_time": "2024-02-09T03:04:57.756073Z"
    }
   },
   "outputs": [
    {
     "data": {
      "text/html": [
       "<div>\n",
       "<style scoped>\n",
       "    .dataframe tbody tr th:only-of-type {\n",
       "        vertical-align: middle;\n",
       "    }\n",
       "\n",
       "    .dataframe tbody tr th {\n",
       "        vertical-align: top;\n",
       "    }\n",
       "\n",
       "    .dataframe thead th {\n",
       "        text-align: right;\n",
       "    }\n",
       "</style>\n",
       "<table border=\"1\" class=\"dataframe\">\n",
       "  <thead>\n",
       "    <tr style=\"text-align: right;\">\n",
       "      <th></th>\n",
       "      <th>received_utc_nanoseconds</th>\n",
       "      <th>timestamp_utc_nanoseconds</th>\n",
       "      <th>PriceMillionths</th>\n",
       "      <th>SizeBillionths</th>\n",
       "      <th>Side</th>\n",
       "      <th>cum_size_billionths</th>\n",
       "      <th>trade_flow</th>\n",
       "      <th>T_second_forward_return</th>\n",
       "    </tr>\n",
       "  </thead>\n",
       "  <tbody>\n",
       "    <tr>\n",
       "      <th>count</th>\n",
       "      <td>1.844000e+03</td>\n",
       "      <td>1.844000e+03</td>\n",
       "      <td>1844.000000</td>\n",
       "      <td>1.844000e+03</td>\n",
       "      <td>1844.000000</td>\n",
       "      <td>1.844000e+03</td>\n",
       "      <td>1844.000000</td>\n",
       "      <td>1844.000000</td>\n",
       "    </tr>\n",
       "    <tr>\n",
       "      <th>mean</th>\n",
       "      <td>1.674591e+18</td>\n",
       "      <td>1.674591e+18</td>\n",
       "      <td>69645.151844</td>\n",
       "      <td>7.840369e+08</td>\n",
       "      <td>-0.068872</td>\n",
       "      <td>6.070004e+07</td>\n",
       "      <td>-2.253765</td>\n",
       "      <td>0.000256</td>\n",
       "    </tr>\n",
       "    <tr>\n",
       "      <th>std</th>\n",
       "      <td>3.928364e+13</td>\n",
       "      <td>3.928363e+13</td>\n",
       "      <td>1115.777702</td>\n",
       "      <td>1.833362e+09</td>\n",
       "      <td>1.494837</td>\n",
       "      <td>1.993132e+09</td>\n",
       "      <td>24.779757</td>\n",
       "      <td>0.000880</td>\n",
       "    </tr>\n",
       "    <tr>\n",
       "      <th>min</th>\n",
       "      <td>1.674521e+18</td>\n",
       "      <td>1.674521e+18</td>\n",
       "      <td>68220.000000</td>\n",
       "      <td>1.000000e+01</td>\n",
       "      <td>-12.000000</td>\n",
       "      <td>-1.801439e+10</td>\n",
       "      <td>-117.129680</td>\n",
       "      <td>-0.002354</td>\n",
       "    </tr>\n",
       "    <tr>\n",
       "      <th>25%</th>\n",
       "      <td>1.674566e+18</td>\n",
       "      <td>1.674566e+18</td>\n",
       "      <td>68440.000000</td>\n",
       "      <td>2.000000e+07</td>\n",
       "      <td>-1.000000</td>\n",
       "      <td>-8.285059e+07</td>\n",
       "      <td>-0.959172</td>\n",
       "      <td>-0.000142</td>\n",
       "    </tr>\n",
       "    <tr>\n",
       "      <th>50%</th>\n",
       "      <td>1.674597e+18</td>\n",
       "      <td>1.674597e+18</td>\n",
       "      <td>69780.000000</td>\n",
       "      <td>8.335000e+07</td>\n",
       "      <td>1.000000</td>\n",
       "      <td>3.165000e+03</td>\n",
       "      <td>-0.000230</td>\n",
       "      <td>0.000071</td>\n",
       "    </tr>\n",
       "    <tr>\n",
       "      <th>75%</th>\n",
       "      <td>1.674622e+18</td>\n",
       "      <td>1.674622e+18</td>\n",
       "      <td>70760.000000</td>\n",
       "      <td>8.000000e+08</td>\n",
       "      <td>1.000000</td>\n",
       "      <td>8.375286e+07</td>\n",
       "      <td>0.655033</td>\n",
       "      <td>0.000364</td>\n",
       "    </tr>\n",
       "    <tr>\n",
       "      <th>max</th>\n",
       "      <td>1.674659e+18</td>\n",
       "      <td>1.674659e+18</td>\n",
       "      <td>71130.000000</td>\n",
       "      <td>1.801439e+10</td>\n",
       "      <td>6.000000</td>\n",
       "      <td>1.690000e+10</td>\n",
       "      <td>132.766599</td>\n",
       "      <td>0.004164</td>\n",
       "    </tr>\n",
       "  </tbody>\n",
       "</table>\n",
       "</div>"
      ],
      "text/plain": [
       "       received_utc_nanoseconds  timestamp_utc_nanoseconds  PriceMillionths  \\\n",
       "count              1.844000e+03               1.844000e+03      1844.000000   \n",
       "mean               1.674591e+18               1.674591e+18     69645.151844   \n",
       "std                3.928364e+13               3.928363e+13      1115.777702   \n",
       "min                1.674521e+18               1.674521e+18     68220.000000   \n",
       "25%                1.674566e+18               1.674566e+18     68440.000000   \n",
       "50%                1.674597e+18               1.674597e+18     69780.000000   \n",
       "75%                1.674622e+18               1.674622e+18     70760.000000   \n",
       "max                1.674659e+18               1.674659e+18     71130.000000   \n",
       "\n",
       "       SizeBillionths         Side  cum_size_billionths   trade_flow  \\\n",
       "count    1.844000e+03  1844.000000         1.844000e+03  1844.000000   \n",
       "mean     7.840369e+08    -0.068872         6.070004e+07    -2.253765   \n",
       "std      1.833362e+09     1.494837         1.993132e+09    24.779757   \n",
       "min      1.000000e+01   -12.000000        -1.801439e+10  -117.129680   \n",
       "25%      2.000000e+07    -1.000000        -8.285059e+07    -0.959172   \n",
       "50%      8.335000e+07     1.000000         3.165000e+03    -0.000230   \n",
       "75%      8.000000e+08     1.000000         8.375286e+07     0.655033   \n",
       "max      1.801439e+10     6.000000         1.690000e+10   132.766599   \n",
       "\n",
       "       T_second_forward_return  \n",
       "count              1844.000000  \n",
       "mean                  0.000256  \n",
       "std                   0.000880  \n",
       "min                  -0.002354  \n",
       "25%                  -0.000142  \n",
       "50%                   0.000071  \n",
       "75%                   0.000364  \n",
       "max                   0.004164  "
      ]
     },
     "execution_count": 26,
     "metadata": {},
     "output_type": "execute_result"
    }
   ],
   "source": [
    "trades_ETH_BTC.describe()"
   ]
  },
  {
   "cell_type": "markdown",
   "id": "b2322345",
   "metadata": {},
   "source": [
    "Splitting the dataset into training and test data:"
   ]
  },
  {
   "cell_type": "code",
   "execution_count": 27,
   "id": "8f68f141",
   "metadata": {
    "ExecuteTime": {
     "end_time": "2024-02-09T03:04:57.819527Z",
     "start_time": "2024-02-09T03:04:57.813878Z"
    }
   },
   "outputs": [],
   "source": [
    "train_ETH_BTC, test_ETH_BTC = train_test_data(trades_ETH_BTC, train_size=0.4)"
   ]
  },
  {
   "cell_type": "code",
   "execution_count": 28,
   "id": "52de094b",
   "metadata": {
    "ExecuteTime": {
     "end_time": "2024-02-09T03:04:57.844204Z",
     "start_time": "2024-02-09T03:04:57.829196Z"
    },
    "scrolled": true
   },
   "outputs": [
    {
     "data": {
      "text/html": [
       "<div>\n",
       "<style scoped>\n",
       "    .dataframe tbody tr th:only-of-type {\n",
       "        vertical-align: middle;\n",
       "    }\n",
       "\n",
       "    .dataframe tbody tr th {\n",
       "        vertical-align: top;\n",
       "    }\n",
       "\n",
       "    .dataframe thead th {\n",
       "        text-align: right;\n",
       "    }\n",
       "</style>\n",
       "<table border=\"1\" class=\"dataframe\">\n",
       "  <thead>\n",
       "    <tr style=\"text-align: right;\">\n",
       "      <th></th>\n",
       "      <th>received_utc_nanoseconds</th>\n",
       "      <th>timestamp_utc_nanoseconds</th>\n",
       "      <th>PriceMillionths</th>\n",
       "      <th>SizeBillionths</th>\n",
       "      <th>Side</th>\n",
       "      <th>cum_size_billionths</th>\n",
       "      <th>trade_flow</th>\n",
       "      <th>T_second_forward_return</th>\n",
       "    </tr>\n",
       "  </thead>\n",
       "  <tbody>\n",
       "    <tr>\n",
       "      <th>0</th>\n",
       "      <td>1674521345955989000</td>\n",
       "      <td>1674521346020758000</td>\n",
       "      <td>70950</td>\n",
       "      <td>259656510</td>\n",
       "      <td>1</td>\n",
       "      <td>259656510</td>\n",
       "      <td>-0.000230</td>\n",
       "      <td>-0.000070</td>\n",
       "    </tr>\n",
       "    <tr>\n",
       "      <th>1</th>\n",
       "      <td>1674521345984460000</td>\n",
       "      <td>1674521346050573000</td>\n",
       "      <td>70950</td>\n",
       "      <td>140800</td>\n",
       "      <td>1</td>\n",
       "      <td>140800</td>\n",
       "      <td>0.259657</td>\n",
       "      <td>-0.000070</td>\n",
       "    </tr>\n",
       "    <tr>\n",
       "      <th>2</th>\n",
       "      <td>1674521348097555000</td>\n",
       "      <td>1674521348159815000</td>\n",
       "      <td>70950</td>\n",
       "      <td>53582550</td>\n",
       "      <td>-1</td>\n",
       "      <td>-53582550</td>\n",
       "      <td>0.259797</td>\n",
       "      <td>-0.000070</td>\n",
       "    </tr>\n",
       "    <tr>\n",
       "      <th>3</th>\n",
       "      <td>1674521352535174000</td>\n",
       "      <td>1674521352601911000</td>\n",
       "      <td>70940</td>\n",
       "      <td>207220</td>\n",
       "      <td>-1</td>\n",
       "      <td>-207220</td>\n",
       "      <td>0.206215</td>\n",
       "      <td>0.000070</td>\n",
       "    </tr>\n",
       "    <tr>\n",
       "      <th>4</th>\n",
       "      <td>1674521546128872000</td>\n",
       "      <td>1674521546201920000</td>\n",
       "      <td>70950</td>\n",
       "      <td>990630</td>\n",
       "      <td>1</td>\n",
       "      <td>990630</td>\n",
       "      <td>-0.000230</td>\n",
       "      <td>0.000141</td>\n",
       "    </tr>\n",
       "  </tbody>\n",
       "</table>\n",
       "</div>"
      ],
      "text/plain": [
       "   received_utc_nanoseconds  timestamp_utc_nanoseconds  PriceMillionths  \\\n",
       "0       1674521345955989000        1674521346020758000            70950   \n",
       "1       1674521345984460000        1674521346050573000            70950   \n",
       "2       1674521348097555000        1674521348159815000            70950   \n",
       "3       1674521352535174000        1674521352601911000            70940   \n",
       "4       1674521546128872000        1674521546201920000            70950   \n",
       "\n",
       "   SizeBillionths  Side  cum_size_billionths  trade_flow  \\\n",
       "0       259656510     1            259656510   -0.000230   \n",
       "1          140800     1               140800    0.259657   \n",
       "2        53582550    -1            -53582550    0.259797   \n",
       "3          207220    -1              -207220    0.206215   \n",
       "4          990630     1               990630   -0.000230   \n",
       "\n",
       "   T_second_forward_return  \n",
       "0                -0.000070  \n",
       "1                -0.000070  \n",
       "2                -0.000070  \n",
       "3                 0.000070  \n",
       "4                 0.000141  "
      ]
     },
     "execution_count": 28,
     "metadata": {},
     "output_type": "execute_result"
    }
   ],
   "source": [
    "train_ETH_BTC.head()"
   ]
  },
  {
   "cell_type": "markdown",
   "id": "44fe5889",
   "metadata": {},
   "source": [
    "Checking for percentage for training and test data:"
   ]
  },
  {
   "cell_type": "code",
   "execution_count": 29,
   "id": "a409c842",
   "metadata": {
    "ExecuteTime": {
     "end_time": "2024-02-09T03:04:57.854876Z",
     "start_time": "2024-02-09T03:04:57.848846Z"
    }
   },
   "outputs": [
    {
     "name": "stdout",
     "output_type": "stream",
     "text": [
      "Training set length: 737\n",
      "Testing set length: 1107\n"
     ]
    }
   ],
   "source": [
    "print(f\"Training set length: {len(train_ETH_BTC)}\")\n",
    "print(f\"Testing set length: {len(test_ETH_BTC)}\")"
   ]
  },
  {
   "cell_type": "markdown",
   "id": "4199b761",
   "metadata": {},
   "source": [
    "# Calling the regression function:"
   ]
  },
  {
   "cell_type": "code",
   "execution_count": 30,
   "id": "9047ea00",
   "metadata": {
    "ExecuteTime": {
     "end_time": "2024-02-09T03:04:57.887891Z",
     "start_time": "2024-02-09T03:04:57.860346Z"
    }
   },
   "outputs": [],
   "source": [
    "beta_ETH_BTC, test_pred_ETH_BTC, r2_ETH_BTC = regression(train_ETH_BTC, test_ETH_BTC, flow_col='trade_flow', return_col='T_second_forward_return')"
   ]
  },
  {
   "cell_type": "code",
   "execution_count": 31,
   "id": "6589ce0e",
   "metadata": {
    "ExecuteTime": {
     "end_time": "2024-02-09T03:04:57.897650Z",
     "start_time": "2024-02-09T03:04:57.891183Z"
    }
   },
   "outputs": [
    {
     "data": {
      "text/plain": [
       "0.06812621504757288"
      ]
     },
     "execution_count": 31,
     "metadata": {},
     "output_type": "execute_result"
    }
   ],
   "source": [
    "r2_ETH_BTC"
   ]
  },
  {
   "cell_type": "code",
   "execution_count": 32,
   "id": "ff709125",
   "metadata": {
    "ExecuteTime": {
     "end_time": "2024-02-09T03:04:57.909072Z",
     "start_time": "2024-02-09T03:04:57.901866Z"
    }
   },
   "outputs": [
    {
     "data": {
      "text/plain": [
       "2.546613919319768e-06"
      ]
     },
     "execution_count": 32,
     "metadata": {},
     "output_type": "execute_result"
    }
   ],
   "source": [
    "beta_ETH_BTC"
   ]
  },
  {
   "cell_type": "markdown",
   "id": "49b460ad",
   "metadata": {},
   "source": [
    "# Calculate beta for various tau and T pairs:"
   ]
  },
  {
   "cell_type": "code",
   "execution_count": 33,
   "id": "8fa97042",
   "metadata": {
    "ExecuteTime": {
     "end_time": "2024-02-09T03:04:57.920059Z",
     "start_time": "2024-02-09T03:04:57.912083Z"
    }
   },
   "outputs": [],
   "source": [
    "tau_T_pairs = [('5s', '1s'), ('10s', '5s'), ('15s', '10s'), ('20s', '15s'), ('25s', '20s'), ('30s', '25s'), ('35s', '30s'), ('40s', '30s'), ('50s', '40s'), ('60s', '50s'), ('100s', '80s')]"
   ]
  },
  {
   "cell_type": "code",
   "execution_count": 34,
   "id": "45c9c7a0",
   "metadata": {
    "ExecuteTime": {
     "end_time": "2024-02-09T03:04:58.467377Z",
     "start_time": "2024-02-09T03:04:57.923071Z"
    }
   },
   "outputs": [],
   "source": [
    "beta_values = {}\n",
    "\n",
    "# Loop through each pair of tau and T\n",
    "for tau, T in tau_T_pairs:\n",
    "    beta = pipeline(trades_ETH_BTC, book_narrow_ETH_BTC, \n",
    "                    time_col='timestamp_utc_nanoseconds',\n",
    "                    size_col='SizeBillionths', \n",
    "                    sign_col='Side', \n",
    "                    trade_price_col='PriceMillionths', \n",
    "                    mid_price_col='Mid', \n",
    "                    tau=tau, T=T, \n",
    "                    train_size=0.4)\n",
    "    # Store the beta value in the dictionary\n",
    "    beta_values[(tau, T)] = beta"
   ]
  },
  {
   "cell_type": "code",
   "execution_count": 35,
   "id": "23b57945",
   "metadata": {
    "ExecuteTime": {
     "end_time": "2024-02-09T03:04:58.491307Z",
     "start_time": "2024-02-09T03:04:58.472392Z"
    }
   },
   "outputs": [
    {
     "name": "stdout",
     "output_type": "stream",
     "text": [
      "     tau    T          beta\n",
      "0     5s   1s -2.962279e-07\n",
      "1    10s   5s  7.247079e-07\n",
      "2    15s  10s  3.779859e-07\n",
      "3    20s  15s  6.386201e-07\n",
      "4    25s  20s  9.959871e-07\n",
      "5    30s  25s  1.356218e-06\n",
      "6    35s  30s  1.836970e-06\n",
      "7    40s  30s  1.428171e-06\n",
      "8    50s  40s  1.615880e-06\n",
      "9    60s  50s  2.546615e-06\n",
      "10  100s  80s  1.105718e-06\n"
     ]
    }
   ],
   "source": [
    "beta_records = [{'tau': tau, 'T': T, 'beta': beta} for (tau, T), beta in beta_values.items()]\n",
    "\n",
    "# Create a DataFrame\n",
    "beta_df = pd.DataFrame(beta_records)\n",
    "\n",
    "# Display the DataFrame\n",
    "print(beta_df)\n"
   ]
  },
  {
   "cell_type": "markdown",
   "id": "7a9ac203",
   "metadata": {},
   "source": [
    "For various pairs of tau and T beta has been calculated and we can see that beta increase as we increase the trading interval and T-second and then decrease after some value."
   ]
  },
  {
   "cell_type": "markdown",
   "id": "e55d2340",
   "metadata": {},
   "source": [
    "# Looking at the reliability and stability of beta:"
   ]
  },
  {
   "cell_type": "code",
   "execution_count": 36,
   "id": "5dcc256b",
   "metadata": {
    "ExecuteTime": {
     "end_time": "2024-02-09T03:04:59.245724Z",
     "start_time": "2024-02-09T03:04:58.497429Z"
    }
   },
   "outputs": [
    {
     "data": {
      "image/png": "[encoded data removed]",
      "text/plain": [
       "<Figure size 1000x600 with 1 Axes>"
      ]
     },
     "metadata": {},
     "output_type": "display_data"
    },
    {
     "data": {
      "image/png": "[encoded data removed]",
      "text/plain": [
       "<Figure size 1000x600 with 1 Axes>"
      ]
     },
     "metadata": {},
     "output_type": "display_data"
    },
    {
     "name": "stdout",
     "output_type": "stream",
     "text": [
      "{'Coefficient of Variation': 0.6855603291589328, 'Beta Standard Deviation': 7.684910547474148e-07, 'Beta Range': 2.8428431530115424e-06}\n"
     ]
    }
   ],
   "source": [
    "rel_stab_beta = analyze_beta_stability(beta_df)\n",
    "print(rel_stab_beta)"
   ]
  },
  {
   "cell_type": "markdown",
   "id": "ea4d6c96",
   "metadata": {},
   "source": [
    "# Various beta for different training sizes by considering best tau and T:"
   ]
  },
  {
   "cell_type": "code",
   "execution_count": 37,
   "id": "018d2791",
   "metadata": {
    "ExecuteTime": {
     "end_time": "2024-02-09T03:04:59.815125Z",
     "start_time": "2024-02-09T03:04:59.249305Z"
    }
   },
   "outputs": [
    {
     "data": {
      "image/png": "[encoded data removed]",
      "text/plain": [
       "<Figure size 1000x600 with 1 Axes>"
      ]
     },
     "metadata": {},
     "output_type": "display_data"
    }
   ],
   "source": [
    "best_tau = '60s'\n",
    "best_T = '50s'\n",
    "\n",
    "# Define the range of training sizes\n",
    "train_sizes = [0.4, 0.5, 0.6, 0.7, 0.8]\n",
    "\n",
    "# Initialize an empty list to store the results\n",
    "beta_values = []\n",
    "\n",
    "# Loop over the training sizes\n",
    "for train_size in train_sizes:\n",
    "    beta = pipeline(trades_ETH_BTC, book_narrow_ETH_BTC, \n",
    "                    time_col='timestamp_utc_nanoseconds',\n",
    "                    size_col='SizeBillionths', \n",
    "                    sign_col='Side', \n",
    "                    trade_price_col='PriceMillionths', \n",
    "                    mid_price_col='Mid', \n",
    "                    tau=best_tau, T=best_T, \n",
    "                    train_size=train_size)\n",
    "    beta_values.append(beta)\n",
    "\n",
    "# Plotting\n",
    "plt.figure(figsize=(10, 6))\n",
    "plt.plot(train_sizes, beta_values, marker='o')\n",
    "plt.title('Beta Values for Different Training Sizes')\n",
    "plt.xlabel('Training Size')\n",
    "plt.ylabel('Beta Value')\n",
    "plt.xticks(train_sizes)\n",
    "plt.grid(True)\n",
    "plt.show()"
   ]
  },
  {
   "cell_type": "markdown",
   "id": "d83a7f68",
   "metadata": {},
   "source": [
    "We can see from the plot that the beta value increases as we increase the training dataset size."
   ]
  },
  {
   "cell_type": "markdown",
   "id": "410b9388",
   "metadata": {},
   "source": [
    "# Look at the return prediction from the regression function:"
   ]
  },
  {
   "cell_type": "code",
   "execution_count": 38,
   "id": "328ff189",
   "metadata": {
    "ExecuteTime": {
     "end_time": "2024-02-09T03:04:59.843066Z",
     "start_time": "2024-02-09T03:04:59.819614Z"
    }
   },
   "outputs": [
    {
     "data": {
      "text/html": [
       "<div>\n",
       "<style scoped>\n",
       "    .dataframe tbody tr th:only-of-type {\n",
       "        vertical-align: middle;\n",
       "    }\n",
       "\n",
       "    .dataframe tbody tr th {\n",
       "        vertical-align: top;\n",
       "    }\n",
       "\n",
       "    .dataframe thead th {\n",
       "        text-align: right;\n",
       "    }\n",
       "</style>\n",
       "<table border=\"1\" class=\"dataframe\">\n",
       "  <thead>\n",
       "    <tr style=\"text-align: right;\">\n",
       "      <th></th>\n",
       "      <th>received_utc_nanoseconds</th>\n",
       "      <th>timestamp_utc_nanoseconds</th>\n",
       "      <th>PriceMillionths</th>\n",
       "      <th>SizeBillionths</th>\n",
       "      <th>Side</th>\n",
       "      <th>cum_size_billionths</th>\n",
       "      <th>trade_flow</th>\n",
       "      <th>T_second_forward_return</th>\n",
       "      <th>predicted_return</th>\n",
       "    </tr>\n",
       "  </thead>\n",
       "  <tbody>\n",
       "    <tr>\n",
       "      <th>737</th>\n",
       "      <td>1674587748740388000</td>\n",
       "      <td>1674587748747246000</td>\n",
       "      <td>70570</td>\n",
       "      <td>2760859870</td>\n",
       "      <td>2</td>\n",
       "      <td>2760859870</td>\n",
       "      <td>9.073765</td>\n",
       "      <td>0.000000</td>\n",
       "      <td>2.310738e-05</td>\n",
       "    </tr>\n",
       "    <tr>\n",
       "      <th>738</th>\n",
       "      <td>1674587748814116000</td>\n",
       "      <td>1674587748789907000</td>\n",
       "      <td>70580</td>\n",
       "      <td>996597300</td>\n",
       "      <td>2</td>\n",
       "      <td>996597300</td>\n",
       "      <td>11.834625</td>\n",
       "      <td>-0.000142</td>\n",
       "      <td>3.013822e-05</td>\n",
       "    </tr>\n",
       "    <tr>\n",
       "      <th>739</th>\n",
       "      <td>1674587772942539000</td>\n",
       "      <td>1674587772942213000</td>\n",
       "      <td>70580</td>\n",
       "      <td>16200000</td>\n",
       "      <td>-1</td>\n",
       "      <td>-16200000</td>\n",
       "      <td>3.838090</td>\n",
       "      <td>-0.000142</td>\n",
       "      <td>9.774132e-06</td>\n",
       "    </tr>\n",
       "    <tr>\n",
       "      <th>740</th>\n",
       "      <td>1674587777044862000</td>\n",
       "      <td>1674587777052452000</td>\n",
       "      <td>70580</td>\n",
       "      <td>572380</td>\n",
       "      <td>1</td>\n",
       "      <td>572380</td>\n",
       "      <td>3.821890</td>\n",
       "      <td>-0.000142</td>\n",
       "      <td>9.732877e-06</td>\n",
       "    </tr>\n",
       "    <tr>\n",
       "      <th>741</th>\n",
       "      <td>1674587790360439000</td>\n",
       "      <td>1674587790372638000</td>\n",
       "      <td>70570</td>\n",
       "      <td>2519000</td>\n",
       "      <td>-1</td>\n",
       "      <td>-2519000</td>\n",
       "      <td>3.822462</td>\n",
       "      <td>-0.000071</td>\n",
       "      <td>9.734335e-06</td>\n",
       "    </tr>\n",
       "    <tr>\n",
       "      <th>...</th>\n",
       "      <td>...</td>\n",
       "      <td>...</td>\n",
       "      <td>...</td>\n",
       "      <td>...</td>\n",
       "      <td>...</td>\n",
       "      <td>...</td>\n",
       "      <td>...</td>\n",
       "      <td>...</td>\n",
       "      <td>...</td>\n",
       "    </tr>\n",
       "    <tr>\n",
       "      <th>1839</th>\n",
       "      <td>1674659220547379000</td>\n",
       "      <td>1674659220556309000</td>\n",
       "      <td>68470</td>\n",
       "      <td>170840</td>\n",
       "      <td>-1</td>\n",
       "      <td>-170840</td>\n",
       "      <td>2.700062</td>\n",
       "      <td>-0.000073</td>\n",
       "      <td>6.876017e-06</td>\n",
       "    </tr>\n",
       "    <tr>\n",
       "      <th>1840</th>\n",
       "      <td>1674659233921521000</td>\n",
       "      <td>1674659233932491000</td>\n",
       "      <td>68480</td>\n",
       "      <td>83190000</td>\n",
       "      <td>-1</td>\n",
       "      <td>-83190000</td>\n",
       "      <td>-0.004451</td>\n",
       "      <td>-0.000219</td>\n",
       "      <td>-1.133457e-08</td>\n",
       "    </tr>\n",
       "    <tr>\n",
       "      <th>1841</th>\n",
       "      <td>1674659254067551000</td>\n",
       "      <td>1674659254076843000</td>\n",
       "      <td>68490</td>\n",
       "      <td>77766040</td>\n",
       "      <td>1</td>\n",
       "      <td>77766040</td>\n",
       "      <td>-0.083361</td>\n",
       "      <td>-0.000219</td>\n",
       "      <td>-2.122879e-07</td>\n",
       "    </tr>\n",
       "    <tr>\n",
       "      <th>1842</th>\n",
       "      <td>1674659254799097000</td>\n",
       "      <td>1674659254810416000</td>\n",
       "      <td>68500</td>\n",
       "      <td>32440000</td>\n",
       "      <td>-1</td>\n",
       "      <td>-32440000</td>\n",
       "      <td>-0.005595</td>\n",
       "      <td>-0.000365</td>\n",
       "      <td>-1.424780e-08</td>\n",
       "    </tr>\n",
       "    <tr>\n",
       "      <th>1843</th>\n",
       "      <td>1674659285141584000</td>\n",
       "      <td>1674659285145749000</td>\n",
       "      <td>68520</td>\n",
       "      <td>1266988760</td>\n",
       "      <td>2</td>\n",
       "      <td>1266988760</td>\n",
       "      <td>-0.037864</td>\n",
       "      <td>-0.000876</td>\n",
       "      <td>-9.642489e-08</td>\n",
       "    </tr>\n",
       "  </tbody>\n",
       "</table>\n",
       "<p>1107 rows × 9 columns</p>\n",
       "</div>"
      ],
      "text/plain": [
       "      received_utc_nanoseconds  timestamp_utc_nanoseconds  PriceMillionths  \\\n",
       "737        1674587748740388000        1674587748747246000            70570   \n",
       "738        1674587748814116000        1674587748789907000            70580   \n",
       "739        1674587772942539000        1674587772942213000            70580   \n",
       "740        1674587777044862000        1674587777052452000            70580   \n",
       "741        1674587790360439000        1674587790372638000            70570   \n",
       "...                        ...                        ...              ...   \n",
       "1839       1674659220547379000        1674659220556309000            68470   \n",
       "1840       1674659233921521000        1674659233932491000            68480   \n",
       "1841       1674659254067551000        1674659254076843000            68490   \n",
       "1842       1674659254799097000        1674659254810416000            68500   \n",
       "1843       1674659285141584000        1674659285145749000            68520   \n",
       "\n",
       "      SizeBillionths  Side  cum_size_billionths  trade_flow  \\\n",
       "737       2760859870     2           2760859870    9.073765   \n",
       "738        996597300     2            996597300   11.834625   \n",
       "739         16200000    -1            -16200000    3.838090   \n",
       "740           572380     1               572380    3.821890   \n",
       "741          2519000    -1             -2519000    3.822462   \n",
       "...              ...   ...                  ...         ...   \n",
       "1839          170840    -1              -170840    2.700062   \n",
       "1840        83190000    -1            -83190000   -0.004451   \n",
       "1841        77766040     1             77766040   -0.083361   \n",
       "1842        32440000    -1            -32440000   -0.005595   \n",
       "1843      1266988760     2           1266988760   -0.037864   \n",
       "\n",
       "      T_second_forward_return  predicted_return  \n",
       "737                  0.000000      2.310738e-05  \n",
       "738                 -0.000142      3.013822e-05  \n",
       "739                 -0.000142      9.774132e-06  \n",
       "740                 -0.000142      9.732877e-06  \n",
       "741                 -0.000071      9.734335e-06  \n",
       "...                       ...               ...  \n",
       "1839                -0.000073      6.876017e-06  \n",
       "1840                -0.000219     -1.133457e-08  \n",
       "1841                -0.000219     -2.122879e-07  \n",
       "1842                -0.000365     -1.424780e-08  \n",
       "1843                -0.000876     -9.642489e-08  \n",
       "\n",
       "[1107 rows x 9 columns]"
      ]
     },
     "execution_count": 38,
     "metadata": {},
     "output_type": "execute_result"
    }
   ],
   "source": [
    "test_pred_ETH_BTC\n"
   ]
  },
  {
   "cell_type": "code",
   "execution_count": 39,
   "id": "40b453f4",
   "metadata": {
    "ExecuteTime": {
     "end_time": "2024-02-09T03:04:59.886470Z",
     "start_time": "2024-02-09T03:04:59.848756Z"
    }
   },
   "outputs": [
    {
     "data": {
      "text/plain": [
       "count    1.107000e+03\n",
       "mean     4.888157e-06\n",
       "std      3.497980e-05\n",
       "min     -9.473834e-05\n",
       "25%     -1.602434e-06\n",
       "50%     -5.857212e-10\n",
       "75%      3.620268e-06\n",
       "max      1.641632e-04\n",
       "Name: predicted_return, dtype: float64"
      ]
     },
     "execution_count": 39,
     "metadata": {},
     "output_type": "execute_result"
    }
   ],
   "source": [
    "test_pred_ETH_BTC['predicted_return'].describe()"
   ]
  },
  {
   "cell_type": "markdown",
   "id": "61b1c544",
   "metadata": {},
   "source": [
    "# Deciding j:"
   ]
  },
  {
   "cell_type": "markdown",
   "id": "a4364001",
   "metadata": {},
   "source": [
    "j has been decided in such a way that trade can be performed 60% of the time:"
   ]
  },
  {
   "cell_type": "code",
   "execution_count": 40,
   "id": "e21a41c6",
   "metadata": {
    "ExecuteTime": {
     "end_time": "2024-02-09T03:04:59.904164Z",
     "start_time": "2024-02-09T03:04:59.890484Z"
    }
   },
   "outputs": [
    {
     "data": {
      "text/plain": [
       "1.0574236727938437e-06"
      ]
     },
     "execution_count": 40,
     "metadata": {},
     "output_type": "execute_result"
    }
   ],
   "source": [
    "# Calculate the absolute values of the predicted returns\n",
    "absolute_predicted_returns = test_pred_ETH_BTC['predicted_return'].abs()\n",
    "\n",
    "# Find the value of j such that 70% of the predicted returns are greater than j\n",
    "j_ETH_BTC = np.percentile(absolute_predicted_returns, 40)  # 40th percentile since we want the lower threshold\n",
    "\n",
    "j_ETH_BTC"
   ]
  },
  {
   "cell_type": "markdown",
   "id": "c2f3c069",
   "metadata": {},
   "source": [
    "Finding trade signals for the decided j:"
   ]
  },
  {
   "cell_type": "code",
   "execution_count": 41,
   "id": "686e5c1c",
   "metadata": {
    "ExecuteTime": {
     "end_time": "2024-02-09T03:04:59.922030Z",
     "start_time": "2024-02-09T03:04:59.913844Z"
    }
   },
   "outputs": [],
   "source": [
    "test_pred_ETH_BTC = find_trade_signals(test_pred_ETH_BTC, predicted_return_col='predicted_return', j=j_ETH_BTC)"
   ]
  },
  {
   "cell_type": "code",
   "execution_count": 42,
   "id": "2dc78c11",
   "metadata": {
    "ExecuteTime": {
     "end_time": "2024-02-09T03:04:59.947179Z",
     "start_time": "2024-02-09T03:04:59.925040Z"
    }
   },
   "outputs": [
    {
     "data": {
      "text/html": [
       "<div>\n",
       "<style scoped>\n",
       "    .dataframe tbody tr th:only-of-type {\n",
       "        vertical-align: middle;\n",
       "    }\n",
       "\n",
       "    .dataframe tbody tr th {\n",
       "        vertical-align: top;\n",
       "    }\n",
       "\n",
       "    .dataframe thead th {\n",
       "        text-align: right;\n",
       "    }\n",
       "</style>\n",
       "<table border=\"1\" class=\"dataframe\">\n",
       "  <thead>\n",
       "    <tr style=\"text-align: right;\">\n",
       "      <th></th>\n",
       "      <th>received_utc_nanoseconds</th>\n",
       "      <th>timestamp_utc_nanoseconds</th>\n",
       "      <th>PriceMillionths</th>\n",
       "      <th>SizeBillionths</th>\n",
       "      <th>Side</th>\n",
       "      <th>cum_size_billionths</th>\n",
       "      <th>trade_flow</th>\n",
       "      <th>T_second_forward_return</th>\n",
       "      <th>predicted_return</th>\n",
       "      <th>trade_signal</th>\n",
       "    </tr>\n",
       "  </thead>\n",
       "  <tbody>\n",
       "    <tr>\n",
       "      <th>737</th>\n",
       "      <td>1674587748740388000</td>\n",
       "      <td>1674587748747246000</td>\n",
       "      <td>70570</td>\n",
       "      <td>2760859870</td>\n",
       "      <td>2</td>\n",
       "      <td>2760859870</td>\n",
       "      <td>9.073765</td>\n",
       "      <td>0.000000</td>\n",
       "      <td>0.000023</td>\n",
       "      <td>True</td>\n",
       "    </tr>\n",
       "    <tr>\n",
       "      <th>738</th>\n",
       "      <td>1674587748814116000</td>\n",
       "      <td>1674587748789907000</td>\n",
       "      <td>70580</td>\n",
       "      <td>996597300</td>\n",
       "      <td>2</td>\n",
       "      <td>996597300</td>\n",
       "      <td>11.834625</td>\n",
       "      <td>-0.000142</td>\n",
       "      <td>0.000030</td>\n",
       "      <td>True</td>\n",
       "    </tr>\n",
       "    <tr>\n",
       "      <th>739</th>\n",
       "      <td>1674587772942539000</td>\n",
       "      <td>1674587772942213000</td>\n",
       "      <td>70580</td>\n",
       "      <td>16200000</td>\n",
       "      <td>-1</td>\n",
       "      <td>-16200000</td>\n",
       "      <td>3.838090</td>\n",
       "      <td>-0.000142</td>\n",
       "      <td>0.000010</td>\n",
       "      <td>True</td>\n",
       "    </tr>\n",
       "    <tr>\n",
       "      <th>740</th>\n",
       "      <td>1674587777044862000</td>\n",
       "      <td>1674587777052452000</td>\n",
       "      <td>70580</td>\n",
       "      <td>572380</td>\n",
       "      <td>1</td>\n",
       "      <td>572380</td>\n",
       "      <td>3.821890</td>\n",
       "      <td>-0.000142</td>\n",
       "      <td>0.000010</td>\n",
       "      <td>True</td>\n",
       "    </tr>\n",
       "    <tr>\n",
       "      <th>741</th>\n",
       "      <td>1674587790360439000</td>\n",
       "      <td>1674587790372638000</td>\n",
       "      <td>70570</td>\n",
       "      <td>2519000</td>\n",
       "      <td>-1</td>\n",
       "      <td>-2519000</td>\n",
       "      <td>3.822462</td>\n",
       "      <td>-0.000071</td>\n",
       "      <td>0.000010</td>\n",
       "      <td>True</td>\n",
       "    </tr>\n",
       "  </tbody>\n",
       "</table>\n",
       "</div>"
      ],
      "text/plain": [
       "     received_utc_nanoseconds  timestamp_utc_nanoseconds  PriceMillionths  \\\n",
       "737       1674587748740388000        1674587748747246000            70570   \n",
       "738       1674587748814116000        1674587748789907000            70580   \n",
       "739       1674587772942539000        1674587772942213000            70580   \n",
       "740       1674587777044862000        1674587777052452000            70580   \n",
       "741       1674587790360439000        1674587790372638000            70570   \n",
       "\n",
       "     SizeBillionths  Side  cum_size_billionths  trade_flow  \\\n",
       "737      2760859870     2           2760859870    9.073765   \n",
       "738       996597300     2            996597300   11.834625   \n",
       "739        16200000    -1            -16200000    3.838090   \n",
       "740          572380     1               572380    3.821890   \n",
       "741         2519000    -1             -2519000    3.822462   \n",
       "\n",
       "     T_second_forward_return  predicted_return  trade_signal  \n",
       "737                 0.000000          0.000023          True  \n",
       "738                -0.000142          0.000030          True  \n",
       "739                -0.000142          0.000010          True  \n",
       "740                -0.000142          0.000010          True  \n",
       "741                -0.000071          0.000010          True  "
      ]
     },
     "execution_count": 42,
     "metadata": {},
     "output_type": "execute_result"
    }
   ],
   "source": [
    "test_pred_ETH_BTC.head()"
   ]
  },
  {
   "cell_type": "code",
   "execution_count": 43,
   "id": "85c8e82e",
   "metadata": {
    "ExecuteTime": {
     "end_time": "2024-02-09T03:04:59.962982Z",
     "start_time": "2024-02-09T03:04:59.951705Z"
    }
   },
   "outputs": [
    {
     "data": {
      "text/plain": [
       "trade_signal\n",
       "True     664\n",
       "False    443\n",
       "Name: count, dtype: int64"
      ]
     },
     "execution_count": 43,
     "metadata": {},
     "output_type": "execute_result"
    }
   ],
   "source": [
    "test_pred_ETH_BTC['trade_signal'].value_counts()"
   ]
  },
  {
   "cell_type": "markdown",
   "id": "d89e4d51",
   "metadata": {},
   "source": [
    "# Creating the pnl dataframe:"
   ]
  },
  {
   "cell_type": "code",
   "execution_count": 44,
   "id": "40774718",
   "metadata": {
    "ExecuteTime": {
     "end_time": "2024-02-09T03:05:00.092084Z",
     "start_time": "2024-02-09T03:04:59.965609Z"
    }
   },
   "outputs": [],
   "source": [
    "pnl_ETH_BTC = calculate_pnl(test_pred_ETH_BTC, book_narrow_ETH_BTC, T = '50s', position_size=0.1)"
   ]
  },
  {
   "cell_type": "code",
   "execution_count": 45,
   "id": "1b8e2aec",
   "metadata": {
    "ExecuteTime": {
     "end_time": "2024-02-09T03:05:00.127616Z",
     "start_time": "2024-02-09T03:05:00.095312Z"
    }
   },
   "outputs": [
    {
     "data": {
      "text/html": [
       "<div>\n",
       "<style scoped>\n",
       "    .dataframe tbody tr th:only-of-type {\n",
       "        vertical-align: middle;\n",
       "    }\n",
       "\n",
       "    .dataframe tbody tr th {\n",
       "        vertical-align: top;\n",
       "    }\n",
       "\n",
       "    .dataframe thead th {\n",
       "        text-align: right;\n",
       "    }\n",
       "</style>\n",
       "<table border=\"1\" class=\"dataframe\">\n",
       "  <thead>\n",
       "    <tr style=\"text-align: right;\">\n",
       "      <th></th>\n",
       "      <th>timestamp_utc_nanoseconds</th>\n",
       "      <th>position</th>\n",
       "      <th>PriceMillionths</th>\n",
       "      <th>Mid</th>\n",
       "      <th>acc_qty</th>\n",
       "      <th>plT</th>\n",
       "      <th>acc_plT</th>\n",
       "    </tr>\n",
       "  </thead>\n",
       "  <tbody>\n",
       "    <tr>\n",
       "      <th>0</th>\n",
       "      <td>1674587748747246000</td>\n",
       "      <td>0.276086</td>\n",
       "      <td>0.07057</td>\n",
       "      <td>0.070570</td>\n",
       "      <td>0.000000e+00</td>\n",
       "      <td>0.000000e+00</td>\n",
       "      <td>0.000000e+00</td>\n",
       "    </tr>\n",
       "    <tr>\n",
       "      <th>1</th>\n",
       "      <td>1674587748789907000</td>\n",
       "      <td>0.099660</td>\n",
       "      <td>0.07058</td>\n",
       "      <td>0.070575</td>\n",
       "      <td>2.760860e+08</td>\n",
       "      <td>-4.982987e-07</td>\n",
       "      <td>0.000000e+00</td>\n",
       "    </tr>\n",
       "    <tr>\n",
       "      <th>2</th>\n",
       "      <td>1674587772942213000</td>\n",
       "      <td>-0.001620</td>\n",
       "      <td>0.07058</td>\n",
       "      <td>0.070575</td>\n",
       "      <td>3.757457e+08</td>\n",
       "      <td>8.100000e-09</td>\n",
       "      <td>-4.982987e-07</td>\n",
       "    </tr>\n",
       "    <tr>\n",
       "      <th>3</th>\n",
       "      <td>1674587777052452000</td>\n",
       "      <td>0.000057</td>\n",
       "      <td>0.07058</td>\n",
       "      <td>0.070575</td>\n",
       "      <td>3.741257e+08</td>\n",
       "      <td>-2.861900e-10</td>\n",
       "      <td>-4.901987e-07</td>\n",
       "    </tr>\n",
       "    <tr>\n",
       "      <th>4</th>\n",
       "      <td>1674587790372638000</td>\n",
       "      <td>-0.000252</td>\n",
       "      <td>0.07057</td>\n",
       "      <td>0.070580</td>\n",
       "      <td>3.741830e+08</td>\n",
       "      <td>-2.519000e-09</td>\n",
       "      <td>-4.904848e-07</td>\n",
       "    </tr>\n",
       "    <tr>\n",
       "      <th>...</th>\n",
       "      <td>...</td>\n",
       "      <td>...</td>\n",
       "      <td>...</td>\n",
       "      <td>...</td>\n",
       "      <td>...</td>\n",
       "      <td>...</td>\n",
       "      <td>...</td>\n",
       "    </tr>\n",
       "    <tr>\n",
       "      <th>659</th>\n",
       "      <td>1674659171236509000</td>\n",
       "      <td>0.100000</td>\n",
       "      <td>0.06847</td>\n",
       "      <td>0.068450</td>\n",
       "      <td>8.315084e+09</td>\n",
       "      <td>-2.000000e-06</td>\n",
       "      <td>3.969149e-04</td>\n",
       "    </tr>\n",
       "    <tr>\n",
       "      <th>660</th>\n",
       "      <td>1674659171247838000</td>\n",
       "      <td>0.035098</td>\n",
       "      <td>0.06847</td>\n",
       "      <td>0.068450</td>\n",
       "      <td>8.415084e+09</td>\n",
       "      <td>-7.019600e-07</td>\n",
       "      <td>3.949149e-04</td>\n",
       "    </tr>\n",
       "    <tr>\n",
       "      <th>661</th>\n",
       "      <td>1674659175530373000</td>\n",
       "      <td>-0.007673</td>\n",
       "      <td>0.06845</td>\n",
       "      <td>0.068450</td>\n",
       "      <td>8.450182e+09</td>\n",
       "      <td>-0.000000e+00</td>\n",
       "      <td>3.942129e-04</td>\n",
       "    </tr>\n",
       "    <tr>\n",
       "      <th>662</th>\n",
       "      <td>1674659192345122000</td>\n",
       "      <td>0.007245</td>\n",
       "      <td>0.06848</td>\n",
       "      <td>0.068450</td>\n",
       "      <td>8.442509e+09</td>\n",
       "      <td>-2.173500e-07</td>\n",
       "      <td>3.942129e-04</td>\n",
       "    </tr>\n",
       "    <tr>\n",
       "      <th>663</th>\n",
       "      <td>1674659220556309000</td>\n",
       "      <td>-0.000017</td>\n",
       "      <td>0.06847</td>\n",
       "      <td>0.068455</td>\n",
       "      <td>8.449754e+09</td>\n",
       "      <td>2.562600e-10</td>\n",
       "      <td>3.939956e-04</td>\n",
       "    </tr>\n",
       "  </tbody>\n",
       "</table>\n",
       "<p>664 rows × 7 columns</p>\n",
       "</div>"
      ],
      "text/plain": [
       "     timestamp_utc_nanoseconds  position  PriceMillionths       Mid  \\\n",
       "0          1674587748747246000  0.276086          0.07057  0.070570   \n",
       "1          1674587748789907000  0.099660          0.07058  0.070575   \n",
       "2          1674587772942213000 -0.001620          0.07058  0.070575   \n",
       "3          1674587777052452000  0.000057          0.07058  0.070575   \n",
       "4          1674587790372638000 -0.000252          0.07057  0.070580   \n",
       "..                         ...       ...              ...       ...   \n",
       "659        1674659171236509000  0.100000          0.06847  0.068450   \n",
       "660        1674659171247838000  0.035098          0.06847  0.068450   \n",
       "661        1674659175530373000 -0.007673          0.06845  0.068450   \n",
       "662        1674659192345122000  0.007245          0.06848  0.068450   \n",
       "663        1674659220556309000 -0.000017          0.06847  0.068455   \n",
       "\n",
       "          acc_qty           plT       acc_plT  \n",
       "0    0.000000e+00  0.000000e+00  0.000000e+00  \n",
       "1    2.760860e+08 -4.982987e-07  0.000000e+00  \n",
       "2    3.757457e+08  8.100000e-09 -4.982987e-07  \n",
       "3    3.741257e+08 -2.861900e-10 -4.901987e-07  \n",
       "4    3.741830e+08 -2.519000e-09 -4.904848e-07  \n",
       "..            ...           ...           ...  \n",
       "659  8.315084e+09 -2.000000e-06  3.969149e-04  \n",
       "660  8.415084e+09 -7.019600e-07  3.949149e-04  \n",
       "661  8.450182e+09 -0.000000e+00  3.942129e-04  \n",
       "662  8.442509e+09 -2.173500e-07  3.942129e-04  \n",
       "663  8.449754e+09  2.562600e-10  3.939956e-04  \n",
       "\n",
       "[664 rows x 7 columns]"
      ]
     },
     "execution_count": 45,
     "metadata": {},
     "output_type": "execute_result"
    }
   ],
   "source": [
    "pnl_ETH_BTC\n"
   ]
  },
  {
   "cell_type": "markdown",
   "id": "7ddd898e",
   "metadata": {},
   "source": [
    "# PnL with trading costs:"
   ]
  },
  {
   "cell_type": "code",
   "execution_count": 46,
   "id": "103a7213",
   "metadata": {
    "ExecuteTime": {
     "end_time": "2024-02-09T03:05:00.318566Z",
     "start_time": "2024-02-09T03:05:00.131181Z"
    }
   },
   "outputs": [],
   "source": [
    "pnl_ETH_BTC_with_tc = calculate_pnl_with_tc(test_pred_ETH_BTC, book_narrow_ETH_BTC, T = '50s', position_size=0.1)"
   ]
  },
  {
   "cell_type": "code",
   "execution_count": 47,
   "id": "eab4250b",
   "metadata": {
    "ExecuteTime": {
     "end_time": "2024-02-09T03:05:00.343168Z",
     "start_time": "2024-02-09T03:05:00.320950Z"
    }
   },
   "outputs": [
    {
     "data": {
      "text/html": [
       "<div>\n",
       "<style scoped>\n",
       "    .dataframe tbody tr th:only-of-type {\n",
       "        vertical-align: middle;\n",
       "    }\n",
       "\n",
       "    .dataframe tbody tr th {\n",
       "        vertical-align: top;\n",
       "    }\n",
       "\n",
       "    .dataframe thead th {\n",
       "        text-align: right;\n",
       "    }\n",
       "</style>\n",
       "<table border=\"1\" class=\"dataframe\">\n",
       "  <thead>\n",
       "    <tr style=\"text-align: right;\">\n",
       "      <th></th>\n",
       "      <th>timestamp_utc_nanoseconds</th>\n",
       "      <th>position</th>\n",
       "      <th>PriceMillionths</th>\n",
       "      <th>Mid</th>\n",
       "      <th>acc_qty</th>\n",
       "      <th>plT</th>\n",
       "      <th>acc_plT</th>\n",
       "    </tr>\n",
       "  </thead>\n",
       "  <tbody>\n",
       "    <tr>\n",
       "      <th>0</th>\n",
       "      <td>1674587748747246000</td>\n",
       "      <td>0.276086</td>\n",
       "      <td>0.07057</td>\n",
       "      <td>0.070570</td>\n",
       "      <td>0.000000e+00</td>\n",
       "      <td>0.000000e+00</td>\n",
       "      <td>0.000000e+00</td>\n",
       "    </tr>\n",
       "    <tr>\n",
       "      <th>1</th>\n",
       "      <td>1674587748789907000</td>\n",
       "      <td>0.099660</td>\n",
       "      <td>0.07058</td>\n",
       "      <td>0.070575</td>\n",
       "      <td>2.760860e+08</td>\n",
       "      <td>-4.973021e-07</td>\n",
       "      <td>0.000000e+00</td>\n",
       "    </tr>\n",
       "    <tr>\n",
       "      <th>2</th>\n",
       "      <td>1674587772942213000</td>\n",
       "      <td>-0.001620</td>\n",
       "      <td>0.07058</td>\n",
       "      <td>0.070575</td>\n",
       "      <td>3.757457e+08</td>\n",
       "      <td>8.083800e-09</td>\n",
       "      <td>-4.973021e-07</td>\n",
       "    </tr>\n",
       "    <tr>\n",
       "      <th>3</th>\n",
       "      <td>1674587777052452000</td>\n",
       "      <td>0.000057</td>\n",
       "      <td>0.07058</td>\n",
       "      <td>0.070575</td>\n",
       "      <td>3.741257e+08</td>\n",
       "      <td>-2.856176e-10</td>\n",
       "      <td>-4.892183e-07</td>\n",
       "    </tr>\n",
       "    <tr>\n",
       "      <th>4</th>\n",
       "      <td>1674587790372638000</td>\n",
       "      <td>-0.000252</td>\n",
       "      <td>0.07057</td>\n",
       "      <td>0.070580</td>\n",
       "      <td>3.741830e+08</td>\n",
       "      <td>-2.513962e-09</td>\n",
       "      <td>-4.895039e-07</td>\n",
       "    </tr>\n",
       "    <tr>\n",
       "      <th>...</th>\n",
       "      <td>...</td>\n",
       "      <td>...</td>\n",
       "      <td>...</td>\n",
       "      <td>...</td>\n",
       "      <td>...</td>\n",
       "      <td>...</td>\n",
       "      <td>...</td>\n",
       "    </tr>\n",
       "    <tr>\n",
       "      <th>659</th>\n",
       "      <td>1674659171236509000</td>\n",
       "      <td>0.100000</td>\n",
       "      <td>0.06847</td>\n",
       "      <td>0.068450</td>\n",
       "      <td>8.315084e+09</td>\n",
       "      <td>-1.996000e-06</td>\n",
       "      <td>3.961210e-04</td>\n",
       "    </tr>\n",
       "    <tr>\n",
       "      <th>660</th>\n",
       "      <td>1674659171247838000</td>\n",
       "      <td>0.035098</td>\n",
       "      <td>0.06847</td>\n",
       "      <td>0.068450</td>\n",
       "      <td>8.415084e+09</td>\n",
       "      <td>-7.005561e-07</td>\n",
       "      <td>3.941250e-04</td>\n",
       "    </tr>\n",
       "    <tr>\n",
       "      <th>661</th>\n",
       "      <td>1674659175530373000</td>\n",
       "      <td>-0.007673</td>\n",
       "      <td>0.06845</td>\n",
       "      <td>0.068450</td>\n",
       "      <td>8.450182e+09</td>\n",
       "      <td>-0.000000e+00</td>\n",
       "      <td>3.934245e-04</td>\n",
       "    </tr>\n",
       "    <tr>\n",
       "      <th>662</th>\n",
       "      <td>1674659192345122000</td>\n",
       "      <td>0.007245</td>\n",
       "      <td>0.06848</td>\n",
       "      <td>0.068450</td>\n",
       "      <td>8.442509e+09</td>\n",
       "      <td>-2.169153e-07</td>\n",
       "      <td>3.934245e-04</td>\n",
       "    </tr>\n",
       "    <tr>\n",
       "      <th>663</th>\n",
       "      <td>1674659220556309000</td>\n",
       "      <td>-0.000017</td>\n",
       "      <td>0.06847</td>\n",
       "      <td>0.068455</td>\n",
       "      <td>8.449754e+09</td>\n",
       "      <td>2.557475e-10</td>\n",
       "      <td>3.932076e-04</td>\n",
       "    </tr>\n",
       "  </tbody>\n",
       "</table>\n",
       "<p>664 rows × 7 columns</p>\n",
       "</div>"
      ],
      "text/plain": [
       "     timestamp_utc_nanoseconds  position  PriceMillionths       Mid  \\\n",
       "0          1674587748747246000  0.276086          0.07057  0.070570   \n",
       "1          1674587748789907000  0.099660          0.07058  0.070575   \n",
       "2          1674587772942213000 -0.001620          0.07058  0.070575   \n",
       "3          1674587777052452000  0.000057          0.07058  0.070575   \n",
       "4          1674587790372638000 -0.000252          0.07057  0.070580   \n",
       "..                         ...       ...              ...       ...   \n",
       "659        1674659171236509000  0.100000          0.06847  0.068450   \n",
       "660        1674659171247838000  0.035098          0.06847  0.068450   \n",
       "661        1674659175530373000 -0.007673          0.06845  0.068450   \n",
       "662        1674659192345122000  0.007245          0.06848  0.068450   \n",
       "663        1674659220556309000 -0.000017          0.06847  0.068455   \n",
       "\n",
       "          acc_qty           plT       acc_plT  \n",
       "0    0.000000e+00  0.000000e+00  0.000000e+00  \n",
       "1    2.760860e+08 -4.973021e-07  0.000000e+00  \n",
       "2    3.757457e+08  8.083800e-09 -4.973021e-07  \n",
       "3    3.741257e+08 -2.856176e-10 -4.892183e-07  \n",
       "4    3.741830e+08 -2.513962e-09 -4.895039e-07  \n",
       "..            ...           ...           ...  \n",
       "659  8.315084e+09 -1.996000e-06  3.961210e-04  \n",
       "660  8.415084e+09 -7.005561e-07  3.941250e-04  \n",
       "661  8.450182e+09 -0.000000e+00  3.934245e-04  \n",
       "662  8.442509e+09 -2.169153e-07  3.934245e-04  \n",
       "663  8.449754e+09  2.557475e-10  3.932076e-04  \n",
       "\n",
       "[664 rows x 7 columns]"
      ]
     },
     "execution_count": 47,
     "metadata": {},
     "output_type": "execute_result"
    }
   ],
   "source": [
    "pnl_ETH_BTC_with_tc"
   ]
  },
  {
   "cell_type": "markdown",
   "id": "d361f94e",
   "metadata": {},
   "source": [
    "# Calculating pnl stats:"
   ]
  },
  {
   "cell_type": "code",
   "execution_count": 48,
   "id": "b0eeae8a",
   "metadata": {
    "ExecuteTime": {
     "end_time": "2024-02-09T03:05:01.095815Z",
     "start_time": "2024-02-09T03:05:00.348793Z"
    }
   },
   "outputs": [
    {
     "data": {
      "image/png": "[encoded data removed]",
      "text/plain": [
       "<Figure size 640x480 with 1 Axes>"
      ]
     },
     "metadata": {},
     "output_type": "display_data"
    }
   ],
   "source": [
    "T = '50s'  \n",
    "sharpe_ratio_ETH_BTC, max_drawdown_ETH_BTC, downside_deviations_ETH_BTC, cumulative_plT_ETH_BTC, grouped_plt_ETH_BTC = calculate_pnl_stats(pnl_ETH_BTC, T)\n"
   ]
  },
  {
   "cell_type": "markdown",
   "id": "383f702d",
   "metadata": {},
   "source": [
    "This graph depicts the cumulative Profit and Loss (P&L) over time. The P&L is positive throughout the observed period, suggesting that the investment or trading strategy has been profitable. "
   ]
  },
  {
   "cell_type": "code",
   "execution_count": 49,
   "id": "33ab3536",
   "metadata": {
    "ExecuteTime": {
     "end_time": "2024-02-09T03:05:01.114863Z",
     "start_time": "2024-02-09T03:05:01.104341Z"
    }
   },
   "outputs": [
    {
     "data": {
      "text/plain": [
       "0.011519161755932407"
      ]
     },
     "execution_count": 49,
     "metadata": {},
     "output_type": "execute_result"
    }
   ],
   "source": [
    "sharpe_ratio_ETH_BTC"
   ]
  },
  {
   "cell_type": "code",
   "execution_count": 50,
   "id": "29607208",
   "metadata": {
    "ExecuteTime": {
     "end_time": "2024-02-09T03:05:01.156312Z",
     "start_time": "2024-02-09T03:05:01.143110Z"
    }
   },
   "outputs": [
    {
     "data": {
      "text/plain": [
       "0.0005687076158850351"
      ]
     },
     "execution_count": 50,
     "metadata": {},
     "output_type": "execute_result"
    }
   ],
   "source": [
    "max_drawdown_ETH_BTC"
   ]
  },
  {
   "cell_type": "code",
   "execution_count": 51,
   "id": "8ec64ee8",
   "metadata": {
    "ExecuteTime": {
     "end_time": "2024-02-09T03:05:01.169711Z",
     "start_time": "2024-02-09T03:05:01.162322Z"
    }
   },
   "outputs": [
    {
     "data": {
      "text/plain": [
       "4.7479605287615444e-05"
      ]
     },
     "execution_count": 51,
     "metadata": {},
     "output_type": "execute_result"
    }
   ],
   "source": [
    "downside_deviations_ETH_BTC"
   ]
  },
  {
   "cell_type": "markdown",
   "id": "86be1adb",
   "metadata": {},
   "source": [
    "The Sharpe ratio is 0.012, which is positive but relatively low. This suggests that the excess return of the strategy over the risk-free rate is not very high when taking into account the volatility of the returns.\n",
    "\n",
    "Here, the max drawdown is very small, indicating that the largest drop in value from a peak was minimal, which suggests low downside volatility and risk in the context of this strategy.\n",
    "\n",
    "The downside deviation is a very small number indicating that the downside risk of the strategy is low. Overall, these statistics indicate that the trading strategy or investment in the ETH-BTC pair has been profitable over the specified period, with a positive (though low) risk-adjusted return, minimal maximum drawdown, and very low downside risk."
   ]
  },
  {
   "cell_type": "markdown",
   "id": "924703e2",
   "metadata": {},
   "source": [
    "Pnl stats with trading costs:"
   ]
  },
  {
   "cell_type": "code",
   "execution_count": 52,
   "id": "42721f3b",
   "metadata": {
    "ExecuteTime": {
     "end_time": "2024-02-09T03:05:01.700200Z",
     "start_time": "2024-02-09T03:05:01.174097Z"
    }
   },
   "outputs": [
    {
     "data": {
      "image/png": "[encoded data removed]",
      "text/plain": [
       "<Figure size 640x480 with 1 Axes>"
      ]
     },
     "metadata": {},
     "output_type": "display_data"
    }
   ],
   "source": [
    "T = '50s'  \n",
    "sharpe_ratio_ETH_BTC_tc, max_drawdown_ETH_BTC_tc, downside_deviations_ETH_BTC_tc, cumulative_plT_ETH_BTC_tc, grouped_plt_ETH_BTC_tc = calculate_pnl_stats(pnl_ETH_BTC_with_tc, T)\n"
   ]
  },
  {
   "cell_type": "code",
   "execution_count": 53,
   "id": "5e798761",
   "metadata": {
    "ExecuteTime": {
     "end_time": "2024-02-09T03:05:01.711887Z",
     "start_time": "2024-02-09T03:05:01.703978Z"
    }
   },
   "outputs": [
    {
     "data": {
      "text/plain": [
       "0.011519161755932972"
      ]
     },
     "execution_count": 53,
     "metadata": {},
     "output_type": "execute_result"
    }
   ],
   "source": [
    "sharpe_ratio_ETH_BTC_tc\n",
    "\n"
   ]
  },
  {
   "cell_type": "code",
   "execution_count": 54,
   "id": "d8fb3284",
   "metadata": {
    "ExecuteTime": {
     "end_time": "2024-02-09T03:05:01.726909Z",
     "start_time": "2024-02-09T03:05:01.715408Z"
    }
   },
   "outputs": [
    {
     "data": {
      "text/plain": [
       "0.0005675702006532655"
      ]
     },
     "execution_count": 54,
     "metadata": {},
     "output_type": "execute_result"
    }
   ],
   "source": [
    "max_drawdown_ETH_BTC_tc\n",
    "\n"
   ]
  },
  {
   "cell_type": "code",
   "execution_count": 55,
   "id": "a55d0542",
   "metadata": {
    "ExecuteTime": {
     "end_time": "2024-02-09T03:05:01.743113Z",
     "start_time": "2024-02-09T03:05:01.731920Z"
    }
   },
   "outputs": [
    {
     "data": {
      "text/plain": [
       "4.7384646077040235e-05"
      ]
     },
     "execution_count": 55,
     "metadata": {},
     "output_type": "execute_result"
    }
   ],
   "source": [
    "downside_deviations_ETH_BTC_tc"
   ]
  },
  {
   "cell_type": "markdown",
   "id": "9f44a850",
   "metadata": {},
   "source": [
    "From the above plots we can say that the pnl stats hardly change after considering the trading costs."
   ]
  },
  {
   "cell_type": "markdown",
   "id": "871e898d",
   "metadata": {},
   "source": [
    "# 4. Anaysis of BTC-USD pair:"
   ]
  },
  {
   "cell_type": "markdown",
   "id": "a1c0baa9",
   "metadata": {},
   "source": [
    "Reading the trades and book data:"
   ]
  },
  {
   "cell_type": "code",
   "execution_count": 56,
   "id": "0949ef9b",
   "metadata": {
    "ExecuteTime": {
     "end_time": "2024-02-09T03:05:02.755631Z",
     "start_time": "2024-02-09T03:05:01.750394Z"
    }
   },
   "outputs": [],
   "source": [
    "#Reading the trades data BTC-USD\n",
    "trades_file_path1 = r'C:\\Users\\nihar\\Desktop\\QTS\\Week 4 Tick Level Data\\Assignment 4\\trades_narrow_BTC-USD_2023.delim.gz'\n",
    "trades_BTC_USD = pd.read_csv(trades_file_path1, delimiter='\\t')"
   ]
  },
  {
   "cell_type": "code",
   "execution_count": 57,
   "id": "47258edc",
   "metadata": {
    "ExecuteTime": {
     "end_time": "2024-02-09T03:05:02.774422Z",
     "start_time": "2024-02-09T03:05:02.759907Z"
    }
   },
   "outputs": [
    {
     "data": {
      "text/html": [
       "<div>\n",
       "<style scoped>\n",
       "    .dataframe tbody tr th:only-of-type {\n",
       "        vertical-align: middle;\n",
       "    }\n",
       "\n",
       "    .dataframe tbody tr th {\n",
       "        vertical-align: top;\n",
       "    }\n",
       "\n",
       "    .dataframe thead th {\n",
       "        text-align: right;\n",
       "    }\n",
       "</style>\n",
       "<table border=\"1\" class=\"dataframe\">\n",
       "  <thead>\n",
       "    <tr style=\"text-align: right;\">\n",
       "      <th></th>\n",
       "      <th>received_utc_nanoseconds</th>\n",
       "      <th>timestamp_utc_nanoseconds</th>\n",
       "      <th>PriceMillionths</th>\n",
       "      <th>SizeBillionths</th>\n",
       "      <th>Side</th>\n",
       "    </tr>\n",
       "  </thead>\n",
       "  <tbody>\n",
       "    <tr>\n",
       "      <th>0</th>\n",
       "      <td>1674521267814309000</td>\n",
       "      <td>1674521267874527000</td>\n",
       "      <td>22970120000</td>\n",
       "      <td>87069600</td>\n",
       "      <td>-1</td>\n",
       "    </tr>\n",
       "    <tr>\n",
       "      <th>1</th>\n",
       "      <td>1674521267814046000</td>\n",
       "      <td>1674521267874527000</td>\n",
       "      <td>22970150000</td>\n",
       "      <td>25797600</td>\n",
       "      <td>-1</td>\n",
       "    </tr>\n",
       "    <tr>\n",
       "      <th>2</th>\n",
       "      <td>1674521267817981000</td>\n",
       "      <td>1674521267878712000</td>\n",
       "      <td>22970120000</td>\n",
       "      <td>10</td>\n",
       "      <td>-1</td>\n",
       "    </tr>\n",
       "    <tr>\n",
       "      <th>3</th>\n",
       "      <td>1674521267822734000</td>\n",
       "      <td>1674521267886114000</td>\n",
       "      <td>22969160000</td>\n",
       "      <td>217683140</td>\n",
       "      <td>-1</td>\n",
       "    </tr>\n",
       "    <tr>\n",
       "      <th>4</th>\n",
       "      <td>1674521274845338000</td>\n",
       "      <td>1674521268676444000</td>\n",
       "      <td>22969840000</td>\n",
       "      <td>10000000</td>\n",
       "      <td>1</td>\n",
       "    </tr>\n",
       "  </tbody>\n",
       "</table>\n",
       "</div>"
      ],
      "text/plain": [
       "   received_utc_nanoseconds  timestamp_utc_nanoseconds  PriceMillionths  \\\n",
       "0       1674521267814309000        1674521267874527000      22970120000   \n",
       "1       1674521267814046000        1674521267874527000      22970150000   \n",
       "2       1674521267817981000        1674521267878712000      22970120000   \n",
       "3       1674521267822734000        1674521267886114000      22969160000   \n",
       "4       1674521274845338000        1674521268676444000      22969840000   \n",
       "\n",
       "   SizeBillionths  Side  \n",
       "0        87069600    -1  \n",
       "1        25797600    -1  \n",
       "2              10    -1  \n",
       "3       217683140    -1  \n",
       "4        10000000     1  "
      ]
     },
     "execution_count": 57,
     "metadata": {},
     "output_type": "execute_result"
    }
   ],
   "source": [
    "trades_BTC_USD.head()"
   ]
  },
  {
   "cell_type": "code",
   "execution_count": 58,
   "id": "49454e26",
   "metadata": {
    "ExecuteTime": {
     "end_time": "2024-02-09T03:05:02.789137Z",
     "start_time": "2024-02-09T03:05:02.779846Z"
    }
   },
   "outputs": [
    {
     "data": {
      "text/plain": [
       "(560107, 5)"
      ]
     },
     "execution_count": 58,
     "metadata": {},
     "output_type": "execute_result"
    }
   ],
   "source": [
    "trades_BTC_USD.shape"
   ]
  },
  {
   "cell_type": "code",
   "execution_count": 59,
   "id": "3de988be",
   "metadata": {
    "ExecuteTime": {
     "end_time": "2024-02-09T03:05:37.628839Z",
     "start_time": "2024-02-09T03:05:02.793091Z"
    }
   },
   "outputs": [],
   "source": [
    "#Reading the book data BTC-USD\n",
    "book_narrow_file_path1 = r'C:\\Users\\nihar\\Desktop\\QTS\\Week 4 Tick Level Data\\Assignment 4\\book_narrow_BTC-USD_2023.delim.gz'\n",
    "book_narrow_BTC_USD = pd.read_csv(book_narrow_file_path1, delimiter='\\t')"
   ]
  },
  {
   "cell_type": "code",
   "execution_count": 60,
   "id": "bbf9cb2a",
   "metadata": {
    "ExecuteTime": {
     "end_time": "2024-02-09T03:05:37.859972Z",
     "start_time": "2024-02-09T03:05:37.686614Z"
    }
   },
   "outputs": [
    {
     "data": {
      "text/html": [
       "<div>\n",
       "<style scoped>\n",
       "    .dataframe tbody tr th:only-of-type {\n",
       "        vertical-align: middle;\n",
       "    }\n",
       "\n",
       "    .dataframe tbody tr th {\n",
       "        vertical-align: top;\n",
       "    }\n",
       "\n",
       "    .dataframe thead th {\n",
       "        text-align: right;\n",
       "    }\n",
       "</style>\n",
       "<table border=\"1\" class=\"dataframe\">\n",
       "  <thead>\n",
       "    <tr style=\"text-align: right;\">\n",
       "      <th></th>\n",
       "      <th>Ask1PriceMillionths</th>\n",
       "      <th>Bid1PriceMillionths</th>\n",
       "      <th>Ask1SizeBillionths</th>\n",
       "      <th>Bid1SizeBillionths</th>\n",
       "      <th>Ask2PriceMillionths</th>\n",
       "      <th>Bid2PriceMillionths</th>\n",
       "      <th>Ask2SizeBillionths</th>\n",
       "      <th>Bid2SizeBillionths</th>\n",
       "      <th>received_utc_nanoseconds</th>\n",
       "      <th>timestamp_utc_nanoseconds</th>\n",
       "      <th>Mid</th>\n",
       "    </tr>\n",
       "  </thead>\n",
       "  <tbody>\n",
       "    <tr>\n",
       "      <th>0</th>\n",
       "      <td>22972550000</td>\n",
       "      <td>22970150000</td>\n",
       "      <td>210000000</td>\n",
       "      <td>25797600</td>\n",
       "      <td>22972560000</td>\n",
       "      <td>22970120000</td>\n",
       "      <td>210000000</td>\n",
       "      <td>87069610</td>\n",
       "      <td>1674521267750919800</td>\n",
       "      <td>1674521267806932000</td>\n",
       "      <td>2.297135e+10</td>\n",
       "    </tr>\n",
       "    <tr>\n",
       "      <th>1</th>\n",
       "      <td>22972550000</td>\n",
       "      <td>22970150000</td>\n",
       "      <td>410000000</td>\n",
       "      <td>25797600</td>\n",
       "      <td>22972560000</td>\n",
       "      <td>22970120000</td>\n",
       "      <td>210000000</td>\n",
       "      <td>87069610</td>\n",
       "      <td>1674521267751154000</td>\n",
       "      <td>1674521267807073000</td>\n",
       "      <td>2.297135e+10</td>\n",
       "    </tr>\n",
       "    <tr>\n",
       "      <th>2</th>\n",
       "      <td>22972550000</td>\n",
       "      <td>22970150000</td>\n",
       "      <td>410000000</td>\n",
       "      <td>25797600</td>\n",
       "      <td>22972560000</td>\n",
       "      <td>22970120000</td>\n",
       "      <td>210000000</td>\n",
       "      <td>87069610</td>\n",
       "      <td>1674521267752363000</td>\n",
       "      <td>1674521267813516000</td>\n",
       "      <td>2.297135e+10</td>\n",
       "    </tr>\n",
       "    <tr>\n",
       "      <th>3</th>\n",
       "      <td>22972540000</td>\n",
       "      <td>22970150000</td>\n",
       "      <td>210000000</td>\n",
       "      <td>25797600</td>\n",
       "      <td>22972550000</td>\n",
       "      <td>22970120000</td>\n",
       "      <td>410000000</td>\n",
       "      <td>87069610</td>\n",
       "      <td>1674521267763308000</td>\n",
       "      <td>1674521267819272000</td>\n",
       "      <td>2.297134e+10</td>\n",
       "    </tr>\n",
       "    <tr>\n",
       "      <th>4</th>\n",
       "      <td>22972540000</td>\n",
       "      <td>22970150000</td>\n",
       "      <td>210000000</td>\n",
       "      <td>25797600</td>\n",
       "      <td>22972550000</td>\n",
       "      <td>22970120000</td>\n",
       "      <td>410000000</td>\n",
       "      <td>87069610</td>\n",
       "      <td>1674521267764161000</td>\n",
       "      <td>1674521267825538000</td>\n",
       "      <td>2.297134e+10</td>\n",
       "    </tr>\n",
       "  </tbody>\n",
       "</table>\n",
       "</div>"
      ],
      "text/plain": [
       "   Ask1PriceMillionths  Bid1PriceMillionths  Ask1SizeBillionths  \\\n",
       "0          22972550000          22970150000           210000000   \n",
       "1          22972550000          22970150000           410000000   \n",
       "2          22972550000          22970150000           410000000   \n",
       "3          22972540000          22970150000           210000000   \n",
       "4          22972540000          22970150000           210000000   \n",
       "\n",
       "   Bid1SizeBillionths  Ask2PriceMillionths  Bid2PriceMillionths  \\\n",
       "0            25797600          22972560000          22970120000   \n",
       "1            25797600          22972560000          22970120000   \n",
       "2            25797600          22972560000          22970120000   \n",
       "3            25797600          22972550000          22970120000   \n",
       "4            25797600          22972550000          22970120000   \n",
       "\n",
       "   Ask2SizeBillionths  Bid2SizeBillionths  received_utc_nanoseconds  \\\n",
       "0           210000000            87069610       1674521267750919800   \n",
       "1           210000000            87069610       1674521267751154000   \n",
       "2           210000000            87069610       1674521267752363000   \n",
       "3           410000000            87069610       1674521267763308000   \n",
       "4           410000000            87069610       1674521267764161000   \n",
       "\n",
       "   timestamp_utc_nanoseconds           Mid  \n",
       "0        1674521267806932000  2.297135e+10  \n",
       "1        1674521267807073000  2.297135e+10  \n",
       "2        1674521267813516000  2.297135e+10  \n",
       "3        1674521267819272000  2.297134e+10  \n",
       "4        1674521267825538000  2.297134e+10  "
      ]
     },
     "execution_count": 60,
     "metadata": {},
     "output_type": "execute_result"
    }
   ],
   "source": [
    "book_narrow_BTC_USD.head()"
   ]
  },
  {
   "cell_type": "code",
   "execution_count": 61,
   "id": "29e4d17c",
   "metadata": {
    "ExecuteTime": {
     "end_time": "2024-02-09T03:05:37.879614Z",
     "start_time": "2024-02-09T03:05:37.865821Z"
    }
   },
   "outputs": [
    {
     "data": {
      "text/plain": [
       "(10700412, 11)"
      ]
     },
     "execution_count": 61,
     "metadata": {},
     "output_type": "execute_result"
    }
   ],
   "source": [
    "book_narrow_BTC_USD.shape"
   ]
  },
  {
   "cell_type": "markdown",
   "id": "78586992",
   "metadata": {},
   "source": [
    "Sorting the datasets by timestamps and remove the duplicates by keeping the latest value:"
   ]
  },
  {
   "cell_type": "code",
   "execution_count": 62,
   "id": "4b9f732c",
   "metadata": {
    "ExecuteTime": {
     "end_time": "2024-02-09T03:05:38.155167Z",
     "start_time": "2024-02-09T03:05:37.888010Z"
    }
   },
   "outputs": [],
   "source": [
    "# Sort by 'timestamp_utc_nanoseconds' in descending order to ensure the latest entries are first\n",
    "trades_BTC_USD.sort_values(by='timestamp_utc_nanoseconds', ascending=False, inplace=True)\n",
    "\n",
    "trades_BTC_USD.drop_duplicates(subset=['timestamp_utc_nanoseconds'], keep='first', inplace=True)\n",
    "\n",
    "trades_BTC_USD.sort_values(by='timestamp_utc_nanoseconds', ascending=True, inplace=True)\n"
   ]
  },
  {
   "cell_type": "markdown",
   "id": "5a4fa991",
   "metadata": {},
   "source": [
    "# Calling the trade flow function to calculate trade flow for BTC-USD pair:"
   ]
  },
  {
   "cell_type": "code",
   "execution_count": 63,
   "id": "44ecdc12",
   "metadata": {
    "ExecuteTime": {
     "end_time": "2024-02-09T03:05:38.346647Z",
     "start_time": "2024-02-09T03:05:38.160762Z"
    }
   },
   "outputs": [],
   "source": [
    "trades_BTC_USD = trade_flow(trades_BTC_USD,  time_col='timestamp_utc_nanoseconds', size_col='SizeBillionths', sign_col='Side', tau='250s')"
   ]
  },
  {
   "cell_type": "markdown",
   "id": "9dd5a1bd",
   "metadata": {},
   "source": [
    "# Calculating the T-second forward returns:"
   ]
  },
  {
   "cell_type": "code",
   "execution_count": 64,
   "id": "f863848d",
   "metadata": {
    "ExecuteTime": {
     "end_time": "2024-02-09T03:05:42.599713Z",
     "start_time": "2024-02-09T03:05:38.353660Z"
    }
   },
   "outputs": [],
   "source": [
    "trades_BTC_USD = T_second_forward_return(trades_BTC_USD, book_narrow_BTC_USD, trade_price_col = 'PriceMillionths', mid_price_col = 'Mid', time_col = 'timestamp_utc_nanoseconds', T = '100s')"
   ]
  },
  {
   "cell_type": "code",
   "execution_count": 65,
   "id": "ecaef0e9",
   "metadata": {
    "ExecuteTime": {
     "end_time": "2024-02-09T03:05:42.624611Z",
     "start_time": "2024-02-09T03:05:42.606864Z"
    }
   },
   "outputs": [
    {
     "data": {
      "text/plain": [
       "(369484, 8)"
      ]
     },
     "execution_count": 65,
     "metadata": {},
     "output_type": "execute_result"
    }
   ],
   "source": [
    "trades_BTC_USD.shape"
   ]
  },
  {
   "cell_type": "code",
   "execution_count": 66,
   "id": "1f67684e",
   "metadata": {
    "ExecuteTime": {
     "end_time": "2024-02-09T03:05:42.650013Z",
     "start_time": "2024-02-09T03:05:42.631808Z"
    }
   },
   "outputs": [
    {
     "data": {
      "text/html": [
       "<div>\n",
       "<style scoped>\n",
       "    .dataframe tbody tr th:only-of-type {\n",
       "        vertical-align: middle;\n",
       "    }\n",
       "\n",
       "    .dataframe tbody tr th {\n",
       "        vertical-align: top;\n",
       "    }\n",
       "\n",
       "    .dataframe thead th {\n",
       "        text-align: right;\n",
       "    }\n",
       "</style>\n",
       "<table border=\"1\" class=\"dataframe\">\n",
       "  <thead>\n",
       "    <tr style=\"text-align: right;\">\n",
       "      <th></th>\n",
       "      <th>received_utc_nanoseconds</th>\n",
       "      <th>timestamp_utc_nanoseconds</th>\n",
       "      <th>PriceMillionths</th>\n",
       "      <th>SizeBillionths</th>\n",
       "      <th>Side</th>\n",
       "      <th>cum_size_billionths</th>\n",
       "      <th>trade_flow</th>\n",
       "      <th>T_second_forward_return</th>\n",
       "    </tr>\n",
       "  </thead>\n",
       "  <tbody>\n",
       "    <tr>\n",
       "      <th>0</th>\n",
       "      <td>1674521267814046000</td>\n",
       "      <td>1674521267874527000</td>\n",
       "      <td>22970150000</td>\n",
       "      <td>25797600</td>\n",
       "      <td>-1</td>\n",
       "      <td>-25797600</td>\n",
       "      <td>NaN</td>\n",
       "      <td>-0.000410</td>\n",
       "    </tr>\n",
       "    <tr>\n",
       "      <th>1</th>\n",
       "      <td>1674521267817981000</td>\n",
       "      <td>1674521267878712000</td>\n",
       "      <td>22970120000</td>\n",
       "      <td>10</td>\n",
       "      <td>-1</td>\n",
       "      <td>-10</td>\n",
       "      <td>-0.025798</td>\n",
       "      <td>-0.000409</td>\n",
       "    </tr>\n",
       "    <tr>\n",
       "      <th>2</th>\n",
       "      <td>1674521267822734000</td>\n",
       "      <td>1674521267886114000</td>\n",
       "      <td>22969160000</td>\n",
       "      <td>217683140</td>\n",
       "      <td>-1</td>\n",
       "      <td>-217683140</td>\n",
       "      <td>-0.025798</td>\n",
       "      <td>-0.000367</td>\n",
       "    </tr>\n",
       "    <tr>\n",
       "      <th>3</th>\n",
       "      <td>1674521274846837000</td>\n",
       "      <td>1674521268676444000</td>\n",
       "      <td>22969870000</td>\n",
       "      <td>108839400</td>\n",
       "      <td>2</td>\n",
       "      <td>108839400</td>\n",
       "      <td>-0.243481</td>\n",
       "      <td>-0.000390</td>\n",
       "    </tr>\n",
       "    <tr>\n",
       "      <th>4</th>\n",
       "      <td>1674521274882897000</td>\n",
       "      <td>1674521268812951000</td>\n",
       "      <td>22967670000</td>\n",
       "      <td>1318360</td>\n",
       "      <td>-1</td>\n",
       "      <td>-1318360</td>\n",
       "      <td>-0.134641</td>\n",
       "      <td>-0.000294</td>\n",
       "    </tr>\n",
       "  </tbody>\n",
       "</table>\n",
       "</div>"
      ],
      "text/plain": [
       "   received_utc_nanoseconds  timestamp_utc_nanoseconds  PriceMillionths  \\\n",
       "0       1674521267814046000        1674521267874527000      22970150000   \n",
       "1       1674521267817981000        1674521267878712000      22970120000   \n",
       "2       1674521267822734000        1674521267886114000      22969160000   \n",
       "3       1674521274846837000        1674521268676444000      22969870000   \n",
       "4       1674521274882897000        1674521268812951000      22967670000   \n",
       "\n",
       "   SizeBillionths  Side  cum_size_billionths  trade_flow  \\\n",
       "0        25797600    -1            -25797600         NaN   \n",
       "1              10    -1                  -10   -0.025798   \n",
       "2       217683140    -1           -217683140   -0.025798   \n",
       "3       108839400     2            108839400   -0.243481   \n",
       "4         1318360    -1             -1318360   -0.134641   \n",
       "\n",
       "   T_second_forward_return  \n",
       "0                -0.000410  \n",
       "1                -0.000409  \n",
       "2                -0.000367  \n",
       "3                -0.000390  \n",
       "4                -0.000294  "
      ]
     },
     "execution_count": 66,
     "metadata": {},
     "output_type": "execute_result"
    }
   ],
   "source": [
    "trades_BTC_USD.head()"
   ]
  },
  {
   "cell_type": "markdown",
   "id": "c3777be7",
   "metadata": {},
   "source": [
    "Looking at the data to check for nan vallues before regression:"
   ]
  },
  {
   "cell_type": "code",
   "execution_count": 67,
   "id": "2cec0f50",
   "metadata": {
    "ExecuteTime": {
     "end_time": "2024-02-09T03:05:42.709034Z",
     "start_time": "2024-02-09T03:05:42.654026Z"
    }
   },
   "outputs": [
    {
     "name": "stdout",
     "output_type": "stream",
     "text": [
      "<class 'pandas.core.frame.DataFrame'>\n",
      "RangeIndex: 369484 entries, 0 to 369483\n",
      "Data columns (total 8 columns):\n",
      " #   Column                     Non-Null Count   Dtype  \n",
      "---  ------                     --------------   -----  \n",
      " 0   received_utc_nanoseconds   369484 non-null  int64  \n",
      " 1   timestamp_utc_nanoseconds  369484 non-null  int64  \n",
      " 2   PriceMillionths            369484 non-null  int64  \n",
      " 3   SizeBillionths             369484 non-null  int64  \n",
      " 4   Side                       369484 non-null  int64  \n",
      " 5   cum_size_billionths        369484 non-null  int64  \n",
      " 6   trade_flow                 369462 non-null  float64\n",
      " 7   T_second_forward_return    369484 non-null  float64\n",
      "dtypes: float64(2), int64(6)\n",
      "memory usage: 22.6 MB\n"
     ]
    }
   ],
   "source": [
    "trades_BTC_USD.info()"
   ]
  },
  {
   "cell_type": "code",
   "execution_count": 68,
   "id": "7bdf3166",
   "metadata": {
    "ExecuteTime": {
     "end_time": "2024-02-09T03:05:43.419906Z",
     "start_time": "2024-02-09T03:05:42.714095Z"
    }
   },
   "outputs": [
    {
     "data": {
      "image/png": "[encoded data removed]",
      "text/plain": [
       "<Figure size 1000x600 with 1 Axes>"
      ]
     },
     "metadata": {},
     "output_type": "display_data"
    }
   ],
   "source": [
    "plt.figure(figsize=(10, 6))\n",
    "plt.hist(trades_ETH_BTC['trade_flow'].dropna(), bins=50, alpha=0.7)\n",
    "plt.title('Distribution of trade_flow')\n",
    "plt.xlabel('trade_flow')\n",
    "plt.ylabel('Frequency')\n",
    "plt.grid(True)\n",
    "plt.show()"
   ]
  },
  {
   "cell_type": "markdown",
   "id": "1edc415a",
   "metadata": {},
   "source": [
    "Fill the nan values for trade flow by keeping the distribution of trade flow the same:"
   ]
  },
  {
   "cell_type": "code",
   "execution_count": 69,
   "id": "0d229aa4",
   "metadata": {
    "ExecuteTime": {
     "end_time": "2024-02-09T03:05:43.445940Z",
     "start_time": "2024-02-09T03:05:43.424714Z"
    }
   },
   "outputs": [],
   "source": [
    "# Fill NaN values in 'trade_flow' with the median value\n",
    "median_flow1 = trades_BTC_USD['trade_flow'].median()\n",
    "trades_BTC_USD['trade_flow'].fillna(median_flow1, inplace=True)"
   ]
  },
  {
   "cell_type": "code",
   "execution_count": 70,
   "id": "59f09650",
   "metadata": {
    "ExecuteTime": {
     "end_time": "2024-02-09T03:05:43.721972Z",
     "start_time": "2024-02-09T03:05:43.449953Z"
    }
   },
   "outputs": [
    {
     "data": {
      "text/html": [
       "<div>\n",
       "<style scoped>\n",
       "    .dataframe tbody tr th:only-of-type {\n",
       "        vertical-align: middle;\n",
       "    }\n",
       "\n",
       "    .dataframe tbody tr th {\n",
       "        vertical-align: top;\n",
       "    }\n",
       "\n",
       "    .dataframe thead th {\n",
       "        text-align: right;\n",
       "    }\n",
       "</style>\n",
       "<table border=\"1\" class=\"dataframe\">\n",
       "  <thead>\n",
       "    <tr style=\"text-align: right;\">\n",
       "      <th></th>\n",
       "      <th>received_utc_nanoseconds</th>\n",
       "      <th>timestamp_utc_nanoseconds</th>\n",
       "      <th>PriceMillionths</th>\n",
       "      <th>SizeBillionths</th>\n",
       "      <th>Side</th>\n",
       "      <th>cum_size_billionths</th>\n",
       "      <th>trade_flow</th>\n",
       "      <th>T_second_forward_return</th>\n",
       "    </tr>\n",
       "  </thead>\n",
       "  <tbody>\n",
       "    <tr>\n",
       "      <th>count</th>\n",
       "      <td>3.694840e+05</td>\n",
       "      <td>3.694840e+05</td>\n",
       "      <td>3.694840e+05</td>\n",
       "      <td>3.694840e+05</td>\n",
       "      <td>369484.000000</td>\n",
       "      <td>3.694840e+05</td>\n",
       "      <td>369484.000000</td>\n",
       "      <td>369484.000000</td>\n",
       "    </tr>\n",
       "    <tr>\n",
       "      <th>mean</th>\n",
       "      <td>1.674589e+18</td>\n",
       "      <td>1.674589e+18</td>\n",
       "      <td>2.284267e+10</td>\n",
       "      <td>5.723075e+07</td>\n",
       "      <td>0.195879</td>\n",
       "      <td>2.020872e+06</td>\n",
       "      <td>1.388053</td>\n",
       "      <td>0.000053</td>\n",
       "    </tr>\n",
       "    <tr>\n",
       "      <th>std</th>\n",
       "      <td>3.921944e+13</td>\n",
       "      <td>3.921943e+13</td>\n",
       "      <td>1.923851e+08</td>\n",
       "      <td>1.706227e+08</td>\n",
       "      <td>1.135098</td>\n",
       "      <td>1.799539e+08</td>\n",
       "      <td>16.004254</td>\n",
       "      <td>0.001247</td>\n",
       "    </tr>\n",
       "    <tr>\n",
       "      <th>min</th>\n",
       "      <td>1.674521e+18</td>\n",
       "      <td>1.674521e+18</td>\n",
       "      <td>2.233863e+10</td>\n",
       "      <td>1.000000e+01</td>\n",
       "      <td>-22.000000</td>\n",
       "      <td>-2.744100e+10</td>\n",
       "      <td>-118.384993</td>\n",
       "      <td>-0.005549</td>\n",
       "    </tr>\n",
       "    <tr>\n",
       "      <th>25%</th>\n",
       "      <td>1.674558e+18</td>\n",
       "      <td>1.674558e+18</td>\n",
       "      <td>2.265870e+10</td>\n",
       "      <td>1.128275e+06</td>\n",
       "      <td>-1.000000</td>\n",
       "      <td>-7.680872e+06</td>\n",
       "      <td>-2.999456</td>\n",
       "      <td>-0.000519</td>\n",
       "    </tr>\n",
       "    <tr>\n",
       "      <th>50%</th>\n",
       "      <td>1.674587e+18</td>\n",
       "      <td>1.674587e+18</td>\n",
       "      <td>2.289620e+10</td>\n",
       "      <td>1.000000e+07</td>\n",
       "      <td>1.000000</td>\n",
       "      <td>2.997600e+05</td>\n",
       "      <td>2.350975</td>\n",
       "      <td>0.000011</td>\n",
       "    </tr>\n",
       "    <tr>\n",
       "      <th>75%</th>\n",
       "      <td>1.674619e+18</td>\n",
       "      <td>1.674619e+18</td>\n",
       "      <td>2.300069e+10</td>\n",
       "      <td>4.800000e+07</td>\n",
       "      <td>1.000000</td>\n",
       "      <td>1.000000e+07</td>\n",
       "      <td>7.514758</td>\n",
       "      <td>0.000531</td>\n",
       "    </tr>\n",
       "    <tr>\n",
       "      <th>max</th>\n",
       "      <td>1.674662e+18</td>\n",
       "      <td>1.674662e+18</td>\n",
       "      <td>2.316556e+10</td>\n",
       "      <td>2.744100e+10</td>\n",
       "      <td>10.000000</td>\n",
       "      <td>9.146450e+09</td>\n",
       "      <td>94.506012</td>\n",
       "      <td>0.008234</td>\n",
       "    </tr>\n",
       "  </tbody>\n",
       "</table>\n",
       "</div>"
      ],
      "text/plain": [
       "       received_utc_nanoseconds  timestamp_utc_nanoseconds  PriceMillionths  \\\n",
       "count              3.694840e+05               3.694840e+05     3.694840e+05   \n",
       "mean               1.674589e+18               1.674589e+18     2.284267e+10   \n",
       "std                3.921944e+13               3.921943e+13     1.923851e+08   \n",
       "min                1.674521e+18               1.674521e+18     2.233863e+10   \n",
       "25%                1.674558e+18               1.674558e+18     2.265870e+10   \n",
       "50%                1.674587e+18               1.674587e+18     2.289620e+10   \n",
       "75%                1.674619e+18               1.674619e+18     2.300069e+10   \n",
       "max                1.674662e+18               1.674662e+18     2.316556e+10   \n",
       "\n",
       "       SizeBillionths           Side  cum_size_billionths     trade_flow  \\\n",
       "count    3.694840e+05  369484.000000         3.694840e+05  369484.000000   \n",
       "mean     5.723075e+07       0.195879         2.020872e+06       1.388053   \n",
       "std      1.706227e+08       1.135098         1.799539e+08      16.004254   \n",
       "min      1.000000e+01     -22.000000        -2.744100e+10    -118.384993   \n",
       "25%      1.128275e+06      -1.000000        -7.680872e+06      -2.999456   \n",
       "50%      1.000000e+07       1.000000         2.997600e+05       2.350975   \n",
       "75%      4.800000e+07       1.000000         1.000000e+07       7.514758   \n",
       "max      2.744100e+10      10.000000         9.146450e+09      94.506012   \n",
       "\n",
       "       T_second_forward_return  \n",
       "count            369484.000000  \n",
       "mean                  0.000053  \n",
       "std                   0.001247  \n",
       "min                  -0.005549  \n",
       "25%                  -0.000519  \n",
       "50%                   0.000011  \n",
       "75%                   0.000531  \n",
       "max                   0.008234  "
      ]
     },
     "execution_count": 70,
     "metadata": {},
     "output_type": "execute_result"
    }
   ],
   "source": [
    "trades_BTC_USD.describe()"
   ]
  },
  {
   "cell_type": "markdown",
   "id": "f44a2726",
   "metadata": {},
   "source": [
    "Splitting the dataset into training and test data:"
   ]
  },
  {
   "cell_type": "code",
   "execution_count": 71,
   "id": "d255a8de",
   "metadata": {
    "ExecuteTime": {
     "end_time": "2024-02-09T03:05:43.738295Z",
     "start_time": "2024-02-09T03:05:43.727367Z"
    }
   },
   "outputs": [],
   "source": [
    "train_BTC_USD, test_BTC_USD = train_test_data(trades_BTC_USD, train_size=0.6)"
   ]
  },
  {
   "cell_type": "code",
   "execution_count": 72,
   "id": "cb914d4b",
   "metadata": {
    "ExecuteTime": {
     "end_time": "2024-02-09T03:05:43.768354Z",
     "start_time": "2024-02-09T03:05:43.745765Z"
    }
   },
   "outputs": [
    {
     "data": {
      "text/html": [
       "<div>\n",
       "<style scoped>\n",
       "    .dataframe tbody tr th:only-of-type {\n",
       "        vertical-align: middle;\n",
       "    }\n",
       "\n",
       "    .dataframe tbody tr th {\n",
       "        vertical-align: top;\n",
       "    }\n",
       "\n",
       "    .dataframe thead th {\n",
       "        text-align: right;\n",
       "    }\n",
       "</style>\n",
       "<table border=\"1\" class=\"dataframe\">\n",
       "  <thead>\n",
       "    <tr style=\"text-align: right;\">\n",
       "      <th></th>\n",
       "      <th>received_utc_nanoseconds</th>\n",
       "      <th>timestamp_utc_nanoseconds</th>\n",
       "      <th>PriceMillionths</th>\n",
       "      <th>SizeBillionths</th>\n",
       "      <th>Side</th>\n",
       "      <th>cum_size_billionths</th>\n",
       "      <th>trade_flow</th>\n",
       "      <th>T_second_forward_return</th>\n",
       "    </tr>\n",
       "  </thead>\n",
       "  <tbody>\n",
       "    <tr>\n",
       "      <th>0</th>\n",
       "      <td>1674521267814046000</td>\n",
       "      <td>1674521267874527000</td>\n",
       "      <td>22970150000</td>\n",
       "      <td>25797600</td>\n",
       "      <td>-1</td>\n",
       "      <td>-25797600</td>\n",
       "      <td>2.350975</td>\n",
       "      <td>-0.000410</td>\n",
       "    </tr>\n",
       "    <tr>\n",
       "      <th>1</th>\n",
       "      <td>1674521267817981000</td>\n",
       "      <td>1674521267878712000</td>\n",
       "      <td>22970120000</td>\n",
       "      <td>10</td>\n",
       "      <td>-1</td>\n",
       "      <td>-10</td>\n",
       "      <td>-0.025798</td>\n",
       "      <td>-0.000409</td>\n",
       "    </tr>\n",
       "    <tr>\n",
       "      <th>2</th>\n",
       "      <td>1674521267822734000</td>\n",
       "      <td>1674521267886114000</td>\n",
       "      <td>22969160000</td>\n",
       "      <td>217683140</td>\n",
       "      <td>-1</td>\n",
       "      <td>-217683140</td>\n",
       "      <td>-0.025798</td>\n",
       "      <td>-0.000367</td>\n",
       "    </tr>\n",
       "    <tr>\n",
       "      <th>3</th>\n",
       "      <td>1674521274846837000</td>\n",
       "      <td>1674521268676444000</td>\n",
       "      <td>22969870000</td>\n",
       "      <td>108839400</td>\n",
       "      <td>2</td>\n",
       "      <td>108839400</td>\n",
       "      <td>-0.243481</td>\n",
       "      <td>-0.000390</td>\n",
       "    </tr>\n",
       "    <tr>\n",
       "      <th>4</th>\n",
       "      <td>1674521274882897000</td>\n",
       "      <td>1674521268812951000</td>\n",
       "      <td>22967670000</td>\n",
       "      <td>1318360</td>\n",
       "      <td>-1</td>\n",
       "      <td>-1318360</td>\n",
       "      <td>-0.134641</td>\n",
       "      <td>-0.000294</td>\n",
       "    </tr>\n",
       "  </tbody>\n",
       "</table>\n",
       "</div>"
      ],
      "text/plain": [
       "   received_utc_nanoseconds  timestamp_utc_nanoseconds  PriceMillionths  \\\n",
       "0       1674521267814046000        1674521267874527000      22970150000   \n",
       "1       1674521267817981000        1674521267878712000      22970120000   \n",
       "2       1674521267822734000        1674521267886114000      22969160000   \n",
       "3       1674521274846837000        1674521268676444000      22969870000   \n",
       "4       1674521274882897000        1674521268812951000      22967670000   \n",
       "\n",
       "   SizeBillionths  Side  cum_size_billionths  trade_flow  \\\n",
       "0        25797600    -1            -25797600    2.350975   \n",
       "1              10    -1                  -10   -0.025798   \n",
       "2       217683140    -1           -217683140   -0.025798   \n",
       "3       108839400     2            108839400   -0.243481   \n",
       "4         1318360    -1             -1318360   -0.134641   \n",
       "\n",
       "   T_second_forward_return  \n",
       "0                -0.000410  \n",
       "1                -0.000409  \n",
       "2                -0.000367  \n",
       "3                -0.000390  \n",
       "4                -0.000294  "
      ]
     },
     "execution_count": 72,
     "metadata": {},
     "output_type": "execute_result"
    }
   ],
   "source": [
    "train_BTC_USD.head()"
   ]
  },
  {
   "cell_type": "markdown",
   "id": "44080ab1",
   "metadata": {},
   "source": [
    "Checking for percentage for training and test data:"
   ]
  },
  {
   "cell_type": "code",
   "execution_count": 73,
   "id": "02104045",
   "metadata": {
    "ExecuteTime": {
     "end_time": "2024-02-09T03:05:43.783739Z",
     "start_time": "2024-02-09T03:05:43.774724Z"
    }
   },
   "outputs": [
    {
     "name": "stdout",
     "output_type": "stream",
     "text": [
      "Training set length: 221690\n",
      "Testing set length: 147794\n"
     ]
    }
   ],
   "source": [
    "print(f\"Training set length: {len(train_BTC_USD)}\")\n",
    "print(f\"Testing set length: {len(test_BTC_USD)}\")"
   ]
  },
  {
   "cell_type": "markdown",
   "id": "f1b7fa0f",
   "metadata": {},
   "source": [
    "# Calling the regression function:"
   ]
  },
  {
   "cell_type": "code",
   "execution_count": 74,
   "id": "b92f673d",
   "metadata": {
    "ExecuteTime": {
     "end_time": "2024-02-09T03:05:43.975655Z",
     "start_time": "2024-02-09T03:05:43.790145Z"
    }
   },
   "outputs": [],
   "source": [
    "beta_BTC_USD, test_pred_BTC_USD, r2_BTC_USD = regression(train_BTC_USD, test_BTC_USD, flow_col='trade_flow', return_col='T_second_forward_return')"
   ]
  },
  {
   "cell_type": "code",
   "execution_count": 75,
   "id": "defc26c8",
   "metadata": {
    "ExecuteTime": {
     "end_time": "2024-02-09T03:05:43.993048Z",
     "start_time": "2024-02-09T03:05:43.980794Z"
    }
   },
   "outputs": [
    {
     "data": {
      "text/plain": [
       "0.0009130990390580074"
      ]
     },
     "execution_count": 75,
     "metadata": {},
     "output_type": "execute_result"
    }
   ],
   "source": [
    "r2_BTC_USD\n"
   ]
  },
  {
   "cell_type": "code",
   "execution_count": 76,
   "id": "0f5af4d9",
   "metadata": {
    "ExecuteTime": {
     "end_time": "2024-02-09T03:05:44.018121Z",
     "start_time": "2024-02-09T03:05:43.998745Z"
    }
   },
   "outputs": [
    {
     "data": {
      "text/plain": [
       "-1.7358470467690053e-06"
      ]
     },
     "execution_count": 76,
     "metadata": {},
     "output_type": "execute_result"
    }
   ],
   "source": [
    "beta_BTC_USD"
   ]
  },
  {
   "cell_type": "markdown",
   "id": "6754fab7",
   "metadata": {},
   "source": [
    "# Calculate beta for various tau and T pairs:"
   ]
  },
  {
   "cell_type": "code",
   "execution_count": 77,
   "id": "b47f1428",
   "metadata": {
    "ExecuteTime": {
     "end_time": "2024-02-09T03:05:44.045744Z",
     "start_time": "2024-02-09T03:05:44.025308Z"
    }
   },
   "outputs": [],
   "source": [
    "tau_T_pairs1 = [('5s', '1s'), ('10s', '5s'), ('15s', '10s'), ('20s', '15s'), ('25s', '20s'), ('30s', '25s'), ('35s', '30s'), ('40s', '30s'), ('50s', '40s'), ('60s', '50s'), ('100s', '80s')]"
   ]
  },
  {
   "cell_type": "code",
   "execution_count": 78,
   "id": "48827501",
   "metadata": {
    "ExecuteTime": {
     "end_time": "2024-02-09T03:06:20.897335Z",
     "start_time": "2024-02-09T03:05:44.059078Z"
    }
   },
   "outputs": [
    {
     "name": "stdout",
     "output_type": "stream",
     "text": [
      "     tau    T      beta\n",
      "0     5s   1s -0.000007\n",
      "1    10s   5s -0.000010\n",
      "2    15s  10s -0.000010\n",
      "3    20s  15s -0.000006\n",
      "4    25s  20s -0.000003\n",
      "5    30s  25s -0.000004\n",
      "6    35s  30s -0.000004\n",
      "7    40s  30s -0.000005\n",
      "8    50s  40s -0.000007\n",
      "9    60s  50s -0.000010\n",
      "10  100s  80s -0.000011\n"
     ]
    }
   ],
   "source": [
    "beta_values1 = {}\n",
    "\n",
    "# Loop through each pair of tau and T\n",
    "for tau, T in tau_T_pairs1:\n",
    "    beta1 = pipeline(trades_BTC_USD, book_narrow_BTC_USD, \n",
    "                    time_col='timestamp_utc_nanoseconds',\n",
    "                    size_col='SizeBillionths', \n",
    "                    sign_col='Side', \n",
    "                    trade_price_col='PriceMillionths', \n",
    "                    mid_price_col='Mid', \n",
    "                    tau=tau, T=T, \n",
    "                    train_size=0.4)\n",
    "    # Store the beta value in the dictionary\n",
    "    beta_values1[(tau, T)] = beta1\n",
    "\n",
    "beta_records = [{'tau': tau, 'T': T, 'beta': beta1} for (tau, T), beta1 in beta_values1.items()]\n",
    "\n",
    "# Create a DataFrame\n",
    "beta_df1 = pd.DataFrame(beta_records)\n",
    "\n",
    "# Display the DataFrame\n",
    "print(beta_df1)"
   ]
  },
  {
   "cell_type": "markdown",
   "id": "e97e6e6e",
   "metadata": {},
   "source": [
    "# Looking at the reliability and stability of beta:"
   ]
  },
  {
   "cell_type": "code",
   "execution_count": 79,
   "id": "3bc83616",
   "metadata": {
    "ExecuteTime": {
     "end_time": "2024-02-09T03:06:21.687492Z",
     "start_time": "2024-02-09T03:06:20.901380Z"
    }
   },
   "outputs": [
    {
     "data": {
      "image/png": "[encoded data removed]",
      "text/plain": [
       "<Figure size 1000x600 with 1 Axes>"
      ]
     },
     "metadata": {},
     "output_type": "display_data"
    },
    {
     "data": {
      "image/png": "[encoded data removed]",
      "text/plain": [
       "<Figure size 1000x600 with 1 Axes>"
      ]
     },
     "metadata": {},
     "output_type": "display_data"
    },
    {
     "name": "stdout",
     "output_type": "stream",
     "text": [
      "{'Coefficient of Variation': -0.4132471003240253, 'Beta Standard Deviation': 2.8758531017948895e-06, 'Beta Range': 8.113192837143382e-06}\n"
     ]
    }
   ],
   "source": [
    "rel_stab_beta1 = analyze_beta_stability(beta_df1)\n",
    "print(rel_stab_beta1)"
   ]
  },
  {
   "cell_type": "markdown",
   "id": "793aa832",
   "metadata": {},
   "source": [
    "From the plot we can see that, beta doesn't varies that much as we change the tau and T intervals."
   ]
  },
  {
   "cell_type": "markdown",
   "id": "233aa8ee",
   "metadata": {},
   "source": [
    "# Various beta for different training sizes by considering best tau and T:"
   ]
  },
  {
   "cell_type": "code",
   "execution_count": 80,
   "id": "b385640c",
   "metadata": {
    "ExecuteTime": {
     "end_time": "2024-02-09T03:06:36.740478Z",
     "start_time": "2024-02-09T03:06:21.693883Z"
    }
   },
   "outputs": [
    {
     "data": {
      "image/png": "[encoded data removed]",
      "text/plain": [
       "<Figure size 1000x600 with 1 Axes>"
      ]
     },
     "metadata": {},
     "output_type": "display_data"
    }
   ],
   "source": [
    "best_tau1 = '250s'\n",
    "best_T1 = '100s'\n",
    "\n",
    "# Define the range of training sizes\n",
    "train_sizes1 = [0.4, 0.5, 0.6, 0.7, 0.8]\n",
    "\n",
    "# Initialize an empty list to store the results\n",
    "beta_values2 = []\n",
    "\n",
    "# Loop over the training sizes\n",
    "for train_size in train_sizes1:\n",
    "    beta = pipeline(trades_BTC_USD, book_narrow_BTC_USD, \n",
    "                    time_col='timestamp_utc_nanoseconds',\n",
    "                    size_col='SizeBillionths', \n",
    "                    sign_col='Side', \n",
    "                    trade_price_col='PriceMillionths', \n",
    "                    mid_price_col='Mid', \n",
    "                    tau=best_tau1, T=best_T1, \n",
    "                    train_size=train_size)\n",
    "    beta_values2.append(beta)\n",
    "\n",
    "# Plotting\n",
    "plt.figure(figsize=(10, 6))\n",
    "plt.plot(train_sizes1, beta_values2, marker='o')\n",
    "plt.title('Beta Values for Different Training Sizes')\n",
    "plt.xlabel('Training Size')\n",
    "plt.ylabel('Beta Value')\n",
    "plt.xticks(train_sizes1)\n",
    "plt.grid(True)\n",
    "plt.show()"
   ]
  },
  {
   "cell_type": "markdown",
   "id": "4daefa59",
   "metadata": {},
   "source": [
    "# Look at the return prediction from the regression function:"
   ]
  },
  {
   "cell_type": "code",
   "execution_count": 81,
   "id": "8c519886",
   "metadata": {
    "ExecuteTime": {
     "end_time": "2024-02-09T03:06:36.781838Z",
     "start_time": "2024-02-09T03:06:36.746499Z"
    }
   },
   "outputs": [
    {
     "data": {
      "text/html": [
       "<div>\n",
       "<style scoped>\n",
       "    .dataframe tbody tr th:only-of-type {\n",
       "        vertical-align: middle;\n",
       "    }\n",
       "\n",
       "    .dataframe tbody tr th {\n",
       "        vertical-align: top;\n",
       "    }\n",
       "\n",
       "    .dataframe thead th {\n",
       "        text-align: right;\n",
       "    }\n",
       "</style>\n",
       "<table border=\"1\" class=\"dataframe\">\n",
       "  <thead>\n",
       "    <tr style=\"text-align: right;\">\n",
       "      <th></th>\n",
       "      <th>received_utc_nanoseconds</th>\n",
       "      <th>timestamp_utc_nanoseconds</th>\n",
       "      <th>PriceMillionths</th>\n",
       "      <th>SizeBillionths</th>\n",
       "      <th>Side</th>\n",
       "      <th>cum_size_billionths</th>\n",
       "      <th>trade_flow</th>\n",
       "      <th>T_second_forward_return</th>\n",
       "      <th>predicted_return</th>\n",
       "    </tr>\n",
       "  </thead>\n",
       "  <tbody>\n",
       "    <tr>\n",
       "      <th>221690</th>\n",
       "      <td>1674596253328640000</td>\n",
       "      <td>1674596253364714000</td>\n",
       "      <td>23012210000</td>\n",
       "      <td>839370</td>\n",
       "      <td>1</td>\n",
       "      <td>839370</td>\n",
       "      <td>8.948746</td>\n",
       "      <td>-0.000432</td>\n",
       "      <td>-0.000016</td>\n",
       "    </tr>\n",
       "    <tr>\n",
       "      <th>221691</th>\n",
       "      <td>1674596253643133000</td>\n",
       "      <td>1674596253680436000</td>\n",
       "      <td>23012210000</td>\n",
       "      <td>1080980</td>\n",
       "      <td>1</td>\n",
       "      <td>1080980</td>\n",
       "      <td>8.963564</td>\n",
       "      <td>-0.000444</td>\n",
       "      <td>-0.000016</td>\n",
       "    </tr>\n",
       "    <tr>\n",
       "      <th>221692</th>\n",
       "      <td>1674596253742026000</td>\n",
       "      <td>1674596253779376000</td>\n",
       "      <td>23011840000</td>\n",
       "      <td>2928430</td>\n",
       "      <td>-1</td>\n",
       "      <td>-2928430</td>\n",
       "      <td>8.963326</td>\n",
       "      <td>-0.000426</td>\n",
       "      <td>-0.000016</td>\n",
       "    </tr>\n",
       "    <tr>\n",
       "      <th>221693</th>\n",
       "      <td>1674596254090794000</td>\n",
       "      <td>1674596254126242000</td>\n",
       "      <td>23012170000</td>\n",
       "      <td>87280</td>\n",
       "      <td>1</td>\n",
       "      <td>87280</td>\n",
       "      <td>8.956204</td>\n",
       "      <td>-0.000441</td>\n",
       "      <td>-0.000016</td>\n",
       "    </tr>\n",
       "    <tr>\n",
       "      <th>221694</th>\n",
       "      <td>1674596254528000000</td>\n",
       "      <td>1674596254565429000</td>\n",
       "      <td>23011860000</td>\n",
       "      <td>193530</td>\n",
       "      <td>-1</td>\n",
       "      <td>-193530</td>\n",
       "      <td>8.954798</td>\n",
       "      <td>-0.000438</td>\n",
       "      <td>-0.000016</td>\n",
       "    </tr>\n",
       "    <tr>\n",
       "      <th>...</th>\n",
       "      <td>...</td>\n",
       "      <td>...</td>\n",
       "      <td>...</td>\n",
       "      <td>...</td>\n",
       "      <td>...</td>\n",
       "      <td>...</td>\n",
       "      <td>...</td>\n",
       "      <td>...</td>\n",
       "      <td>...</td>\n",
       "    </tr>\n",
       "    <tr>\n",
       "      <th>369479</th>\n",
       "      <td>1674661801474245000</td>\n",
       "      <td>1674661801477570000</td>\n",
       "      <td>22573080000</td>\n",
       "      <td>920730</td>\n",
       "      <td>1</td>\n",
       "      <td>920730</td>\n",
       "      <td>5.986970</td>\n",
       "      <td>-0.000110</td>\n",
       "      <td>-0.000010</td>\n",
       "    </tr>\n",
       "    <tr>\n",
       "      <th>369480</th>\n",
       "      <td>1674661801534824000</td>\n",
       "      <td>1674661801543105000</td>\n",
       "      <td>22571970000</td>\n",
       "      <td>335000000</td>\n",
       "      <td>-1</td>\n",
       "      <td>-335000000</td>\n",
       "      <td>5.987891</td>\n",
       "      <td>-0.000060</td>\n",
       "      <td>-0.000010</td>\n",
       "    </tr>\n",
       "    <tr>\n",
       "      <th>369481</th>\n",
       "      <td>1674661801592039000</td>\n",
       "      <td>1674661801601688000</td>\n",
       "      <td>22570920000</td>\n",
       "      <td>50000000</td>\n",
       "      <td>-1</td>\n",
       "      <td>-50000000</td>\n",
       "      <td>5.655578</td>\n",
       "      <td>-0.000014</td>\n",
       "      <td>-0.000010</td>\n",
       "    </tr>\n",
       "    <tr>\n",
       "      <th>369482</th>\n",
       "      <td>1674661801592674000</td>\n",
       "      <td>1674661801601719000</td>\n",
       "      <td>22570920000</td>\n",
       "      <td>32600000</td>\n",
       "      <td>-1</td>\n",
       "      <td>-32600000</td>\n",
       "      <td>5.605578</td>\n",
       "      <td>-0.000014</td>\n",
       "      <td>-0.000010</td>\n",
       "    </tr>\n",
       "    <tr>\n",
       "      <th>369483</th>\n",
       "      <td>1674661801593427000</td>\n",
       "      <td>1674661801601767000</td>\n",
       "      <td>22570920000</td>\n",
       "      <td>6009570</td>\n",
       "      <td>-1</td>\n",
       "      <td>-6009570</td>\n",
       "      <td>5.572978</td>\n",
       "      <td>-0.000014</td>\n",
       "      <td>-0.000010</td>\n",
       "    </tr>\n",
       "  </tbody>\n",
       "</table>\n",
       "<p>147794 rows × 9 columns</p>\n",
       "</div>"
      ],
      "text/plain": [
       "        received_utc_nanoseconds  timestamp_utc_nanoseconds  PriceMillionths  \\\n",
       "221690       1674596253328640000        1674596253364714000      23012210000   \n",
       "221691       1674596253643133000        1674596253680436000      23012210000   \n",
       "221692       1674596253742026000        1674596253779376000      23011840000   \n",
       "221693       1674596254090794000        1674596254126242000      23012170000   \n",
       "221694       1674596254528000000        1674596254565429000      23011860000   \n",
       "...                          ...                        ...              ...   \n",
       "369479       1674661801474245000        1674661801477570000      22573080000   \n",
       "369480       1674661801534824000        1674661801543105000      22571970000   \n",
       "369481       1674661801592039000        1674661801601688000      22570920000   \n",
       "369482       1674661801592674000        1674661801601719000      22570920000   \n",
       "369483       1674661801593427000        1674661801601767000      22570920000   \n",
       "\n",
       "        SizeBillionths  Side  cum_size_billionths  trade_flow  \\\n",
       "221690          839370     1               839370    8.948746   \n",
       "221691         1080980     1              1080980    8.963564   \n",
       "221692         2928430    -1             -2928430    8.963326   \n",
       "221693           87280     1                87280    8.956204   \n",
       "221694          193530    -1              -193530    8.954798   \n",
       "...                ...   ...                  ...         ...   \n",
       "369479          920730     1               920730    5.986970   \n",
       "369480       335000000    -1           -335000000    5.987891   \n",
       "369481        50000000    -1            -50000000    5.655578   \n",
       "369482        32600000    -1            -32600000    5.605578   \n",
       "369483         6009570    -1             -6009570    5.572978   \n",
       "\n",
       "        T_second_forward_return  predicted_return  \n",
       "221690                -0.000432         -0.000016  \n",
       "221691                -0.000444         -0.000016  \n",
       "221692                -0.000426         -0.000016  \n",
       "221693                -0.000441         -0.000016  \n",
       "221694                -0.000438         -0.000016  \n",
       "...                         ...               ...  \n",
       "369479                -0.000110         -0.000010  \n",
       "369480                -0.000060         -0.000010  \n",
       "369481                -0.000014         -0.000010  \n",
       "369482                -0.000014         -0.000010  \n",
       "369483                -0.000014         -0.000010  \n",
       "\n",
       "[147794 rows x 9 columns]"
      ]
     },
     "execution_count": 81,
     "metadata": {},
     "output_type": "execute_result"
    }
   ],
   "source": [
    "test_pred_BTC_USD"
   ]
  },
  {
   "cell_type": "code",
   "execution_count": 82,
   "id": "5a70a541",
   "metadata": {
    "ExecuteTime": {
     "end_time": "2024-02-09T03:06:36.861512Z",
     "start_time": "2024-02-09T03:06:36.841413Z"
    }
   },
   "outputs": [
    {
     "data": {
      "text/plain": [
       "count    147794.000000\n",
       "mean          0.000002\n",
       "std           0.000030\n",
       "min          -0.000164\n",
       "25%          -0.000010\n",
       "50%          -0.000002\n",
       "75%           0.000008\n",
       "max           0.000205\n",
       "Name: predicted_return, dtype: float64"
      ]
     },
     "execution_count": 82,
     "metadata": {},
     "output_type": "execute_result"
    }
   ],
   "source": [
    "test_pred_BTC_USD['predicted_return'].describe()"
   ]
  },
  {
   "cell_type": "markdown",
   "id": "a942cf70",
   "metadata": {},
   "source": [
    "# Deciding j:"
   ]
  },
  {
   "cell_type": "markdown",
   "id": "1046188c",
   "metadata": {},
   "source": [
    "j has been decided in such a way that trade can be performed 30% of the time:"
   ]
  },
  {
   "cell_type": "code",
   "execution_count": 83,
   "id": "ca7a7e1c",
   "metadata": {
    "ExecuteTime": {
     "end_time": "2024-02-09T03:06:36.882371Z",
     "start_time": "2024-02-09T03:06:36.867604Z"
    }
   },
   "outputs": [
    {
     "data": {
      "text/plain": [
       "1.5646840424428772e-05"
      ]
     },
     "execution_count": 83,
     "metadata": {},
     "output_type": "execute_result"
    }
   ],
   "source": [
    "# Calculate the absolute values of the predicted returns\n",
    "absolute_predicted_returns1 = test_pred_BTC_USD['predicted_return'].abs()\n",
    "\n",
    "# Find the value of j such that 70% of the predicted returns are greater than j\n",
    "j_BTC_USD = np.percentile(absolute_predicted_returns1, 70)  # 70th percentile since we want the lower threshold\n",
    "\n",
    "j_BTC_USD"
   ]
  },
  {
   "cell_type": "markdown",
   "id": "621816d1",
   "metadata": {},
   "source": [
    "Finding trade signals for the decided j:"
   ]
  },
  {
   "cell_type": "code",
   "execution_count": 84,
   "id": "09e8112c",
   "metadata": {
    "ExecuteTime": {
     "end_time": "2024-02-09T03:06:36.897078Z",
     "start_time": "2024-02-09T03:06:36.886795Z"
    }
   },
   "outputs": [],
   "source": [
    "test_pred_BTC_USD = find_trade_signals(test_pred_BTC_USD, predicted_return_col='predicted_return', j=j_BTC_USD)"
   ]
  },
  {
   "cell_type": "code",
   "execution_count": 85,
   "id": "8f401642",
   "metadata": {
    "ExecuteTime": {
     "end_time": "2024-02-09T03:06:36.923528Z",
     "start_time": "2024-02-09T03:06:36.902480Z"
    }
   },
   "outputs": [
    {
     "data": {
      "text/html": [
       "<div>\n",
       "<style scoped>\n",
       "    .dataframe tbody tr th:only-of-type {\n",
       "        vertical-align: middle;\n",
       "    }\n",
       "\n",
       "    .dataframe tbody tr th {\n",
       "        vertical-align: top;\n",
       "    }\n",
       "\n",
       "    .dataframe thead th {\n",
       "        text-align: right;\n",
       "    }\n",
       "</style>\n",
       "<table border=\"1\" class=\"dataframe\">\n",
       "  <thead>\n",
       "    <tr style=\"text-align: right;\">\n",
       "      <th></th>\n",
       "      <th>received_utc_nanoseconds</th>\n",
       "      <th>timestamp_utc_nanoseconds</th>\n",
       "      <th>PriceMillionths</th>\n",
       "      <th>SizeBillionths</th>\n",
       "      <th>Side</th>\n",
       "      <th>cum_size_billionths</th>\n",
       "      <th>trade_flow</th>\n",
       "      <th>T_second_forward_return</th>\n",
       "      <th>predicted_return</th>\n",
       "      <th>trade_signal</th>\n",
       "    </tr>\n",
       "  </thead>\n",
       "  <tbody>\n",
       "    <tr>\n",
       "      <th>221690</th>\n",
       "      <td>1674596253328640000</td>\n",
       "      <td>1674596253364714000</td>\n",
       "      <td>23012210000</td>\n",
       "      <td>839370</td>\n",
       "      <td>1</td>\n",
       "      <td>839370</td>\n",
       "      <td>8.948746</td>\n",
       "      <td>-0.000432</td>\n",
       "      <td>-0.000016</td>\n",
       "      <td>False</td>\n",
       "    </tr>\n",
       "    <tr>\n",
       "      <th>221691</th>\n",
       "      <td>1674596253643133000</td>\n",
       "      <td>1674596253680436000</td>\n",
       "      <td>23012210000</td>\n",
       "      <td>1080980</td>\n",
       "      <td>1</td>\n",
       "      <td>1080980</td>\n",
       "      <td>8.963564</td>\n",
       "      <td>-0.000444</td>\n",
       "      <td>-0.000016</td>\n",
       "      <td>False</td>\n",
       "    </tr>\n",
       "    <tr>\n",
       "      <th>221692</th>\n",
       "      <td>1674596253742026000</td>\n",
       "      <td>1674596253779376000</td>\n",
       "      <td>23011840000</td>\n",
       "      <td>2928430</td>\n",
       "      <td>-1</td>\n",
       "      <td>-2928430</td>\n",
       "      <td>8.963326</td>\n",
       "      <td>-0.000426</td>\n",
       "      <td>-0.000016</td>\n",
       "      <td>False</td>\n",
       "    </tr>\n",
       "    <tr>\n",
       "      <th>221693</th>\n",
       "      <td>1674596254090794000</td>\n",
       "      <td>1674596254126242000</td>\n",
       "      <td>23012170000</td>\n",
       "      <td>87280</td>\n",
       "      <td>1</td>\n",
       "      <td>87280</td>\n",
       "      <td>8.956204</td>\n",
       "      <td>-0.000441</td>\n",
       "      <td>-0.000016</td>\n",
       "      <td>False</td>\n",
       "    </tr>\n",
       "    <tr>\n",
       "      <th>221694</th>\n",
       "      <td>1674596254528000000</td>\n",
       "      <td>1674596254565429000</td>\n",
       "      <td>23011860000</td>\n",
       "      <td>193530</td>\n",
       "      <td>-1</td>\n",
       "      <td>-193530</td>\n",
       "      <td>8.954798</td>\n",
       "      <td>-0.000438</td>\n",
       "      <td>-0.000016</td>\n",
       "      <td>False</td>\n",
       "    </tr>\n",
       "  </tbody>\n",
       "</table>\n",
       "</div>"
      ],
      "text/plain": [
       "        received_utc_nanoseconds  timestamp_utc_nanoseconds  PriceMillionths  \\\n",
       "221690       1674596253328640000        1674596253364714000      23012210000   \n",
       "221691       1674596253643133000        1674596253680436000      23012210000   \n",
       "221692       1674596253742026000        1674596253779376000      23011840000   \n",
       "221693       1674596254090794000        1674596254126242000      23012170000   \n",
       "221694       1674596254528000000        1674596254565429000      23011860000   \n",
       "\n",
       "        SizeBillionths  Side  cum_size_billionths  trade_flow  \\\n",
       "221690          839370     1               839370    8.948746   \n",
       "221691         1080980     1              1080980    8.963564   \n",
       "221692         2928430    -1             -2928430    8.963326   \n",
       "221693           87280     1                87280    8.956204   \n",
       "221694          193530    -1              -193530    8.954798   \n",
       "\n",
       "        T_second_forward_return  predicted_return  trade_signal  \n",
       "221690                -0.000432         -0.000016         False  \n",
       "221691                -0.000444         -0.000016         False  \n",
       "221692                -0.000426         -0.000016         False  \n",
       "221693                -0.000441         -0.000016         False  \n",
       "221694                -0.000438         -0.000016         False  "
      ]
     },
     "execution_count": 85,
     "metadata": {},
     "output_type": "execute_result"
    }
   ],
   "source": [
    "test_pred_BTC_USD.head()"
   ]
  },
  {
   "cell_type": "code",
   "execution_count": 86,
   "id": "814fade4",
   "metadata": {
    "ExecuteTime": {
     "end_time": "2024-02-09T03:06:36.940821Z",
     "start_time": "2024-02-09T03:06:36.926839Z"
    }
   },
   "outputs": [
    {
     "data": {
      "text/plain": [
       "trade_signal\n",
       "False    103456\n",
       "True      44338\n",
       "Name: count, dtype: int64"
      ]
     },
     "execution_count": 86,
     "metadata": {},
     "output_type": "execute_result"
    }
   ],
   "source": [
    "test_pred_BTC_USD['trade_signal'].value_counts()"
   ]
  },
  {
   "cell_type": "markdown",
   "id": "938016bb",
   "metadata": {},
   "source": [
    "# Creating the pnl dataframe:"
   ]
  },
  {
   "cell_type": "code",
   "execution_count": 87,
   "id": "b68f30c3",
   "metadata": {
    "ExecuteTime": {
     "end_time": "2024-02-09T03:06:44.357724Z",
     "start_time": "2024-02-09T03:06:36.947025Z"
    }
   },
   "outputs": [
    {
     "data": {
      "text/html": [
       "<div>\n",
       "<style scoped>\n",
       "    .dataframe tbody tr th:only-of-type {\n",
       "        vertical-align: middle;\n",
       "    }\n",
       "\n",
       "    .dataframe tbody tr th {\n",
       "        vertical-align: top;\n",
       "    }\n",
       "\n",
       "    .dataframe thead th {\n",
       "        text-align: right;\n",
       "    }\n",
       "</style>\n",
       "<table border=\"1\" class=\"dataframe\">\n",
       "  <thead>\n",
       "    <tr style=\"text-align: right;\">\n",
       "      <th></th>\n",
       "      <th>timestamp_utc_nanoseconds</th>\n",
       "      <th>position</th>\n",
       "      <th>PriceMillionths</th>\n",
       "      <th>Mid</th>\n",
       "      <th>acc_qty</th>\n",
       "      <th>plT</th>\n",
       "      <th>acc_plT</th>\n",
       "    </tr>\n",
       "  </thead>\n",
       "  <tbody>\n",
       "    <tr>\n",
       "      <th>0</th>\n",
       "      <td>1674596263779157000</td>\n",
       "      <td>0.008691</td>\n",
       "      <td>23011.48</td>\n",
       "      <td>23011.055</td>\n",
       "      <td>0.000000e+00</td>\n",
       "      <td>-0.003694</td>\n",
       "      <td>0.000000</td>\n",
       "    </tr>\n",
       "    <tr>\n",
       "      <th>1</th>\n",
       "      <td>1674596263791059000</td>\n",
       "      <td>0.020600</td>\n",
       "      <td>23011.31</td>\n",
       "      <td>23011.060</td>\n",
       "      <td>8.691000e+06</td>\n",
       "      <td>-0.005150</td>\n",
       "      <td>-0.003694</td>\n",
       "    </tr>\n",
       "    <tr>\n",
       "      <th>2</th>\n",
       "      <td>1674596264682806000</td>\n",
       "      <td>0.000056</td>\n",
       "      <td>23011.48</td>\n",
       "      <td>23011.195</td>\n",
       "      <td>2.929100e+07</td>\n",
       "      <td>-0.000016</td>\n",
       "      <td>-0.008844</td>\n",
       "    </tr>\n",
       "    <tr>\n",
       "      <th>3</th>\n",
       "      <td>1674596264741925000</td>\n",
       "      <td>0.002252</td>\n",
       "      <td>23011.48</td>\n",
       "      <td>23011.210</td>\n",
       "      <td>2.934734e+07</td>\n",
       "      <td>-0.000608</td>\n",
       "      <td>-0.008860</td>\n",
       "    </tr>\n",
       "    <tr>\n",
       "      <th>4</th>\n",
       "      <td>1674596265064895000</td>\n",
       "      <td>0.010000</td>\n",
       "      <td>23011.48</td>\n",
       "      <td>23011.245</td>\n",
       "      <td>3.159903e+07</td>\n",
       "      <td>-0.002350</td>\n",
       "      <td>-0.009468</td>\n",
       "    </tr>\n",
       "    <tr>\n",
       "      <th>...</th>\n",
       "      <td>...</td>\n",
       "      <td>...</td>\n",
       "      <td>...</td>\n",
       "      <td>...</td>\n",
       "      <td>...</td>\n",
       "      <td>...</td>\n",
       "      <td>...</td>\n",
       "    </tr>\n",
       "    <tr>\n",
       "      <th>44333</th>\n",
       "      <td>1674661788120435000</td>\n",
       "      <td>0.000059</td>\n",
       "      <td>22581.95</td>\n",
       "      <td>22580.615</td>\n",
       "      <td>-8.389503e+09</td>\n",
       "      <td>-0.000079</td>\n",
       "      <td>-665.218917</td>\n",
       "    </tr>\n",
       "    <tr>\n",
       "      <th>44334</th>\n",
       "      <td>1674661788162403000</td>\n",
       "      <td>0.000431</td>\n",
       "      <td>22581.69</td>\n",
       "      <td>22579.900</td>\n",
       "      <td>-8.389444e+09</td>\n",
       "      <td>-0.000772</td>\n",
       "      <td>-665.218996</td>\n",
       "    </tr>\n",
       "    <tr>\n",
       "      <th>44335</th>\n",
       "      <td>1674661788781066000</td>\n",
       "      <td>-0.050000</td>\n",
       "      <td>22580.48</td>\n",
       "      <td>22579.850</td>\n",
       "      <td>-8.389013e+09</td>\n",
       "      <td>0.031500</td>\n",
       "      <td>-665.219768</td>\n",
       "    </tr>\n",
       "    <tr>\n",
       "      <th>44336</th>\n",
       "      <td>1674661789498108000</td>\n",
       "      <td>0.000210</td>\n",
       "      <td>22580.14</td>\n",
       "      <td>22579.155</td>\n",
       "      <td>-8.439013e+09</td>\n",
       "      <td>-0.000207</td>\n",
       "      <td>-665.188268</td>\n",
       "    </tr>\n",
       "    <tr>\n",
       "      <th>44337</th>\n",
       "      <td>1674661789998680000</td>\n",
       "      <td>-0.024400</td>\n",
       "      <td>22578.18</td>\n",
       "      <td>22579.500</td>\n",
       "      <td>-8.438802e+09</td>\n",
       "      <td>-0.032208</td>\n",
       "      <td>-665.188475</td>\n",
       "    </tr>\n",
       "  </tbody>\n",
       "</table>\n",
       "<p>44338 rows × 7 columns</p>\n",
       "</div>"
      ],
      "text/plain": [
       "       timestamp_utc_nanoseconds  position  PriceMillionths        Mid  \\\n",
       "0            1674596263779157000  0.008691         23011.48  23011.055   \n",
       "1            1674596263791059000  0.020600         23011.31  23011.060   \n",
       "2            1674596264682806000  0.000056         23011.48  23011.195   \n",
       "3            1674596264741925000  0.002252         23011.48  23011.210   \n",
       "4            1674596265064895000  0.010000         23011.48  23011.245   \n",
       "...                          ...       ...              ...        ...   \n",
       "44333        1674661788120435000  0.000059         22581.95  22580.615   \n",
       "44334        1674661788162403000  0.000431         22581.69  22579.900   \n",
       "44335        1674661788781066000 -0.050000         22580.48  22579.850   \n",
       "44336        1674661789498108000  0.000210         22580.14  22579.155   \n",
       "44337        1674661789998680000 -0.024400         22578.18  22579.500   \n",
       "\n",
       "            acc_qty       plT     acc_plT  \n",
       "0      0.000000e+00 -0.003694    0.000000  \n",
       "1      8.691000e+06 -0.005150   -0.003694  \n",
       "2      2.929100e+07 -0.000016   -0.008844  \n",
       "3      2.934734e+07 -0.000608   -0.008860  \n",
       "4      3.159903e+07 -0.002350   -0.009468  \n",
       "...             ...       ...         ...  \n",
       "44333 -8.389503e+09 -0.000079 -665.218917  \n",
       "44334 -8.389444e+09 -0.000772 -665.218996  \n",
       "44335 -8.389013e+09  0.031500 -665.219768  \n",
       "44336 -8.439013e+09 -0.000207 -665.188268  \n",
       "44337 -8.438802e+09 -0.032208 -665.188475  \n",
       "\n",
       "[44338 rows x 7 columns]"
      ]
     },
     "execution_count": 87,
     "metadata": {},
     "output_type": "execute_result"
    }
   ],
   "source": [
    "\n",
    "pnl_BTC_USD = calculate_pnl(test_pred_BTC_USD, book_narrow_BTC_USD, T = '40s', position_size=0.1)\n",
    "\n",
    "pnl_BTC_USD"
   ]
  },
  {
   "cell_type": "markdown",
   "id": "c0eda67d",
   "metadata": {},
   "source": [
    "Pnl with trading costs:"
   ]
  },
  {
   "cell_type": "code",
   "execution_count": 88,
   "id": "e4387849",
   "metadata": {
    "ExecuteTime": {
     "end_time": "2024-02-09T03:06:52.534455Z",
     "start_time": "2024-02-09T03:06:44.364470Z"
    }
   },
   "outputs": [
    {
     "data": {
      "text/html": [
       "<div>\n",
       "<style scoped>\n",
       "    .dataframe tbody tr th:only-of-type {\n",
       "        vertical-align: middle;\n",
       "    }\n",
       "\n",
       "    .dataframe tbody tr th {\n",
       "        vertical-align: top;\n",
       "    }\n",
       "\n",
       "    .dataframe thead th {\n",
       "        text-align: right;\n",
       "    }\n",
       "</style>\n",
       "<table border=\"1\" class=\"dataframe\">\n",
       "  <thead>\n",
       "    <tr style=\"text-align: right;\">\n",
       "      <th></th>\n",
       "      <th>timestamp_utc_nanoseconds</th>\n",
       "      <th>position</th>\n",
       "      <th>PriceMillionths</th>\n",
       "      <th>Mid</th>\n",
       "      <th>acc_qty</th>\n",
       "      <th>plT</th>\n",
       "      <th>acc_plT</th>\n",
       "    </tr>\n",
       "  </thead>\n",
       "  <tbody>\n",
       "    <tr>\n",
       "      <th>0</th>\n",
       "      <td>1674596263779157000</td>\n",
       "      <td>0.008691</td>\n",
       "      <td>23011.48</td>\n",
       "      <td>23011.055</td>\n",
       "      <td>0.000000e+00</td>\n",
       "      <td>-0.003686</td>\n",
       "      <td>0.000000</td>\n",
       "    </tr>\n",
       "    <tr>\n",
       "      <th>1</th>\n",
       "      <td>1674596263791059000</td>\n",
       "      <td>0.020600</td>\n",
       "      <td>23011.31</td>\n",
       "      <td>23011.060</td>\n",
       "      <td>8.691000e+06</td>\n",
       "      <td>-0.005140</td>\n",
       "      <td>-0.003686</td>\n",
       "    </tr>\n",
       "    <tr>\n",
       "      <th>2</th>\n",
       "      <td>1674596264682806000</td>\n",
       "      <td>0.000056</td>\n",
       "      <td>23011.48</td>\n",
       "      <td>23011.195</td>\n",
       "      <td>2.929100e+07</td>\n",
       "      <td>-0.000016</td>\n",
       "      <td>-0.008826</td>\n",
       "    </tr>\n",
       "    <tr>\n",
       "      <th>3</th>\n",
       "      <td>1674596264741925000</td>\n",
       "      <td>0.002252</td>\n",
       "      <td>23011.48</td>\n",
       "      <td>23011.210</td>\n",
       "      <td>2.934734e+07</td>\n",
       "      <td>-0.000607</td>\n",
       "      <td>-0.008842</td>\n",
       "    </tr>\n",
       "    <tr>\n",
       "      <th>4</th>\n",
       "      <td>1674596265064895000</td>\n",
       "      <td>0.010000</td>\n",
       "      <td>23011.48</td>\n",
       "      <td>23011.245</td>\n",
       "      <td>3.159903e+07</td>\n",
       "      <td>-0.002345</td>\n",
       "      <td>-0.009449</td>\n",
       "    </tr>\n",
       "    <tr>\n",
       "      <th>...</th>\n",
       "      <td>...</td>\n",
       "      <td>...</td>\n",
       "      <td>...</td>\n",
       "      <td>...</td>\n",
       "      <td>...</td>\n",
       "      <td>...</td>\n",
       "      <td>...</td>\n",
       "    </tr>\n",
       "    <tr>\n",
       "      <th>44333</th>\n",
       "      <td>1674661788120435000</td>\n",
       "      <td>0.000059</td>\n",
       "      <td>22581.95</td>\n",
       "      <td>22580.615</td>\n",
       "      <td>-8.389503e+09</td>\n",
       "      <td>-0.000079</td>\n",
       "      <td>-663.888479</td>\n",
       "    </tr>\n",
       "    <tr>\n",
       "      <th>44334</th>\n",
       "      <td>1674661788162403000</td>\n",
       "      <td>0.000431</td>\n",
       "      <td>22581.69</td>\n",
       "      <td>22579.900</td>\n",
       "      <td>-8.389444e+09</td>\n",
       "      <td>-0.000770</td>\n",
       "      <td>-663.888558</td>\n",
       "    </tr>\n",
       "    <tr>\n",
       "      <th>44335</th>\n",
       "      <td>1674661788781066000</td>\n",
       "      <td>-0.050000</td>\n",
       "      <td>22580.48</td>\n",
       "      <td>22579.850</td>\n",
       "      <td>-8.389013e+09</td>\n",
       "      <td>0.031437</td>\n",
       "      <td>-663.889328</td>\n",
       "    </tr>\n",
       "    <tr>\n",
       "      <th>44336</th>\n",
       "      <td>1674661789498108000</td>\n",
       "      <td>0.000210</td>\n",
       "      <td>22580.14</td>\n",
       "      <td>22579.155</td>\n",
       "      <td>-8.439013e+09</td>\n",
       "      <td>-0.000207</td>\n",
       "      <td>-663.857891</td>\n",
       "    </tr>\n",
       "    <tr>\n",
       "      <th>44337</th>\n",
       "      <td>1674661789998680000</td>\n",
       "      <td>-0.024400</td>\n",
       "      <td>22578.18</td>\n",
       "      <td>22579.500</td>\n",
       "      <td>-8.438802e+09</td>\n",
       "      <td>-0.032144</td>\n",
       "      <td>-663.858098</td>\n",
       "    </tr>\n",
       "  </tbody>\n",
       "</table>\n",
       "<p>44338 rows × 7 columns</p>\n",
       "</div>"
      ],
      "text/plain": [
       "       timestamp_utc_nanoseconds  position  PriceMillionths        Mid  \\\n",
       "0            1674596263779157000  0.008691         23011.48  23011.055   \n",
       "1            1674596263791059000  0.020600         23011.31  23011.060   \n",
       "2            1674596264682806000  0.000056         23011.48  23011.195   \n",
       "3            1674596264741925000  0.002252         23011.48  23011.210   \n",
       "4            1674596265064895000  0.010000         23011.48  23011.245   \n",
       "...                          ...       ...              ...        ...   \n",
       "44333        1674661788120435000  0.000059         22581.95  22580.615   \n",
       "44334        1674661788162403000  0.000431         22581.69  22579.900   \n",
       "44335        1674661788781066000 -0.050000         22580.48  22579.850   \n",
       "44336        1674661789498108000  0.000210         22580.14  22579.155   \n",
       "44337        1674661789998680000 -0.024400         22578.18  22579.500   \n",
       "\n",
       "            acc_qty       plT     acc_plT  \n",
       "0      0.000000e+00 -0.003686    0.000000  \n",
       "1      8.691000e+06 -0.005140   -0.003686  \n",
       "2      2.929100e+07 -0.000016   -0.008826  \n",
       "3      2.934734e+07 -0.000607   -0.008842  \n",
       "4      3.159903e+07 -0.002345   -0.009449  \n",
       "...             ...       ...         ...  \n",
       "44333 -8.389503e+09 -0.000079 -663.888479  \n",
       "44334 -8.389444e+09 -0.000770 -663.888558  \n",
       "44335 -8.389013e+09  0.031437 -663.889328  \n",
       "44336 -8.439013e+09 -0.000207 -663.857891  \n",
       "44337 -8.438802e+09 -0.032144 -663.858098  \n",
       "\n",
       "[44338 rows x 7 columns]"
      ]
     },
     "execution_count": 88,
     "metadata": {},
     "output_type": "execute_result"
    }
   ],
   "source": [
    "pnl_BTC_USD_with_tc = calculate_pnl_with_tc(test_pred_BTC_USD, book_narrow_BTC_USD, T = '50s', position_size=0.1)\n",
    "\n",
    "pnl_BTC_USD_with_tc"
   ]
  },
  {
   "cell_type": "markdown",
   "id": "1b899d60",
   "metadata": {},
   "source": [
    "# Calculating pnl stats:"
   ]
  },
  {
   "cell_type": "code",
   "execution_count": 89,
   "id": "249fadff",
   "metadata": {
    "ExecuteTime": {
     "end_time": "2024-02-09T03:06:53.190588Z",
     "start_time": "2024-02-09T03:06:52.538975Z"
    }
   },
   "outputs": [
    {
     "data": {
      "image/png": "[encoded data removed]",
      "text/plain": [
       "<Figure size 640x480 with 1 Axes>"
      ]
     },
     "metadata": {},
     "output_type": "display_data"
    }
   ],
   "source": [
    "T = '100s'  \n",
    "sharpe_ratio_BTC_USD, max_drawdown_BTC_USD, downside_deviations_BTC_USD, cumulative_plT_BTC_USD, grouped_plt_BTC_USD = calculate_pnl_stats(pnl_BTC_USD, T)"
   ]
  },
  {
   "cell_type": "markdown",
   "id": "d1d227df",
   "metadata": {},
   "source": [
    "This graph represents the cumulative Profit and Loss (P&L) over a certain period and we can see a negative P&L for the time period."
   ]
  },
  {
   "cell_type": "code",
   "execution_count": 90,
   "id": "fa2a3364",
   "metadata": {
    "ExecuteTime": {
     "end_time": "2024-02-09T03:06:53.206392Z",
     "start_time": "2024-02-09T03:06:53.198048Z"
    }
   },
   "outputs": [
    {
     "data": {
      "text/plain": [
       "-0.03475661657835804"
      ]
     },
     "execution_count": 90,
     "metadata": {},
     "output_type": "execute_result"
    }
   ],
   "source": [
    "sharpe_ratio_BTC_USD"
   ]
  },
  {
   "cell_type": "code",
   "execution_count": 91,
   "id": "8e41a540",
   "metadata": {
    "ExecuteTime": {
     "end_time": "2024-02-09T03:06:53.222771Z",
     "start_time": "2024-02-09T03:06:53.212412Z"
    }
   },
   "outputs": [
    {
     "data": {
      "text/plain": [
       "843.3846688235889"
      ]
     },
     "execution_count": 91,
     "metadata": {},
     "output_type": "execute_result"
    }
   ],
   "source": [
    "max_drawdown_BTC_USD"
   ]
  },
  {
   "cell_type": "code",
   "execution_count": 92,
   "id": "46693423",
   "metadata": {
    "ExecuteTime": {
     "end_time": "2024-02-09T03:06:53.239887Z",
     "start_time": "2024-02-09T03:06:53.229342Z"
    }
   },
   "outputs": [
    {
     "data": {
      "text/plain": [
       "40.26791120903213"
      ]
     },
     "execution_count": 92,
     "metadata": {},
     "output_type": "execute_result"
    }
   ],
   "source": [
    "downside_deviations_BTC_USD"
   ]
  },
  {
   "cell_type": "markdown",
   "id": "069457a2",
   "metadata": {},
   "source": [
    "As we have a negative Sharpe ratio of -0.057 which suggests that the investment is performing worse than the risk-free rate when adjusted for volatility. \n",
    "\n",
    "The maximum drawdown value of 1406.753 indicates the largest loss that would have been experienced if an investment was made at the peak value before the largest drop.\n",
    "\n",
    "The downside deviation value of 33.566 suggests that there is a level of downside volatility in the returns of the investment."
   ]
  },
  {
   "cell_type": "markdown",
   "id": "1ed593de",
   "metadata": {},
   "source": [
    "In summary, these statistics indicate a trading strategy or investment in BTC against the USD that is currently underperforming, with significant losses (as shown by the cumulative P&L), a negative risk-adjusted return (Sharpe ratio), a significant maximum drawdown, and a measure of downside risk (downside deviation)."
   ]
  },
  {
   "cell_type": "markdown",
   "id": "53fc7bdc",
   "metadata": {},
   "source": [
    "Pnl stats with trading costs:"
   ]
  },
  {
   "cell_type": "code",
   "execution_count": 93,
   "id": "71cce4e2",
   "metadata": {
    "ExecuteTime": {
     "end_time": "2024-02-09T03:06:53.910665Z",
     "start_time": "2024-02-09T03:06:53.245903Z"
    }
   },
   "outputs": [
    {
     "data": {
      "image/png": "[encoded data removed]",
      "text/plain": [
       "<Figure size 640x480 with 1 Axes>"
      ]
     },
     "metadata": {},
     "output_type": "display_data"
    }
   ],
   "source": [
    "T = '100s'  \n",
    "sharpe_ratio_BTC_USD_tc, max_drawdown_BTC_USD_tc, downside_deviations_BTC_USD_tc, cumulative_plT_BTC_USD_tc, grouped_plt_BTC_USD_tc = calculate_pnl_stats(pnl_BTC_USD_with_tc, T)"
   ]
  },
  {
   "cell_type": "code",
   "execution_count": 94,
   "id": "7022e8d9",
   "metadata": {
    "ExecuteTime": {
     "end_time": "2024-02-09T03:06:53.924563Z",
     "start_time": "2024-02-09T03:06:53.914330Z"
    }
   },
   "outputs": [
    {
     "data": {
      "text/plain": [
       "-0.03475661657835839"
      ]
     },
     "execution_count": 94,
     "metadata": {},
     "output_type": "execute_result"
    }
   ],
   "source": [
    "sharpe_ratio_BTC_USD_tc"
   ]
  },
  {
   "cell_type": "code",
   "execution_count": 95,
   "id": "f436b1fd",
   "metadata": {
    "ExecuteTime": {
     "end_time": "2024-02-09T03:06:53.940287Z",
     "start_time": "2024-02-09T03:06:53.930358Z"
    }
   },
   "outputs": [
    {
     "data": {
      "text/plain": [
       "841.6978994859418"
      ]
     },
     "execution_count": 95,
     "metadata": {},
     "output_type": "execute_result"
    }
   ],
   "source": [
    "max_drawdown_BTC_USD_tc"
   ]
  },
  {
   "cell_type": "code",
   "execution_count": 96,
   "id": "a1fc15e9",
   "metadata": {
    "ExecuteTime": {
     "end_time": "2024-02-09T03:06:53.953080Z",
     "start_time": "2024-02-09T03:06:53.944147Z"
    }
   },
   "outputs": [
    {
     "data": {
      "text/plain": [
       "40.18737538661405"
      ]
     },
     "execution_count": 96,
     "metadata": {},
     "output_type": "execute_result"
    }
   ],
   "source": [
    "downside_deviations_BTC_USD_tc"
   ]
  },
  {
   "cell_type": "markdown",
   "id": "5fb963ea",
   "metadata": {},
   "source": [
    "# 5. Analysis of ETH-USD pair:"
   ]
  },
  {
   "cell_type": "markdown",
   "id": "8be8b117",
   "metadata": {},
   "source": [
    "Reading the trade and book data:"
   ]
  },
  {
   "cell_type": "code",
   "execution_count": 97,
   "id": "be2e24bf",
   "metadata": {
    "ExecuteTime": {
     "end_time": "2024-02-09T03:06:54.450816Z",
     "start_time": "2024-02-09T03:06:53.957027Z"
    }
   },
   "outputs": [],
   "source": [
    "#Reading the trades data ETH-USD\n",
    "trades_file_path2 = r'C:\\Users\\nihar\\Desktop\\QTS\\Week 4 Tick Level Data\\Assignment 4\\trades_narrow_ETH-USD_2023.delim.gz'\n",
    "trades_ETH_USD = pd.read_csv(trades_file_path2, delimiter='\\t')"
   ]
  },
  {
   "cell_type": "code",
   "execution_count": 98,
   "id": "4349ad80",
   "metadata": {
    "ExecuteTime": {
     "end_time": "2024-02-09T03:06:54.468003Z",
     "start_time": "2024-02-09T03:06:54.454171Z"
    }
   },
   "outputs": [
    {
     "data": {
      "text/html": [
       "<div>\n",
       "<style scoped>\n",
       "    .dataframe tbody tr th:only-of-type {\n",
       "        vertical-align: middle;\n",
       "    }\n",
       "\n",
       "    .dataframe tbody tr th {\n",
       "        vertical-align: top;\n",
       "    }\n",
       "\n",
       "    .dataframe thead th {\n",
       "        text-align: right;\n",
       "    }\n",
       "</style>\n",
       "<table border=\"1\" class=\"dataframe\">\n",
       "  <thead>\n",
       "    <tr style=\"text-align: right;\">\n",
       "      <th></th>\n",
       "      <th>received_utc_nanoseconds</th>\n",
       "      <th>timestamp_utc_nanoseconds</th>\n",
       "      <th>PriceMillionths</th>\n",
       "      <th>SizeBillionths</th>\n",
       "      <th>Side</th>\n",
       "    </tr>\n",
       "  </thead>\n",
       "  <tbody>\n",
       "    <tr>\n",
       "      <th>0</th>\n",
       "      <td>1674521275236165000</td>\n",
       "      <td>1674521271071902000</td>\n",
       "      <td>1629670000</td>\n",
       "      <td>11815210</td>\n",
       "      <td>-1</td>\n",
       "    </tr>\n",
       "    <tr>\n",
       "      <th>1</th>\n",
       "      <td>1674521275287511000</td>\n",
       "      <td>1674521271398509000</td>\n",
       "      <td>1629770000</td>\n",
       "      <td>92158690</td>\n",
       "      <td>1</td>\n",
       "    </tr>\n",
       "    <tr>\n",
       "      <th>2</th>\n",
       "      <td>1674521275288004000</td>\n",
       "      <td>1674521271398509000</td>\n",
       "      <td>1629780000</td>\n",
       "      <td>712594890</td>\n",
       "      <td>2</td>\n",
       "    </tr>\n",
       "    <tr>\n",
       "      <th>3</th>\n",
       "      <td>1674521275288470000</td>\n",
       "      <td>1674521271398509000</td>\n",
       "      <td>1629790000</td>\n",
       "      <td>1016994240</td>\n",
       "      <td>2</td>\n",
       "    </tr>\n",
       "    <tr>\n",
       "      <th>4</th>\n",
       "      <td>1674521275330683000</td>\n",
       "      <td>1674521271578052000</td>\n",
       "      <td>1629770000</td>\n",
       "      <td>92150000</td>\n",
       "      <td>1</td>\n",
       "    </tr>\n",
       "  </tbody>\n",
       "</table>\n",
       "</div>"
      ],
      "text/plain": [
       "   received_utc_nanoseconds  timestamp_utc_nanoseconds  PriceMillionths  \\\n",
       "0       1674521275236165000        1674521271071902000       1629670000   \n",
       "1       1674521275287511000        1674521271398509000       1629770000   \n",
       "2       1674521275288004000        1674521271398509000       1629780000   \n",
       "3       1674521275288470000        1674521271398509000       1629790000   \n",
       "4       1674521275330683000        1674521271578052000       1629770000   \n",
       "\n",
       "   SizeBillionths  Side  \n",
       "0        11815210    -1  \n",
       "1        92158690     1  \n",
       "2       712594890     2  \n",
       "3      1016994240     2  \n",
       "4        92150000     1  "
      ]
     },
     "execution_count": 98,
     "metadata": {},
     "output_type": "execute_result"
    }
   ],
   "source": [
    "trades_ETH_USD.head()"
   ]
  },
  {
   "cell_type": "code",
   "execution_count": 99,
   "id": "f694e450",
   "metadata": {
    "ExecuteTime": {
     "end_time": "2024-02-09T03:06:54.479994Z",
     "start_time": "2024-02-09T03:06:54.472452Z"
    }
   },
   "outputs": [
    {
     "data": {
      "text/plain": [
       "(377185, 5)"
      ]
     },
     "execution_count": 99,
     "metadata": {},
     "output_type": "execute_result"
    }
   ],
   "source": [
    "trades_ETH_USD.shape"
   ]
  },
  {
   "cell_type": "code",
   "execution_count": 100,
   "id": "0dd31445",
   "metadata": {
    "ExecuteTime": {
     "end_time": "2024-02-09T03:07:12.743578Z",
     "start_time": "2024-02-09T03:06:54.483649Z"
    }
   },
   "outputs": [],
   "source": [
    "#Reading the book data ETH-USD\n",
    "book_narrow_file_path2 = r'C:\\Users\\nihar\\Desktop\\QTS\\Week 4 Tick Level Data\\Assignment 4\\book_narrow_ETH-USD_2023.delim.gz'\n",
    "book_narrow_ETH_USD = pd.read_csv(book_narrow_file_path2, delimiter='\\t')"
   ]
  },
  {
   "cell_type": "code",
   "execution_count": 101,
   "id": "216a2b81",
   "metadata": {
    "ExecuteTime": {
     "end_time": "2024-02-09T03:07:12.778261Z",
     "start_time": "2024-02-09T03:07:12.755372Z"
    }
   },
   "outputs": [
    {
     "data": {
      "text/html": [
       "<div>\n",
       "<style scoped>\n",
       "    .dataframe tbody tr th:only-of-type {\n",
       "        vertical-align: middle;\n",
       "    }\n",
       "\n",
       "    .dataframe tbody tr th {\n",
       "        vertical-align: top;\n",
       "    }\n",
       "\n",
       "    .dataframe thead th {\n",
       "        text-align: right;\n",
       "    }\n",
       "</style>\n",
       "<table border=\"1\" class=\"dataframe\">\n",
       "  <thead>\n",
       "    <tr style=\"text-align: right;\">\n",
       "      <th></th>\n",
       "      <th>Ask1PriceMillionths</th>\n",
       "      <th>Bid1PriceMillionths</th>\n",
       "      <th>Ask1SizeBillionths</th>\n",
       "      <th>Bid1SizeBillionths</th>\n",
       "      <th>Ask2PriceMillionths</th>\n",
       "      <th>Bid2PriceMillionths</th>\n",
       "      <th>Ask2SizeBillionths</th>\n",
       "      <th>Bid2SizeBillionths</th>\n",
       "      <th>received_utc_nanoseconds</th>\n",
       "      <th>timestamp_utc_nanoseconds</th>\n",
       "      <th>Mid</th>\n",
       "    </tr>\n",
       "  </thead>\n",
       "  <tbody>\n",
       "    <tr>\n",
       "      <th>0</th>\n",
       "      <td>1629780000</td>\n",
       "      <td>1629670000</td>\n",
       "      <td>613579740</td>\n",
       "      <td>46580250</td>\n",
       "      <td>1629790000</td>\n",
       "      <td>1629660000</td>\n",
       "      <td>920369620</td>\n",
       "      <td>40425010</td>\n",
       "      <td>1674521275215127000</td>\n",
       "      <td>1674521271006006000</td>\n",
       "      <td>1.629725e+09</td>\n",
       "    </tr>\n",
       "    <tr>\n",
       "      <th>1</th>\n",
       "      <td>1629780000</td>\n",
       "      <td>1629670000</td>\n",
       "      <td>613579740</td>\n",
       "      <td>46580250</td>\n",
       "      <td>1629790000</td>\n",
       "      <td>1629660000</td>\n",
       "      <td>920369620</td>\n",
       "      <td>125425010</td>\n",
       "      <td>1674521275215372000</td>\n",
       "      <td>1674521271008923000</td>\n",
       "      <td>1.629725e+09</td>\n",
       "    </tr>\n",
       "    <tr>\n",
       "      <th>2</th>\n",
       "      <td>1629780000</td>\n",
       "      <td>1629670000</td>\n",
       "      <td>613579740</td>\n",
       "      <td>346580250</td>\n",
       "      <td>1629790000</td>\n",
       "      <td>1629660000</td>\n",
       "      <td>920369620</td>\n",
       "      <td>125425010</td>\n",
       "      <td>1674521275216940000</td>\n",
       "      <td>1674521271013030000</td>\n",
       "      <td>1.629725e+09</td>\n",
       "    </tr>\n",
       "    <tr>\n",
       "      <th>3</th>\n",
       "      <td>1629780000</td>\n",
       "      <td>1629670000</td>\n",
       "      <td>613579740</td>\n",
       "      <td>334765040</td>\n",
       "      <td>1629790000</td>\n",
       "      <td>1629660000</td>\n",
       "      <td>920369620</td>\n",
       "      <td>125425010</td>\n",
       "      <td>1674521275236165000</td>\n",
       "      <td>1674521271071902000</td>\n",
       "      <td>1.629725e+09</td>\n",
       "    </tr>\n",
       "    <tr>\n",
       "      <th>4</th>\n",
       "      <td>1629770000</td>\n",
       "      <td>1629670000</td>\n",
       "      <td>92158690</td>\n",
       "      <td>334765040</td>\n",
       "      <td>1629780000</td>\n",
       "      <td>1629660000</td>\n",
       "      <td>613579740</td>\n",
       "      <td>125425010</td>\n",
       "      <td>1674521275257733000</td>\n",
       "      <td>1674521271167792000</td>\n",
       "      <td>1.629720e+09</td>\n",
       "    </tr>\n",
       "  </tbody>\n",
       "</table>\n",
       "</div>"
      ],
      "text/plain": [
       "   Ask1PriceMillionths  Bid1PriceMillionths  Ask1SizeBillionths  \\\n",
       "0           1629780000           1629670000           613579740   \n",
       "1           1629780000           1629670000           613579740   \n",
       "2           1629780000           1629670000           613579740   \n",
       "3           1629780000           1629670000           613579740   \n",
       "4           1629770000           1629670000            92158690   \n",
       "\n",
       "   Bid1SizeBillionths  Ask2PriceMillionths  Bid2PriceMillionths  \\\n",
       "0            46580250           1629790000           1629660000   \n",
       "1            46580250           1629790000           1629660000   \n",
       "2           346580250           1629790000           1629660000   \n",
       "3           334765040           1629790000           1629660000   \n",
       "4           334765040           1629780000           1629660000   \n",
       "\n",
       "   Ask2SizeBillionths  Bid2SizeBillionths  received_utc_nanoseconds  \\\n",
       "0           920369620            40425010       1674521275215127000   \n",
       "1           920369620           125425010       1674521275215372000   \n",
       "2           920369620           125425010       1674521275216940000   \n",
       "3           920369620           125425010       1674521275236165000   \n",
       "4           613579740           125425010       1674521275257733000   \n",
       "\n",
       "   timestamp_utc_nanoseconds           Mid  \n",
       "0        1674521271006006000  1.629725e+09  \n",
       "1        1674521271008923000  1.629725e+09  \n",
       "2        1674521271013030000  1.629725e+09  \n",
       "3        1674521271071902000  1.629725e+09  \n",
       "4        1674521271167792000  1.629720e+09  "
      ]
     },
     "execution_count": 101,
     "metadata": {},
     "output_type": "execute_result"
    }
   ],
   "source": [
    "book_narrow_ETH_USD.head()"
   ]
  },
  {
   "cell_type": "code",
   "execution_count": 102,
   "id": "2b1c322b",
   "metadata": {
    "ExecuteTime": {
     "end_time": "2024-02-09T03:07:12.788776Z",
     "start_time": "2024-02-09T03:07:12.781651Z"
    }
   },
   "outputs": [
    {
     "data": {
      "text/plain": [
       "(6250325, 11)"
      ]
     },
     "execution_count": 102,
     "metadata": {},
     "output_type": "execute_result"
    }
   ],
   "source": [
    "book_narrow_ETH_USD.shape"
   ]
  },
  {
   "cell_type": "markdown",
   "id": "adbe9e11",
   "metadata": {},
   "source": [
    "Sorting the datasets by timestamps and remove the duplicates by keeping the latest value:"
   ]
  },
  {
   "cell_type": "code",
   "execution_count": 103,
   "id": "a2009b58",
   "metadata": {
    "ExecuteTime": {
     "end_time": "2024-02-09T03:07:12.908017Z",
     "start_time": "2024-02-09T03:07:12.791292Z"
    }
   },
   "outputs": [],
   "source": [
    "# Sort by 'timestamp_utc_nanoseconds' in descending order to ensure the latest entries are first\n",
    "trades_ETH_USD.sort_values(by='timestamp_utc_nanoseconds', ascending=False, inplace=True)\n",
    "\n",
    "trades_ETH_USD.drop_duplicates(subset=['timestamp_utc_nanoseconds'], keep='first', inplace=True)\n",
    "\n",
    "trades_ETH_USD.sort_values(by='timestamp_utc_nanoseconds', ascending=True, inplace=True)"
   ]
  },
  {
   "cell_type": "markdown",
   "id": "db0def28",
   "metadata": {},
   "source": [
    "# Calling the trade flow function to calculate trade flow for BTC-USD pair:"
   ]
  },
  {
   "cell_type": "code",
   "execution_count": 104,
   "id": "e684b87b",
   "metadata": {
    "ExecuteTime": {
     "end_time": "2024-02-09T03:07:12.982125Z",
     "start_time": "2024-02-09T03:07:12.913041Z"
    }
   },
   "outputs": [],
   "source": [
    "trades_ETH_USD = trade_flow(trades_ETH_USD,  time_col='timestamp_utc_nanoseconds', size_col='SizeBillionths', sign_col='Side', tau='50s')"
   ]
  },
  {
   "cell_type": "markdown",
   "id": "99a7cded",
   "metadata": {},
   "source": [
    "# Calculating the T-second forward returns:"
   ]
  },
  {
   "cell_type": "code",
   "execution_count": 105,
   "id": "daeb3da3",
   "metadata": {
    "ExecuteTime": {
     "end_time": "2024-02-09T03:07:14.403736Z",
     "start_time": "2024-02-09T03:07:12.986137Z"
    }
   },
   "outputs": [],
   "source": [
    "trades_ETH_USD = T_second_forward_return(trades_ETH_USD, book_narrow_ETH_USD, trade_price_col = 'PriceMillionths', mid_price_col = 'Mid', time_col = 'timestamp_utc_nanoseconds', T = '40s')\n"
   ]
  },
  {
   "cell_type": "code",
   "execution_count": 106,
   "id": "b1766ace",
   "metadata": {
    "ExecuteTime": {
     "end_time": "2024-02-09T03:07:14.423965Z",
     "start_time": "2024-02-09T03:07:14.412842Z"
    }
   },
   "outputs": [
    {
     "data": {
      "text/plain": [
       "(250247, 8)"
      ]
     },
     "execution_count": 106,
     "metadata": {},
     "output_type": "execute_result"
    }
   ],
   "source": [
    "trades_ETH_USD.shape"
   ]
  },
  {
   "cell_type": "code",
   "execution_count": 107,
   "id": "c2f1b56a",
   "metadata": {
    "ExecuteTime": {
     "end_time": "2024-02-09T03:07:14.455613Z",
     "start_time": "2024-02-09T03:07:14.430076Z"
    }
   },
   "outputs": [
    {
     "data": {
      "text/html": [
       "<div>\n",
       "<style scoped>\n",
       "    .dataframe tbody tr th:only-of-type {\n",
       "        vertical-align: middle;\n",
       "    }\n",
       "\n",
       "    .dataframe tbody tr th {\n",
       "        vertical-align: top;\n",
       "    }\n",
       "\n",
       "    .dataframe thead th {\n",
       "        text-align: right;\n",
       "    }\n",
       "</style>\n",
       "<table border=\"1\" class=\"dataframe\">\n",
       "  <thead>\n",
       "    <tr style=\"text-align: right;\">\n",
       "      <th></th>\n",
       "      <th>received_utc_nanoseconds</th>\n",
       "      <th>timestamp_utc_nanoseconds</th>\n",
       "      <th>PriceMillionths</th>\n",
       "      <th>SizeBillionths</th>\n",
       "      <th>Side</th>\n",
       "      <th>cum_size_billionths</th>\n",
       "      <th>trade_flow</th>\n",
       "      <th>T_second_forward_return</th>\n",
       "    </tr>\n",
       "  </thead>\n",
       "  <tbody>\n",
       "    <tr>\n",
       "      <th>0</th>\n",
       "      <td>1674521275236165000</td>\n",
       "      <td>1674521271071902000</td>\n",
       "      <td>1629670000</td>\n",
       "      <td>11815210</td>\n",
       "      <td>-1</td>\n",
       "      <td>-11815210</td>\n",
       "      <td>NaN</td>\n",
       "      <td>-0.000187</td>\n",
       "    </tr>\n",
       "    <tr>\n",
       "      <th>1</th>\n",
       "      <td>1674521275288004000</td>\n",
       "      <td>1674521271398509000</td>\n",
       "      <td>1629780000</td>\n",
       "      <td>712594890</td>\n",
       "      <td>2</td>\n",
       "      <td>712594890</td>\n",
       "      <td>-0.011815</td>\n",
       "      <td>-0.000233</td>\n",
       "    </tr>\n",
       "    <tr>\n",
       "      <th>2</th>\n",
       "      <td>1674521275330683000</td>\n",
       "      <td>1674521271578052000</td>\n",
       "      <td>1629770000</td>\n",
       "      <td>92150000</td>\n",
       "      <td>1</td>\n",
       "      <td>92150000</td>\n",
       "      <td>0.700780</td>\n",
       "      <td>-0.000236</td>\n",
       "    </tr>\n",
       "    <tr>\n",
       "      <th>3</th>\n",
       "      <td>1674521275353309000</td>\n",
       "      <td>1674521271660995000</td>\n",
       "      <td>1629770000</td>\n",
       "      <td>8690</td>\n",
       "      <td>1</td>\n",
       "      <td>8690</td>\n",
       "      <td>0.792930</td>\n",
       "      <td>-0.000236</td>\n",
       "    </tr>\n",
       "    <tr>\n",
       "      <th>4</th>\n",
       "      <td>1674521275440899000</td>\n",
       "      <td>1674521271885174000</td>\n",
       "      <td>1629820000</td>\n",
       "      <td>14730</td>\n",
       "      <td>1</td>\n",
       "      <td>14730</td>\n",
       "      <td>0.792938</td>\n",
       "      <td>-0.000350</td>\n",
       "    </tr>\n",
       "  </tbody>\n",
       "</table>\n",
       "</div>"
      ],
      "text/plain": [
       "   received_utc_nanoseconds  timestamp_utc_nanoseconds  PriceMillionths  \\\n",
       "0       1674521275236165000        1674521271071902000       1629670000   \n",
       "1       1674521275288004000        1674521271398509000       1629780000   \n",
       "2       1674521275330683000        1674521271578052000       1629770000   \n",
       "3       1674521275353309000        1674521271660995000       1629770000   \n",
       "4       1674521275440899000        1674521271885174000       1629820000   \n",
       "\n",
       "   SizeBillionths  Side  cum_size_billionths  trade_flow  \\\n",
       "0        11815210    -1            -11815210         NaN   \n",
       "1       712594890     2            712594890   -0.011815   \n",
       "2        92150000     1             92150000    0.700780   \n",
       "3            8690     1                 8690    0.792930   \n",
       "4           14730     1                14730    0.792938   \n",
       "\n",
       "   T_second_forward_return  \n",
       "0                -0.000187  \n",
       "1                -0.000233  \n",
       "2                -0.000236  \n",
       "3                -0.000236  \n",
       "4                -0.000350  "
      ]
     },
     "execution_count": 107,
     "metadata": {},
     "output_type": "execute_result"
    }
   ],
   "source": [
    "trades_ETH_USD.head()"
   ]
  },
  {
   "cell_type": "markdown",
   "id": "1c1963f1",
   "metadata": {},
   "source": [
    "Looking at the data to check for nan vallues before regression:"
   ]
  },
  {
   "cell_type": "code",
   "execution_count": 108,
   "id": "945ce120",
   "metadata": {
    "ExecuteTime": {
     "end_time": "2024-02-09T03:07:14.491680Z",
     "start_time": "2024-02-09T03:07:14.463423Z"
    }
   },
   "outputs": [
    {
     "name": "stdout",
     "output_type": "stream",
     "text": [
      "<class 'pandas.core.frame.DataFrame'>\n",
      "RangeIndex: 250247 entries, 0 to 250246\n",
      "Data columns (total 8 columns):\n",
      " #   Column                     Non-Null Count   Dtype  \n",
      "---  ------                     --------------   -----  \n",
      " 0   received_utc_nanoseconds   250247 non-null  int64  \n",
      " 1   timestamp_utc_nanoseconds  250247 non-null  int64  \n",
      " 2   PriceMillionths            250247 non-null  int64  \n",
      " 3   SizeBillionths             250247 non-null  int64  \n",
      " 4   Side                       250247 non-null  int64  \n",
      " 5   cum_size_billionths        250247 non-null  int64  \n",
      " 6   trade_flow                 250215 non-null  float64\n",
      " 7   T_second_forward_return    250247 non-null  float64\n",
      "dtypes: float64(2), int64(6)\n",
      "memory usage: 15.3 MB\n"
     ]
    }
   ],
   "source": [
    "trades_ETH_USD.info()"
   ]
  },
  {
   "cell_type": "code",
   "execution_count": 109,
   "id": "ceba4149",
   "metadata": {
    "ExecuteTime": {
     "end_time": "2024-02-09T03:07:14.945693Z",
     "start_time": "2024-02-09T03:07:14.495060Z"
    }
   },
   "outputs": [
    {
     "data": {
      "image/png": "[encoded data removed]",
      "text/plain": [
       "<Figure size 1000x600 with 1 Axes>"
      ]
     },
     "metadata": {},
     "output_type": "display_data"
    }
   ],
   "source": [
    "plt.figure(figsize=(10, 6))\n",
    "plt.hist(trades_ETH_USD['trade_flow'].dropna(), bins=50, alpha=0.7)\n",
    "plt.title('Distribution of trade_flow')\n",
    "plt.xlabel('trade_flow')\n",
    "plt.ylabel('Frequency')\n",
    "plt.grid(True)\n",
    "plt.show()"
   ]
  },
  {
   "cell_type": "markdown",
   "id": "d8a98c05",
   "metadata": {},
   "source": [
    "Fill the nan values for trade flow by keeping the distribution of trade flow the same:"
   ]
  },
  {
   "cell_type": "code",
   "execution_count": 110,
   "id": "dbf79440",
   "metadata": {
    "ExecuteTime": {
     "end_time": "2024-02-09T03:07:14.965606Z",
     "start_time": "2024-02-09T03:07:14.950794Z"
    }
   },
   "outputs": [],
   "source": [
    "# Fill NaN values in 'trade_flow' with the median value\n",
    "median_flow2 = trades_ETH_USD['trade_flow'].median()\n",
    "trades_ETH_USD['trade_flow'].fillna(median_flow2, inplace=True)"
   ]
  },
  {
   "cell_type": "code",
   "execution_count": 111,
   "id": "1b6a3ae7",
   "metadata": {
    "ExecuteTime": {
     "end_time": "2024-02-09T03:07:15.147517Z",
     "start_time": "2024-02-09T03:07:14.969736Z"
    }
   },
   "outputs": [
    {
     "data": {
      "text/html": [
       "<div>\n",
       "<style scoped>\n",
       "    .dataframe tbody tr th:only-of-type {\n",
       "        vertical-align: middle;\n",
       "    }\n",
       "\n",
       "    .dataframe tbody tr th {\n",
       "        vertical-align: top;\n",
       "    }\n",
       "\n",
       "    .dataframe thead th {\n",
       "        text-align: right;\n",
       "    }\n",
       "</style>\n",
       "<table border=\"1\" class=\"dataframe\">\n",
       "  <thead>\n",
       "    <tr style=\"text-align: right;\">\n",
       "      <th></th>\n",
       "      <th>received_utc_nanoseconds</th>\n",
       "      <th>timestamp_utc_nanoseconds</th>\n",
       "      <th>PriceMillionths</th>\n",
       "      <th>SizeBillionths</th>\n",
       "      <th>Side</th>\n",
       "      <th>cum_size_billionths</th>\n",
       "      <th>trade_flow</th>\n",
       "      <th>T_second_forward_return</th>\n",
       "    </tr>\n",
       "  </thead>\n",
       "  <tbody>\n",
       "    <tr>\n",
       "      <th>count</th>\n",
       "      <td>2.502470e+05</td>\n",
       "      <td>2.502470e+05</td>\n",
       "      <td>2.502470e+05</td>\n",
       "      <td>2.502470e+05</td>\n",
       "      <td>250247.000000</td>\n",
       "      <td>2.502470e+05</td>\n",
       "      <td>250247.000000</td>\n",
       "      <td>250247.000000</td>\n",
       "    </tr>\n",
       "    <tr>\n",
       "      <th>mean</th>\n",
       "      <td>1.674594e+18</td>\n",
       "      <td>1.674594e+18</td>\n",
       "      <td>1.588670e+09</td>\n",
       "      <td>5.701886e+08</td>\n",
       "      <td>0.111873</td>\n",
       "      <td>3.018784e+07</td>\n",
       "      <td>14.135830</td>\n",
       "      <td>0.000023</td>\n",
       "    </tr>\n",
       "    <tr>\n",
       "      <th>std</th>\n",
       "      <td>3.729694e+13</td>\n",
       "      <td>3.729693e+13</td>\n",
       "      <td>3.776572e+07</td>\n",
       "      <td>2.279291e+09</td>\n",
       "      <td>1.303092</td>\n",
       "      <td>2.349335e+09</td>\n",
       "      <td>135.761719</td>\n",
       "      <td>0.000654</td>\n",
       "    </tr>\n",
       "    <tr>\n",
       "      <th>min</th>\n",
       "      <td>1.674521e+18</td>\n",
       "      <td>1.674521e+18</td>\n",
       "      <td>1.532690e+09</td>\n",
       "      <td>1.000000e+01</td>\n",
       "      <td>-36.000000</td>\n",
       "      <td>-2.965000e+11</td>\n",
       "      <td>-673.872546</td>\n",
       "      <td>-0.010397</td>\n",
       "    </tr>\n",
       "    <tr>\n",
       "      <th>25%</th>\n",
       "      <td>1.674563e+18</td>\n",
       "      <td>1.674563e+18</td>\n",
       "      <td>1.550290e+09</td>\n",
       "      <td>2.675000e+07</td>\n",
       "      <td>-1.000000</td>\n",
       "      <td>-1.286201e+08</td>\n",
       "      <td>-16.261033</td>\n",
       "      <td>-0.000244</td>\n",
       "    </tr>\n",
       "    <tr>\n",
       "      <th>50%</th>\n",
       "      <td>1.674593e+18</td>\n",
       "      <td>1.674593e+18</td>\n",
       "      <td>1.611540e+09</td>\n",
       "      <td>1.269600e+08</td>\n",
       "      <td>1.000000</td>\n",
       "      <td>1.163840e+06</td>\n",
       "      <td>0.520085</td>\n",
       "      <td>0.000021</td>\n",
       "    </tr>\n",
       "    <tr>\n",
       "      <th>75%</th>\n",
       "      <td>1.674628e+18</td>\n",
       "      <td>1.674628e+18</td>\n",
       "      <td>1.621865e+09</td>\n",
       "      <td>5.000000e+08</td>\n",
       "      <td>1.000000</td>\n",
       "      <td>1.257633e+08</td>\n",
       "      <td>18.001205</td>\n",
       "      <td>0.000290</td>\n",
       "    </tr>\n",
       "    <tr>\n",
       "      <th>max</th>\n",
       "      <td>1.674659e+18</td>\n",
       "      <td>1.674659e+18</td>\n",
       "      <td>1.640540e+09</td>\n",
       "      <td>3.403621e+11</td>\n",
       "      <td>7.000000</td>\n",
       "      <td>3.403621e+11</td>\n",
       "      <td>2457.693805</td>\n",
       "      <td>0.003772</td>\n",
       "    </tr>\n",
       "  </tbody>\n",
       "</table>\n",
       "</div>"
      ],
      "text/plain": [
       "       received_utc_nanoseconds  timestamp_utc_nanoseconds  PriceMillionths  \\\n",
       "count              2.502470e+05               2.502470e+05     2.502470e+05   \n",
       "mean               1.674594e+18               1.674594e+18     1.588670e+09   \n",
       "std                3.729694e+13               3.729693e+13     3.776572e+07   \n",
       "min                1.674521e+18               1.674521e+18     1.532690e+09   \n",
       "25%                1.674563e+18               1.674563e+18     1.550290e+09   \n",
       "50%                1.674593e+18               1.674593e+18     1.611540e+09   \n",
       "75%                1.674628e+18               1.674628e+18     1.621865e+09   \n",
       "max                1.674659e+18               1.674659e+18     1.640540e+09   \n",
       "\n",
       "       SizeBillionths           Side  cum_size_billionths     trade_flow  \\\n",
       "count    2.502470e+05  250247.000000         2.502470e+05  250247.000000   \n",
       "mean     5.701886e+08       0.111873         3.018784e+07      14.135830   \n",
       "std      2.279291e+09       1.303092         2.349335e+09     135.761719   \n",
       "min      1.000000e+01     -36.000000        -2.965000e+11    -673.872546   \n",
       "25%      2.675000e+07      -1.000000        -1.286201e+08     -16.261033   \n",
       "50%      1.269600e+08       1.000000         1.163840e+06       0.520085   \n",
       "75%      5.000000e+08       1.000000         1.257633e+08      18.001205   \n",
       "max      3.403621e+11       7.000000         3.403621e+11    2457.693805   \n",
       "\n",
       "       T_second_forward_return  \n",
       "count            250247.000000  \n",
       "mean                  0.000023  \n",
       "std                   0.000654  \n",
       "min                  -0.010397  \n",
       "25%                  -0.000244  \n",
       "50%                   0.000021  \n",
       "75%                   0.000290  \n",
       "max                   0.003772  "
      ]
     },
     "execution_count": 111,
     "metadata": {},
     "output_type": "execute_result"
    }
   ],
   "source": [
    "trades_ETH_USD.describe()"
   ]
  },
  {
   "cell_type": "markdown",
   "id": "551778d5",
   "metadata": {},
   "source": [
    "Splitting the dataset into training and test data:"
   ]
  },
  {
   "cell_type": "code",
   "execution_count": 112,
   "id": "aa520d96",
   "metadata": {
    "ExecuteTime": {
     "end_time": "2024-02-09T03:07:15.161335Z",
     "start_time": "2024-02-09T03:07:15.150522Z"
    }
   },
   "outputs": [],
   "source": [
    "train_ETH_USD, test_ETH_USD = train_test_data(trades_ETH_USD, train_size=0.6)"
   ]
  },
  {
   "cell_type": "code",
   "execution_count": 113,
   "id": "79fd7d2a",
   "metadata": {
    "ExecuteTime": {
     "end_time": "2024-02-09T03:07:15.188982Z",
     "start_time": "2024-02-09T03:07:15.166340Z"
    }
   },
   "outputs": [
    {
     "data": {
      "text/html": [
       "<div>\n",
       "<style scoped>\n",
       "    .dataframe tbody tr th:only-of-type {\n",
       "        vertical-align: middle;\n",
       "    }\n",
       "\n",
       "    .dataframe tbody tr th {\n",
       "        vertical-align: top;\n",
       "    }\n",
       "\n",
       "    .dataframe thead th {\n",
       "        text-align: right;\n",
       "    }\n",
       "</style>\n",
       "<table border=\"1\" class=\"dataframe\">\n",
       "  <thead>\n",
       "    <tr style=\"text-align: right;\">\n",
       "      <th></th>\n",
       "      <th>received_utc_nanoseconds</th>\n",
       "      <th>timestamp_utc_nanoseconds</th>\n",
       "      <th>PriceMillionths</th>\n",
       "      <th>SizeBillionths</th>\n",
       "      <th>Side</th>\n",
       "      <th>cum_size_billionths</th>\n",
       "      <th>trade_flow</th>\n",
       "      <th>T_second_forward_return</th>\n",
       "    </tr>\n",
       "  </thead>\n",
       "  <tbody>\n",
       "    <tr>\n",
       "      <th>0</th>\n",
       "      <td>1674521275236165000</td>\n",
       "      <td>1674521271071902000</td>\n",
       "      <td>1629670000</td>\n",
       "      <td>11815210</td>\n",
       "      <td>-1</td>\n",
       "      <td>-11815210</td>\n",
       "      <td>0.520085</td>\n",
       "      <td>-0.000187</td>\n",
       "    </tr>\n",
       "    <tr>\n",
       "      <th>1</th>\n",
       "      <td>1674521275288004000</td>\n",
       "      <td>1674521271398509000</td>\n",
       "      <td>1629780000</td>\n",
       "      <td>712594890</td>\n",
       "      <td>2</td>\n",
       "      <td>712594890</td>\n",
       "      <td>-0.011815</td>\n",
       "      <td>-0.000233</td>\n",
       "    </tr>\n",
       "    <tr>\n",
       "      <th>2</th>\n",
       "      <td>1674521275330683000</td>\n",
       "      <td>1674521271578052000</td>\n",
       "      <td>1629770000</td>\n",
       "      <td>92150000</td>\n",
       "      <td>1</td>\n",
       "      <td>92150000</td>\n",
       "      <td>0.700780</td>\n",
       "      <td>-0.000236</td>\n",
       "    </tr>\n",
       "    <tr>\n",
       "      <th>3</th>\n",
       "      <td>1674521275353309000</td>\n",
       "      <td>1674521271660995000</td>\n",
       "      <td>1629770000</td>\n",
       "      <td>8690</td>\n",
       "      <td>1</td>\n",
       "      <td>8690</td>\n",
       "      <td>0.792930</td>\n",
       "      <td>-0.000236</td>\n",
       "    </tr>\n",
       "    <tr>\n",
       "      <th>4</th>\n",
       "      <td>1674521275440899000</td>\n",
       "      <td>1674521271885174000</td>\n",
       "      <td>1629820000</td>\n",
       "      <td>14730</td>\n",
       "      <td>1</td>\n",
       "      <td>14730</td>\n",
       "      <td>0.792938</td>\n",
       "      <td>-0.000350</td>\n",
       "    </tr>\n",
       "  </tbody>\n",
       "</table>\n",
       "</div>"
      ],
      "text/plain": [
       "   received_utc_nanoseconds  timestamp_utc_nanoseconds  PriceMillionths  \\\n",
       "0       1674521275236165000        1674521271071902000       1629670000   \n",
       "1       1674521275288004000        1674521271398509000       1629780000   \n",
       "2       1674521275330683000        1674521271578052000       1629770000   \n",
       "3       1674521275353309000        1674521271660995000       1629770000   \n",
       "4       1674521275440899000        1674521271885174000       1629820000   \n",
       "\n",
       "   SizeBillionths  Side  cum_size_billionths  trade_flow  \\\n",
       "0        11815210    -1            -11815210    0.520085   \n",
       "1       712594890     2            712594890   -0.011815   \n",
       "2        92150000     1             92150000    0.700780   \n",
       "3            8690     1                 8690    0.792930   \n",
       "4           14730     1                14730    0.792938   \n",
       "\n",
       "   T_second_forward_return  \n",
       "0                -0.000187  \n",
       "1                -0.000233  \n",
       "2                -0.000236  \n",
       "3                -0.000236  \n",
       "4                -0.000350  "
      ]
     },
     "execution_count": 113,
     "metadata": {},
     "output_type": "execute_result"
    }
   ],
   "source": [
    "train_ETH_USD.head()"
   ]
  },
  {
   "cell_type": "markdown",
   "id": "721cf31f",
   "metadata": {},
   "source": [
    "Checking for percentage for training and test data:"
   ]
  },
  {
   "cell_type": "code",
   "execution_count": 114,
   "id": "42991009",
   "metadata": {
    "ExecuteTime": {
     "end_time": "2024-02-09T03:07:15.209910Z",
     "start_time": "2024-02-09T03:07:15.192028Z"
    }
   },
   "outputs": [
    {
     "name": "stdout",
     "output_type": "stream",
     "text": [
      "Training set length: 150148\n",
      "Testing set length: 100099\n"
     ]
    }
   ],
   "source": [
    "print(f\"Training set length: {len(train_ETH_USD)}\")\n",
    "print(f\"Testing set length: {len(test_ETH_USD)}\")"
   ]
  },
  {
   "cell_type": "markdown",
   "id": "8a64c889",
   "metadata": {},
   "source": [
    "# Calling the regression function:"
   ]
  },
  {
   "cell_type": "code",
   "execution_count": 115,
   "id": "ac20fadf",
   "metadata": {
    "ExecuteTime": {
     "end_time": "2024-02-09T03:07:15.314164Z",
     "start_time": "2024-02-09T03:07:15.214916Z"
    }
   },
   "outputs": [],
   "source": [
    "beta_ETH_USD, test_pred_ETH_USD, r2_ETH_USD = regression(train_ETH_USD, test_ETH_USD, flow_col='trade_flow', return_col='T_second_forward_return')"
   ]
  },
  {
   "cell_type": "code",
   "execution_count": 116,
   "id": "535467ea",
   "metadata": {
    "ExecuteTime": {
     "end_time": "2024-02-09T03:07:15.328909Z",
     "start_time": "2024-02-09T03:07:15.317683Z"
    }
   },
   "outputs": [
    {
     "data": {
      "text/plain": [
       "0.005163439326293151"
      ]
     },
     "execution_count": 116,
     "metadata": {},
     "output_type": "execute_result"
    }
   ],
   "source": [
    "r2_ETH_USD"
   ]
  },
  {
   "cell_type": "code",
   "execution_count": 117,
   "id": "3927833f",
   "metadata": {
    "ExecuteTime": {
     "end_time": "2024-02-09T03:07:15.346340Z",
     "start_time": "2024-02-09T03:07:15.335883Z"
    }
   },
   "outputs": [
    {
     "data": {
      "text/plain": [
       "3.2580236370689353e-07"
      ]
     },
     "execution_count": 117,
     "metadata": {},
     "output_type": "execute_result"
    }
   ],
   "source": [
    "beta_ETH_USD"
   ]
  },
  {
   "cell_type": "markdown",
   "id": "f6cdf3c1",
   "metadata": {},
   "source": [
    "# Calculate beta for various tau and T pairs:"
   ]
  },
  {
   "cell_type": "code",
   "execution_count": 118,
   "id": "68cf314b",
   "metadata": {
    "ExecuteTime": {
     "end_time": "2024-02-09T03:07:34.621210Z",
     "start_time": "2024-02-09T03:07:15.350341Z"
    }
   },
   "outputs": [
    {
     "name": "stdout",
     "output_type": "stream",
     "text": [
      "     tau    T      beta\n",
      "0     5s   1s -0.000011\n",
      "1    10s   5s -0.000011\n",
      "2    15s  10s -0.000011\n",
      "3    20s  15s -0.000011\n",
      "4    25s  20s -0.000011\n",
      "5    30s  25s -0.000011\n",
      "6    35s  30s -0.000011\n",
      "7    40s  30s -0.000011\n",
      "8    50s  40s -0.000011\n",
      "9    60s  50s -0.000011\n",
      "10  100s  80s -0.000011\n"
     ]
    }
   ],
   "source": [
    "tau_T_pairs2 = [('5s', '1s'), ('10s', '5s'), ('15s', '10s'), ('20s', '15s'), ('25s', '20s'), ('30s', '25s'), ('35s', '30s'), ('40s', '30s'), ('50s', '40s'), ('60s', '50s'), ('100s', '80s')]\n",
    "\n",
    "beta_values2 = {}\n",
    "\n",
    "# Loop through each pair of tau and T\n",
    "for tau, T in tau_T_pairs2:\n",
    "    beta2 = pipeline(trades_ETH_USD, book_narrow_ETH_USD, \n",
    "                    time_col='timestamp_utc_nanoseconds',\n",
    "                    size_col='SizeBillionths', \n",
    "                    sign_col='Side', \n",
    "                    trade_price_col='PriceMillionths', \n",
    "                    mid_price_col='Mid', \n",
    "                    tau=tau, T=T, \n",
    "                    train_size=0.4)\n",
    "    # Store the beta value in the dictionary\n",
    "    beta_values2[(tau, T)] = beta2\n",
    "\n",
    "beta_records = [{'tau': tau, 'T': T, 'beta': beta1} for (tau, T), beta2 in beta_values2.items()]\n",
    "\n",
    "# Create a DataFrame\n",
    "beta_df2 = pd.DataFrame(beta_records)\n",
    "\n",
    "# Display the DataFrame\n",
    "print(beta_df2)"
   ]
  },
  {
   "cell_type": "markdown",
   "id": "724edb7d",
   "metadata": {},
   "source": [
    "# Looking at the reliability and stability of beta:"
   ]
  },
  {
   "cell_type": "code",
   "execution_count": 119,
   "id": "c29088b6",
   "metadata": {
    "ExecuteTime": {
     "end_time": "2024-02-09T03:07:35.466869Z",
     "start_time": "2024-02-09T03:07:34.627376Z"
    }
   },
   "outputs": [
    {
     "data": {
      "image/png": "[encoded data removed]",
      "text/plain": [
       "<Figure size 1000x600 with 1 Axes>"
      ]
     },
     "metadata": {},
     "output_type": "display_data"
    },
    {
     "data": {
      "image/png": "[encoded data removed]",
      "text/plain": [
       "<Figure size 1000x600 with 1 Axes>"
      ]
     },
     "metadata": {},
     "output_type": "display_data"
    },
    {
     "name": "stdout",
     "output_type": "stream",
     "text": [
      "{'Coefficient of Variation': -3.1653543813102167e-16, 'Beta Standard Deviation': 3.553502599087806e-21, 'Beta Range': 0.0}\n"
     ]
    }
   ],
   "source": [
    "rel_stab_beta2 = analyze_beta_stability(beta_df2)\n",
    "print(rel_stab_beta2)"
   ]
  },
  {
   "cell_type": "markdown",
   "id": "12656867",
   "metadata": {},
   "source": [
    "The above plots shows that the beta is constant irrespective of any tau interval or T-seconds. "
   ]
  },
  {
   "cell_type": "markdown",
   "id": "90840645",
   "metadata": {},
   "source": [
    "# Various beta for different training sizes by considering best tau and T:"
   ]
  },
  {
   "cell_type": "code",
   "execution_count": 120,
   "id": "fdaadccf",
   "metadata": {
    "ExecuteTime": {
     "end_time": "2024-02-09T03:07:43.901409Z",
     "start_time": "2024-02-09T03:07:35.473813Z"
    }
   },
   "outputs": [
    {
     "data": {
      "image/png": "[encoded data removed]",
      "text/plain": [
       "<Figure size 1000x600 with 1 Axes>"
      ]
     },
     "metadata": {},
     "output_type": "display_data"
    }
   ],
   "source": [
    "best_tau2 = '50s'\n",
    "best_T2 = '40s'\n",
    "\n",
    "# Define the range of training sizes\n",
    "train_sizes2 = [0.4, 0.5, 0.6, 0.7, 0.8]\n",
    "\n",
    "# Initialize an empty list to store the results\n",
    "beta_values3 = []\n",
    "\n",
    "# Loop over the training sizes\n",
    "for train_size in train_sizes2:\n",
    "    beta = pipeline(trades_ETH_USD, book_narrow_ETH_USD, \n",
    "                    time_col='timestamp_utc_nanoseconds',\n",
    "                    size_col='SizeBillionths', \n",
    "                    sign_col='Side', \n",
    "                    trade_price_col='PriceMillionths', \n",
    "                    mid_price_col='Mid', \n",
    "                    tau=best_tau2, T=best_T2, \n",
    "                    train_size=train_size)\n",
    "    beta_values3.append(beta)\n",
    "\n",
    "# Plotting\n",
    "plt.figure(figsize=(10, 6))\n",
    "plt.plot(train_sizes2, beta_values3, marker='o')\n",
    "plt.title('Beta Values for Different Training Sizes')\n",
    "plt.xlabel('Training Size')\n",
    "plt.ylabel('Beta Value')\n",
    "plt.xticks(train_sizes2)\n",
    "plt.grid(True)\n",
    "plt.show()"
   ]
  },
  {
   "cell_type": "markdown",
   "id": "34622124",
   "metadata": {},
   "source": [
    "Beta increases as we increase the training dataset size from 0.4 onwards."
   ]
  },
  {
   "cell_type": "markdown",
   "id": "9d85e2ec",
   "metadata": {},
   "source": [
    "# Look at the return prediction from the regression function:"
   ]
  },
  {
   "cell_type": "code",
   "execution_count": 121,
   "id": "535d6b66",
   "metadata": {
    "ExecuteTime": {
     "end_time": "2024-02-09T03:07:43.939172Z",
     "start_time": "2024-02-09T03:07:43.906023Z"
    }
   },
   "outputs": [
    {
     "data": {
      "text/html": [
       "<div>\n",
       "<style scoped>\n",
       "    .dataframe tbody tr th:only-of-type {\n",
       "        vertical-align: middle;\n",
       "    }\n",
       "\n",
       "    .dataframe tbody tr th {\n",
       "        vertical-align: top;\n",
       "    }\n",
       "\n",
       "    .dataframe thead th {\n",
       "        text-align: right;\n",
       "    }\n",
       "</style>\n",
       "<table border=\"1\" class=\"dataframe\">\n",
       "  <thead>\n",
       "    <tr style=\"text-align: right;\">\n",
       "      <th></th>\n",
       "      <th>received_utc_nanoseconds</th>\n",
       "      <th>timestamp_utc_nanoseconds</th>\n",
       "      <th>PriceMillionths</th>\n",
       "      <th>SizeBillionths</th>\n",
       "      <th>Side</th>\n",
       "      <th>cum_size_billionths</th>\n",
       "      <th>trade_flow</th>\n",
       "      <th>T_second_forward_return</th>\n",
       "      <th>predicted_return</th>\n",
       "    </tr>\n",
       "  </thead>\n",
       "  <tbody>\n",
       "    <tr>\n",
       "      <th>150148</th>\n",
       "      <td>1674611369168175000</td>\n",
       "      <td>1674611369197642000</td>\n",
       "      <td>1535360000</td>\n",
       "      <td>1081570000</td>\n",
       "      <td>-2</td>\n",
       "      <td>-1081570000</td>\n",
       "      <td>-34.261109</td>\n",
       "      <td>-0.000257</td>\n",
       "      <td>-0.000011</td>\n",
       "    </tr>\n",
       "    <tr>\n",
       "      <th>150149</th>\n",
       "      <td>1674611369227140000</td>\n",
       "      <td>1674611369259017000</td>\n",
       "      <td>1535340000</td>\n",
       "      <td>258150000</td>\n",
       "      <td>-1</td>\n",
       "      <td>-258150000</td>\n",
       "      <td>-35.342679</td>\n",
       "      <td>-0.000244</td>\n",
       "      <td>-0.000012</td>\n",
       "    </tr>\n",
       "    <tr>\n",
       "      <th>150150</th>\n",
       "      <td>1674611369827708000</td>\n",
       "      <td>1674611369859465000</td>\n",
       "      <td>1535370000</td>\n",
       "      <td>420000000</td>\n",
       "      <td>3</td>\n",
       "      <td>420000000</td>\n",
       "      <td>-35.600829</td>\n",
       "      <td>-0.000251</td>\n",
       "      <td>-0.000012</td>\n",
       "    </tr>\n",
       "    <tr>\n",
       "      <th>150151</th>\n",
       "      <td>1674611369945694000</td>\n",
       "      <td>1674611369978466000</td>\n",
       "      <td>1535370000</td>\n",
       "      <td>30956440</td>\n",
       "      <td>1</td>\n",
       "      <td>30956440</td>\n",
       "      <td>-35.625215</td>\n",
       "      <td>-0.000247</td>\n",
       "      <td>-0.000012</td>\n",
       "    </tr>\n",
       "    <tr>\n",
       "      <th>150152</th>\n",
       "      <td>1674611370202075000</td>\n",
       "      <td>1674611370233612000</td>\n",
       "      <td>1535260000</td>\n",
       "      <td>2110000000</td>\n",
       "      <td>-1</td>\n",
       "      <td>-2110000000</td>\n",
       "      <td>-36.160644</td>\n",
       "      <td>-0.000199</td>\n",
       "      <td>-0.000012</td>\n",
       "    </tr>\n",
       "    <tr>\n",
       "      <th>...</th>\n",
       "      <td>...</td>\n",
       "      <td>...</td>\n",
       "      <td>...</td>\n",
       "      <td>...</td>\n",
       "      <td>...</td>\n",
       "      <td>...</td>\n",
       "      <td>...</td>\n",
       "      <td>...</td>\n",
       "      <td>...</td>\n",
       "    </tr>\n",
       "    <tr>\n",
       "      <th>250242</th>\n",
       "      <td>1674658830282701000</td>\n",
       "      <td>1674658830318655000</td>\n",
       "      <td>1533330000</td>\n",
       "      <td>631563540</td>\n",
       "      <td>1</td>\n",
       "      <td>631563540</td>\n",
       "      <td>-16.202779</td>\n",
       "      <td>0.000717</td>\n",
       "      <td>-0.000005</td>\n",
       "    </tr>\n",
       "    <tr>\n",
       "      <th>250243</th>\n",
       "      <td>1674658830285405000</td>\n",
       "      <td>1674658830318708000</td>\n",
       "      <td>1533340000</td>\n",
       "      <td>5056896150</td>\n",
       "      <td>3</td>\n",
       "      <td>5056896150</td>\n",
       "      <td>-15.571215</td>\n",
       "      <td>0.000711</td>\n",
       "      <td>-0.000005</td>\n",
       "    </tr>\n",
       "    <tr>\n",
       "      <th>250244</th>\n",
       "      <td>1674658830287086000</td>\n",
       "      <td>1674658830319185000</td>\n",
       "      <td>1533310000</td>\n",
       "      <td>2095786600</td>\n",
       "      <td>1</td>\n",
       "      <td>2095786600</td>\n",
       "      <td>-10.514319</td>\n",
       "      <td>0.000730</td>\n",
       "      <td>-0.000003</td>\n",
       "    </tr>\n",
       "    <tr>\n",
       "      <th>250245</th>\n",
       "      <td>1674658830299074000</td>\n",
       "      <td>1674658830330265000</td>\n",
       "      <td>1533310000</td>\n",
       "      <td>1181857040</td>\n",
       "      <td>2</td>\n",
       "      <td>1181857040</td>\n",
       "      <td>-8.418532</td>\n",
       "      <td>0.000730</td>\n",
       "      <td>-0.000003</td>\n",
       "    </tr>\n",
       "    <tr>\n",
       "      <th>250246</th>\n",
       "      <td>1674658830328762000</td>\n",
       "      <td>1674658830376266000</td>\n",
       "      <td>1533300000</td>\n",
       "      <td>40724090</td>\n",
       "      <td>1</td>\n",
       "      <td>40724090</td>\n",
       "      <td>-7.236675</td>\n",
       "      <td>0.000737</td>\n",
       "      <td>-0.000002</td>\n",
       "    </tr>\n",
       "  </tbody>\n",
       "</table>\n",
       "<p>100099 rows × 9 columns</p>\n",
       "</div>"
      ],
      "text/plain": [
       "        received_utc_nanoseconds  timestamp_utc_nanoseconds  PriceMillionths  \\\n",
       "150148       1674611369168175000        1674611369197642000       1535360000   \n",
       "150149       1674611369227140000        1674611369259017000       1535340000   \n",
       "150150       1674611369827708000        1674611369859465000       1535370000   \n",
       "150151       1674611369945694000        1674611369978466000       1535370000   \n",
       "150152       1674611370202075000        1674611370233612000       1535260000   \n",
       "...                          ...                        ...              ...   \n",
       "250242       1674658830282701000        1674658830318655000       1533330000   \n",
       "250243       1674658830285405000        1674658830318708000       1533340000   \n",
       "250244       1674658830287086000        1674658830319185000       1533310000   \n",
       "250245       1674658830299074000        1674658830330265000       1533310000   \n",
       "250246       1674658830328762000        1674658830376266000       1533300000   \n",
       "\n",
       "        SizeBillionths  Side  cum_size_billionths  trade_flow  \\\n",
       "150148      1081570000    -2          -1081570000  -34.261109   \n",
       "150149       258150000    -1           -258150000  -35.342679   \n",
       "150150       420000000     3            420000000  -35.600829   \n",
       "150151        30956440     1             30956440  -35.625215   \n",
       "150152      2110000000    -1          -2110000000  -36.160644   \n",
       "...                ...   ...                  ...         ...   \n",
       "250242       631563540     1            631563540  -16.202779   \n",
       "250243      5056896150     3           5056896150  -15.571215   \n",
       "250244      2095786600     1           2095786600  -10.514319   \n",
       "250245      1181857040     2           1181857040   -8.418532   \n",
       "250246        40724090     1             40724090   -7.236675   \n",
       "\n",
       "        T_second_forward_return  predicted_return  \n",
       "150148                -0.000257         -0.000011  \n",
       "150149                -0.000244         -0.000012  \n",
       "150150                -0.000251         -0.000012  \n",
       "150151                -0.000247         -0.000012  \n",
       "150152                -0.000199         -0.000012  \n",
       "...                         ...               ...  \n",
       "250242                 0.000717         -0.000005  \n",
       "250243                 0.000711         -0.000005  \n",
       "250244                 0.000730         -0.000003  \n",
       "250245                 0.000730         -0.000003  \n",
       "250246                 0.000737         -0.000002  \n",
       "\n",
       "[100099 rows x 9 columns]"
      ]
     },
     "execution_count": 121,
     "metadata": {},
     "output_type": "execute_result"
    }
   ],
   "source": [
    "test_pred_ETH_USD"
   ]
  },
  {
   "cell_type": "code",
   "execution_count": 122,
   "id": "d730229e",
   "metadata": {
    "ExecuteTime": {
     "end_time": "2024-02-09T03:07:43.968149Z",
     "start_time": "2024-02-09T03:07:43.947105Z"
    }
   },
   "outputs": [
    {
     "data": {
      "text/plain": [
       "count    1.000990e+05\n",
       "mean     2.735045e-06\n",
       "std      2.335230e-05\n",
       "min     -1.032815e-04\n",
       "25%     -5.242539e-06\n",
       "50%      9.176740e-07\n",
       "75%      6.886054e-06\n",
       "max      2.352827e-04\n",
       "Name: predicted_return, dtype: float64"
      ]
     },
     "execution_count": 122,
     "metadata": {},
     "output_type": "execute_result"
    }
   ],
   "source": [
    "test_pred_ETH_USD['predicted_return'].describe()"
   ]
  },
  {
   "cell_type": "markdown",
   "id": "304839e3",
   "metadata": {},
   "source": [
    "# Deciding j:"
   ]
  },
  {
   "cell_type": "markdown",
   "id": "95166ec5",
   "metadata": {},
   "source": [
    "j has been decided in such a way that trade can be performed 30% of the time:"
   ]
  },
  {
   "cell_type": "code",
   "execution_count": 123,
   "id": "f6ebd28b",
   "metadata": {
    "ExecuteTime": {
     "end_time": "2024-02-09T03:07:43.982817Z",
     "start_time": "2024-02-09T03:07:43.972564Z"
    }
   },
   "outputs": [
    {
     "data": {
      "text/plain": [
       "1.0212049485939407e-05"
      ]
     },
     "execution_count": 123,
     "metadata": {},
     "output_type": "execute_result"
    }
   ],
   "source": [
    "# Calculate the absolute values of the predicted returns\n",
    "absolute_predicted_returns2 = test_pred_ETH_USD['predicted_return'].abs()\n",
    "\n",
    "# Find the value of j such that 70% of the predicted returns are greater than j\n",
    "j_ETH_USD = np.percentile(absolute_predicted_returns2, 70)  # 70th percentile since we want the lower threshold\n",
    "\n",
    "j_ETH_USD"
   ]
  },
  {
   "cell_type": "markdown",
   "id": "2ec809cf",
   "metadata": {},
   "source": [
    "Finding trade signals for the decided j:"
   ]
  },
  {
   "cell_type": "code",
   "execution_count": 124,
   "id": "c959adbd",
   "metadata": {
    "ExecuteTime": {
     "end_time": "2024-02-09T03:07:44.045465Z",
     "start_time": "2024-02-09T03:07:44.019852Z"
    }
   },
   "outputs": [],
   "source": [
    "test_pred_ETH_USD = find_trade_signals(test_pred_ETH_USD, predicted_return_col='predicted_return', j=j_ETH_USD)"
   ]
  },
  {
   "cell_type": "code",
   "execution_count": 125,
   "id": "9534fc5d",
   "metadata": {
    "ExecuteTime": {
     "end_time": "2024-02-09T03:07:44.077956Z",
     "start_time": "2024-02-09T03:07:44.053803Z"
    }
   },
   "outputs": [
    {
     "data": {
      "text/html": [
       "<div>\n",
       "<style scoped>\n",
       "    .dataframe tbody tr th:only-of-type {\n",
       "        vertical-align: middle;\n",
       "    }\n",
       "\n",
       "    .dataframe tbody tr th {\n",
       "        vertical-align: top;\n",
       "    }\n",
       "\n",
       "    .dataframe thead th {\n",
       "        text-align: right;\n",
       "    }\n",
       "</style>\n",
       "<table border=\"1\" class=\"dataframe\">\n",
       "  <thead>\n",
       "    <tr style=\"text-align: right;\">\n",
       "      <th></th>\n",
       "      <th>received_utc_nanoseconds</th>\n",
       "      <th>timestamp_utc_nanoseconds</th>\n",
       "      <th>PriceMillionths</th>\n",
       "      <th>SizeBillionths</th>\n",
       "      <th>Side</th>\n",
       "      <th>cum_size_billionths</th>\n",
       "      <th>trade_flow</th>\n",
       "      <th>T_second_forward_return</th>\n",
       "      <th>predicted_return</th>\n",
       "      <th>trade_signal</th>\n",
       "    </tr>\n",
       "  </thead>\n",
       "  <tbody>\n",
       "    <tr>\n",
       "      <th>150148</th>\n",
       "      <td>1674611369168175000</td>\n",
       "      <td>1674611369197642000</td>\n",
       "      <td>1535360000</td>\n",
       "      <td>1081570000</td>\n",
       "      <td>-2</td>\n",
       "      <td>-1081570000</td>\n",
       "      <td>-34.261109</td>\n",
       "      <td>-0.000257</td>\n",
       "      <td>-0.000011</td>\n",
       "      <td>True</td>\n",
       "    </tr>\n",
       "    <tr>\n",
       "      <th>150149</th>\n",
       "      <td>1674611369227140000</td>\n",
       "      <td>1674611369259017000</td>\n",
       "      <td>1535340000</td>\n",
       "      <td>258150000</td>\n",
       "      <td>-1</td>\n",
       "      <td>-258150000</td>\n",
       "      <td>-35.342679</td>\n",
       "      <td>-0.000244</td>\n",
       "      <td>-0.000012</td>\n",
       "      <td>True</td>\n",
       "    </tr>\n",
       "    <tr>\n",
       "      <th>150150</th>\n",
       "      <td>1674611369827708000</td>\n",
       "      <td>1674611369859465000</td>\n",
       "      <td>1535370000</td>\n",
       "      <td>420000000</td>\n",
       "      <td>3</td>\n",
       "      <td>420000000</td>\n",
       "      <td>-35.600829</td>\n",
       "      <td>-0.000251</td>\n",
       "      <td>-0.000012</td>\n",
       "      <td>True</td>\n",
       "    </tr>\n",
       "    <tr>\n",
       "      <th>150151</th>\n",
       "      <td>1674611369945694000</td>\n",
       "      <td>1674611369978466000</td>\n",
       "      <td>1535370000</td>\n",
       "      <td>30956440</td>\n",
       "      <td>1</td>\n",
       "      <td>30956440</td>\n",
       "      <td>-35.625215</td>\n",
       "      <td>-0.000247</td>\n",
       "      <td>-0.000012</td>\n",
       "      <td>True</td>\n",
       "    </tr>\n",
       "    <tr>\n",
       "      <th>150152</th>\n",
       "      <td>1674611370202075000</td>\n",
       "      <td>1674611370233612000</td>\n",
       "      <td>1535260000</td>\n",
       "      <td>2110000000</td>\n",
       "      <td>-1</td>\n",
       "      <td>-2110000000</td>\n",
       "      <td>-36.160644</td>\n",
       "      <td>-0.000199</td>\n",
       "      <td>-0.000012</td>\n",
       "      <td>True</td>\n",
       "    </tr>\n",
       "    <tr>\n",
       "      <th>150153</th>\n",
       "      <td>1674611370890735000</td>\n",
       "      <td>1674611370919297000</td>\n",
       "      <td>1535250000</td>\n",
       "      <td>31728920</td>\n",
       "      <td>1</td>\n",
       "      <td>31728920</td>\n",
       "      <td>-38.270644</td>\n",
       "      <td>-0.000192</td>\n",
       "      <td>-0.000012</td>\n",
       "      <td>True</td>\n",
       "    </tr>\n",
       "    <tr>\n",
       "      <th>150154</th>\n",
       "      <td>1674611371038996000</td>\n",
       "      <td>1674611371071222000</td>\n",
       "      <td>1535040000</td>\n",
       "      <td>1000000000</td>\n",
       "      <td>-1</td>\n",
       "      <td>-1000000000</td>\n",
       "      <td>-38.238915</td>\n",
       "      <td>-0.000059</td>\n",
       "      <td>-0.000012</td>\n",
       "      <td>True</td>\n",
       "    </tr>\n",
       "    <tr>\n",
       "      <th>150155</th>\n",
       "      <td>1674611371552573000</td>\n",
       "      <td>1674611371584341000</td>\n",
       "      <td>1534960000</td>\n",
       "      <td>300000000</td>\n",
       "      <td>-1</td>\n",
       "      <td>-300000000</td>\n",
       "      <td>-39.238915</td>\n",
       "      <td>-0.000020</td>\n",
       "      <td>-0.000013</td>\n",
       "      <td>True</td>\n",
       "    </tr>\n",
       "    <tr>\n",
       "      <th>150156</th>\n",
       "      <td>1674611373217040000</td>\n",
       "      <td>1674611373246195000</td>\n",
       "      <td>1534780000</td>\n",
       "      <td>500000000</td>\n",
       "      <td>-1</td>\n",
       "      <td>-500000000</td>\n",
       "      <td>-39.974252</td>\n",
       "      <td>0.000081</td>\n",
       "      <td>-0.000013</td>\n",
       "      <td>True</td>\n",
       "    </tr>\n",
       "    <tr>\n",
       "      <th>150157</th>\n",
       "      <td>1674611373227034000</td>\n",
       "      <td>1674611373254387000</td>\n",
       "      <td>1534640000</td>\n",
       "      <td>521289100</td>\n",
       "      <td>-1</td>\n",
       "      <td>-521289100</td>\n",
       "      <td>-40.474252</td>\n",
       "      <td>0.000173</td>\n",
       "      <td>-0.000013</td>\n",
       "      <td>True</td>\n",
       "    </tr>\n",
       "    <tr>\n",
       "      <th>150158</th>\n",
       "      <td>1674611373376723000</td>\n",
       "      <td>1674611373408326000</td>\n",
       "      <td>1534800000</td>\n",
       "      <td>2000000000</td>\n",
       "      <td>1</td>\n",
       "      <td>2000000000</td>\n",
       "      <td>-40.995541</td>\n",
       "      <td>0.000068</td>\n",
       "      <td>-0.000013</td>\n",
       "      <td>True</td>\n",
       "    </tr>\n",
       "    <tr>\n",
       "      <th>150159</th>\n",
       "      <td>1674611373491091000</td>\n",
       "      <td>1674611373523567000</td>\n",
       "      <td>1534790000</td>\n",
       "      <td>268120000</td>\n",
       "      <td>1</td>\n",
       "      <td>268120000</td>\n",
       "      <td>-38.995541</td>\n",
       "      <td>0.000075</td>\n",
       "      <td>-0.000013</td>\n",
       "      <td>True</td>\n",
       "    </tr>\n",
       "    <tr>\n",
       "      <th>150160</th>\n",
       "      <td>1674611374474398000</td>\n",
       "      <td>1674611374505166000</td>\n",
       "      <td>1534920000</td>\n",
       "      <td>5810210</td>\n",
       "      <td>1</td>\n",
       "      <td>5810210</td>\n",
       "      <td>-38.740359</td>\n",
       "      <td>-0.000101</td>\n",
       "      <td>-0.000013</td>\n",
       "      <td>True</td>\n",
       "    </tr>\n",
       "    <tr>\n",
       "      <th>150161</th>\n",
       "      <td>1674611374559587000</td>\n",
       "      <td>1674611374591212000</td>\n",
       "      <td>1534920000</td>\n",
       "      <td>235160000</td>\n",
       "      <td>1</td>\n",
       "      <td>235160000</td>\n",
       "      <td>-38.734548</td>\n",
       "      <td>-0.000098</td>\n",
       "      <td>-0.000013</td>\n",
       "      <td>True</td>\n",
       "    </tr>\n",
       "    <tr>\n",
       "      <th>150162</th>\n",
       "      <td>1674611374601290000</td>\n",
       "      <td>1674611374633622000</td>\n",
       "      <td>1534920000</td>\n",
       "      <td>3920</td>\n",
       "      <td>1</td>\n",
       "      <td>3920</td>\n",
       "      <td>-38.499388</td>\n",
       "      <td>-0.000098</td>\n",
       "      <td>-0.000013</td>\n",
       "      <td>True</td>\n",
       "    </tr>\n",
       "    <tr>\n",
       "      <th>150163</th>\n",
       "      <td>1674611374610186000</td>\n",
       "      <td>1674611374642656000</td>\n",
       "      <td>1534930000</td>\n",
       "      <td>125730000</td>\n",
       "      <td>1</td>\n",
       "      <td>125730000</td>\n",
       "      <td>-38.499384</td>\n",
       "      <td>-0.000104</td>\n",
       "      <td>-0.000013</td>\n",
       "      <td>True</td>\n",
       "    </tr>\n",
       "    <tr>\n",
       "      <th>150164</th>\n",
       "      <td>1674611374662738000</td>\n",
       "      <td>1674611374694188000</td>\n",
       "      <td>1535030000</td>\n",
       "      <td>174285400</td>\n",
       "      <td>1</td>\n",
       "      <td>174285400</td>\n",
       "      <td>-38.373654</td>\n",
       "      <td>-0.000169</td>\n",
       "      <td>-0.000013</td>\n",
       "      <td>True</td>\n",
       "    </tr>\n",
       "    <tr>\n",
       "      <th>150165</th>\n",
       "      <td>1674611374939511000</td>\n",
       "      <td>1674611374972034000</td>\n",
       "      <td>1535030000</td>\n",
       "      <td>283450000</td>\n",
       "      <td>1</td>\n",
       "      <td>283450000</td>\n",
       "      <td>-38.199369</td>\n",
       "      <td>-0.000166</td>\n",
       "      <td>-0.000012</td>\n",
       "      <td>True</td>\n",
       "    </tr>\n",
       "    <tr>\n",
       "      <th>150166</th>\n",
       "      <td>1674611374981288000</td>\n",
       "      <td>1674611375011589000</td>\n",
       "      <td>1535040000</td>\n",
       "      <td>289237980</td>\n",
       "      <td>1</td>\n",
       "      <td>289237980</td>\n",
       "      <td>-37.915919</td>\n",
       "      <td>-0.000173</td>\n",
       "      <td>-0.000012</td>\n",
       "      <td>True</td>\n",
       "    </tr>\n",
       "    <tr>\n",
       "      <th>150167</th>\n",
       "      <td>1674611375242994000</td>\n",
       "      <td>1674611375275333000</td>\n",
       "      <td>1535020000</td>\n",
       "      <td>228940000</td>\n",
       "      <td>-1</td>\n",
       "      <td>-228940000</td>\n",
       "      <td>-37.657789</td>\n",
       "      <td>-0.000176</td>\n",
       "      <td>-0.000012</td>\n",
       "      <td>True</td>\n",
       "    </tr>\n",
       "  </tbody>\n",
       "</table>\n",
       "</div>"
      ],
      "text/plain": [
       "        received_utc_nanoseconds  timestamp_utc_nanoseconds  PriceMillionths  \\\n",
       "150148       1674611369168175000        1674611369197642000       1535360000   \n",
       "150149       1674611369227140000        1674611369259017000       1535340000   \n",
       "150150       1674611369827708000        1674611369859465000       1535370000   \n",
       "150151       1674611369945694000        1674611369978466000       1535370000   \n",
       "150152       1674611370202075000        1674611370233612000       1535260000   \n",
       "150153       1674611370890735000        1674611370919297000       1535250000   \n",
       "150154       1674611371038996000        1674611371071222000       1535040000   \n",
       "150155       1674611371552573000        1674611371584341000       1534960000   \n",
       "150156       1674611373217040000        1674611373246195000       1534780000   \n",
       "150157       1674611373227034000        1674611373254387000       1534640000   \n",
       "150158       1674611373376723000        1674611373408326000       1534800000   \n",
       "150159       1674611373491091000        1674611373523567000       1534790000   \n",
       "150160       1674611374474398000        1674611374505166000       1534920000   \n",
       "150161       1674611374559587000        1674611374591212000       1534920000   \n",
       "150162       1674611374601290000        1674611374633622000       1534920000   \n",
       "150163       1674611374610186000        1674611374642656000       1534930000   \n",
       "150164       1674611374662738000        1674611374694188000       1535030000   \n",
       "150165       1674611374939511000        1674611374972034000       1535030000   \n",
       "150166       1674611374981288000        1674611375011589000       1535040000   \n",
       "150167       1674611375242994000        1674611375275333000       1535020000   \n",
       "\n",
       "        SizeBillionths  Side  cum_size_billionths  trade_flow  \\\n",
       "150148      1081570000    -2          -1081570000  -34.261109   \n",
       "150149       258150000    -1           -258150000  -35.342679   \n",
       "150150       420000000     3            420000000  -35.600829   \n",
       "150151        30956440     1             30956440  -35.625215   \n",
       "150152      2110000000    -1          -2110000000  -36.160644   \n",
       "150153        31728920     1             31728920  -38.270644   \n",
       "150154      1000000000    -1          -1000000000  -38.238915   \n",
       "150155       300000000    -1           -300000000  -39.238915   \n",
       "150156       500000000    -1           -500000000  -39.974252   \n",
       "150157       521289100    -1           -521289100  -40.474252   \n",
       "150158      2000000000     1           2000000000  -40.995541   \n",
       "150159       268120000     1            268120000  -38.995541   \n",
       "150160         5810210     1              5810210  -38.740359   \n",
       "150161       235160000     1            235160000  -38.734548   \n",
       "150162            3920     1                 3920  -38.499388   \n",
       "150163       125730000     1            125730000  -38.499384   \n",
       "150164       174285400     1            174285400  -38.373654   \n",
       "150165       283450000     1            283450000  -38.199369   \n",
       "150166       289237980     1            289237980  -37.915919   \n",
       "150167       228940000    -1           -228940000  -37.657789   \n",
       "\n",
       "        T_second_forward_return  predicted_return  trade_signal  \n",
       "150148                -0.000257         -0.000011          True  \n",
       "150149                -0.000244         -0.000012          True  \n",
       "150150                -0.000251         -0.000012          True  \n",
       "150151                -0.000247         -0.000012          True  \n",
       "150152                -0.000199         -0.000012          True  \n",
       "150153                -0.000192         -0.000012          True  \n",
       "150154                -0.000059         -0.000012          True  \n",
       "150155                -0.000020         -0.000013          True  \n",
       "150156                 0.000081         -0.000013          True  \n",
       "150157                 0.000173         -0.000013          True  \n",
       "150158                 0.000068         -0.000013          True  \n",
       "150159                 0.000075         -0.000013          True  \n",
       "150160                -0.000101         -0.000013          True  \n",
       "150161                -0.000098         -0.000013          True  \n",
       "150162                -0.000098         -0.000013          True  \n",
       "150163                -0.000104         -0.000013          True  \n",
       "150164                -0.000169         -0.000013          True  \n",
       "150165                -0.000166         -0.000012          True  \n",
       "150166                -0.000173         -0.000012          True  \n",
       "150167                -0.000176         -0.000012          True  "
      ]
     },
     "execution_count": 125,
     "metadata": {},
     "output_type": "execute_result"
    }
   ],
   "source": [
    "test_pred_ETH_USD.head(20)"
   ]
  },
  {
   "cell_type": "code",
   "execution_count": 126,
   "id": "5e071fc6",
   "metadata": {
    "ExecuteTime": {
     "end_time": "2024-02-09T03:07:44.105121Z",
     "start_time": "2024-02-09T03:07:44.091966Z"
    }
   },
   "outputs": [
    {
     "data": {
      "text/plain": [
       "trade_signal\n",
       "False    70069\n",
       "True     30030\n",
       "Name: count, dtype: int64"
      ]
     },
     "execution_count": 126,
     "metadata": {},
     "output_type": "execute_result"
    }
   ],
   "source": [
    "test_pred_ETH_USD['trade_signal'].value_counts()"
   ]
  },
  {
   "cell_type": "markdown",
   "id": "4502302d",
   "metadata": {},
   "source": [
    "# Creating the pnl dataframe:"
   ]
  },
  {
   "cell_type": "code",
   "execution_count": 127,
   "id": "4c6775b0",
   "metadata": {
    "ExecuteTime": {
     "end_time": "2024-02-09T03:07:47.588396Z",
     "start_time": "2024-02-09T03:07:44.111320Z"
    }
   },
   "outputs": [],
   "source": [
    "pnl_ETH_USD = calculate_pnl(test_pred_ETH_USD, book_narrow_ETH_USD, T = '40s', position_size=0.1)"
   ]
  },
  {
   "cell_type": "code",
   "execution_count": 128,
   "id": "7fcbcf15",
   "metadata": {
    "ExecuteTime": {
     "end_time": "2024-02-09T03:07:47.652697Z",
     "start_time": "2024-02-09T03:07:47.602745Z"
    }
   },
   "outputs": [
    {
     "data": {
      "text/html": [
       "<div>\n",
       "<style scoped>\n",
       "    .dataframe tbody tr th:only-of-type {\n",
       "        vertical-align: middle;\n",
       "    }\n",
       "\n",
       "    .dataframe tbody tr th {\n",
       "        vertical-align: top;\n",
       "    }\n",
       "\n",
       "    .dataframe thead th {\n",
       "        text-align: right;\n",
       "    }\n",
       "</style>\n",
       "<table border=\"1\" class=\"dataframe\">\n",
       "  <thead>\n",
       "    <tr style=\"text-align: right;\">\n",
       "      <th></th>\n",
       "      <th>timestamp_utc_nanoseconds</th>\n",
       "      <th>position</th>\n",
       "      <th>PriceMillionths</th>\n",
       "      <th>Mid</th>\n",
       "      <th>acc_qty</th>\n",
       "      <th>plT</th>\n",
       "      <th>acc_plT</th>\n",
       "    </tr>\n",
       "  </thead>\n",
       "  <tbody>\n",
       "    <tr>\n",
       "      <th>0</th>\n",
       "      <td>1674611369197642000</td>\n",
       "      <td>-0.108157</td>\n",
       "      <td>1535.36</td>\n",
       "      <td>1535.400</td>\n",
       "      <td>0.000000e+00</td>\n",
       "      <td>-0.004326</td>\n",
       "      <td>0.000000</td>\n",
       "    </tr>\n",
       "    <tr>\n",
       "      <th>1</th>\n",
       "      <td>1674611369259017000</td>\n",
       "      <td>-0.025815</td>\n",
       "      <td>1535.34</td>\n",
       "      <td>1535.360</td>\n",
       "      <td>-1.081570e+08</td>\n",
       "      <td>-0.000516</td>\n",
       "      <td>-0.004326</td>\n",
       "    </tr>\n",
       "    <tr>\n",
       "      <th>2</th>\n",
       "      <td>1674611369859465000</td>\n",
       "      <td>0.042000</td>\n",
       "      <td>1535.37</td>\n",
       "      <td>1535.315</td>\n",
       "      <td>-1.339720e+08</td>\n",
       "      <td>-0.002310</td>\n",
       "      <td>-0.004843</td>\n",
       "    </tr>\n",
       "    <tr>\n",
       "      <th>3</th>\n",
       "      <td>1674611369978466000</td>\n",
       "      <td>0.003096</td>\n",
       "      <td>1535.37</td>\n",
       "      <td>1535.315</td>\n",
       "      <td>-9.197200e+07</td>\n",
       "      <td>-0.000170</td>\n",
       "      <td>-0.007153</td>\n",
       "    </tr>\n",
       "    <tr>\n",
       "      <th>4</th>\n",
       "      <td>1674611370233612000</td>\n",
       "      <td>-0.211000</td>\n",
       "      <td>1535.26</td>\n",
       "      <td>1535.270</td>\n",
       "      <td>-8.887636e+07</td>\n",
       "      <td>-0.002110</td>\n",
       "      <td>-0.007323</td>\n",
       "    </tr>\n",
       "    <tr>\n",
       "      <th>...</th>\n",
       "      <td>...</td>\n",
       "      <td>...</td>\n",
       "      <td>...</td>\n",
       "      <td>...</td>\n",
       "      <td>...</td>\n",
       "      <td>...</td>\n",
       "      <td>...</td>\n",
       "    </tr>\n",
       "    <tr>\n",
       "      <th>30025</th>\n",
       "      <td>1674658827958690000</td>\n",
       "      <td>-0.216507</td>\n",
       "      <td>1534.64</td>\n",
       "      <td>1535.165</td>\n",
       "      <td>1.601068e+11</td>\n",
       "      <td>-0.113666</td>\n",
       "      <td>-107.480775</td>\n",
       "    </tr>\n",
       "    <tr>\n",
       "      <th>30026</th>\n",
       "      <td>1674658827995187000</td>\n",
       "      <td>-0.044431</td>\n",
       "      <td>1534.64</td>\n",
       "      <td>1535.140</td>\n",
       "      <td>1.598903e+11</td>\n",
       "      <td>-0.022216</td>\n",
       "      <td>-107.594441</td>\n",
       "    </tr>\n",
       "    <tr>\n",
       "      <th>30027</th>\n",
       "      <td>1674658828169034000</td>\n",
       "      <td>-0.215420</td>\n",
       "      <td>1534.36</td>\n",
       "      <td>1535.065</td>\n",
       "      <td>1.598458e+11</td>\n",
       "      <td>-0.151871</td>\n",
       "      <td>-107.616657</td>\n",
       "    </tr>\n",
       "    <tr>\n",
       "      <th>30028</th>\n",
       "      <td>1674658828203108000</td>\n",
       "      <td>-0.495971</td>\n",
       "      <td>1534.04</td>\n",
       "      <td>1535.060</td>\n",
       "      <td>1.596304e+11</td>\n",
       "      <td>-0.505891</td>\n",
       "      <td>-107.768528</td>\n",
       "    </tr>\n",
       "    <tr>\n",
       "      <th>30029</th>\n",
       "      <td>1674658828397082000</td>\n",
       "      <td>-0.170893</td>\n",
       "      <td>1534.36</td>\n",
       "      <td>1534.965</td>\n",
       "      <td>1.591345e+11</td>\n",
       "      <td>-0.103391</td>\n",
       "      <td>-108.274419</td>\n",
       "    </tr>\n",
       "  </tbody>\n",
       "</table>\n",
       "<p>30030 rows × 7 columns</p>\n",
       "</div>"
      ],
      "text/plain": [
       "       timestamp_utc_nanoseconds  position  PriceMillionths       Mid  \\\n",
       "0            1674611369197642000 -0.108157          1535.36  1535.400   \n",
       "1            1674611369259017000 -0.025815          1535.34  1535.360   \n",
       "2            1674611369859465000  0.042000          1535.37  1535.315   \n",
       "3            1674611369978466000  0.003096          1535.37  1535.315   \n",
       "4            1674611370233612000 -0.211000          1535.26  1535.270   \n",
       "...                          ...       ...              ...       ...   \n",
       "30025        1674658827958690000 -0.216507          1534.64  1535.165   \n",
       "30026        1674658827995187000 -0.044431          1534.64  1535.140   \n",
       "30027        1674658828169034000 -0.215420          1534.36  1535.065   \n",
       "30028        1674658828203108000 -0.495971          1534.04  1535.060   \n",
       "30029        1674658828397082000 -0.170893          1534.36  1534.965   \n",
       "\n",
       "            acc_qty       plT     acc_plT  \n",
       "0      0.000000e+00 -0.004326    0.000000  \n",
       "1     -1.081570e+08 -0.000516   -0.004326  \n",
       "2     -1.339720e+08 -0.002310   -0.004843  \n",
       "3     -9.197200e+07 -0.000170   -0.007153  \n",
       "4     -8.887636e+07 -0.002110   -0.007323  \n",
       "...             ...       ...         ...  \n",
       "30025  1.601068e+11 -0.113666 -107.480775  \n",
       "30026  1.598903e+11 -0.022216 -107.594441  \n",
       "30027  1.598458e+11 -0.151871 -107.616657  \n",
       "30028  1.596304e+11 -0.505891 -107.768528  \n",
       "30029  1.591345e+11 -0.103391 -108.274419  \n",
       "\n",
       "[30030 rows x 7 columns]"
      ]
     },
     "execution_count": 128,
     "metadata": {},
     "output_type": "execute_result"
    }
   ],
   "source": [
    "pnl_ETH_USD"
   ]
  },
  {
   "cell_type": "markdown",
   "id": "438b1b27",
   "metadata": {},
   "source": [
    "Pnl with trading costs:"
   ]
  },
  {
   "cell_type": "code",
   "execution_count": 129,
   "id": "8a56e4c4",
   "metadata": {
    "ExecuteTime": {
     "end_time": "2024-02-09T03:07:51.250867Z",
     "start_time": "2024-02-09T03:07:47.657891Z"
    }
   },
   "outputs": [
    {
     "data": {
      "text/html": [
       "<div>\n",
       "<style scoped>\n",
       "    .dataframe tbody tr th:only-of-type {\n",
       "        vertical-align: middle;\n",
       "    }\n",
       "\n",
       "    .dataframe tbody tr th {\n",
       "        vertical-align: top;\n",
       "    }\n",
       "\n",
       "    .dataframe thead th {\n",
       "        text-align: right;\n",
       "    }\n",
       "</style>\n",
       "<table border=\"1\" class=\"dataframe\">\n",
       "  <thead>\n",
       "    <tr style=\"text-align: right;\">\n",
       "      <th></th>\n",
       "      <th>timestamp_utc_nanoseconds</th>\n",
       "      <th>position</th>\n",
       "      <th>PriceMillionths</th>\n",
       "      <th>Mid</th>\n",
       "      <th>acc_qty</th>\n",
       "      <th>plT</th>\n",
       "      <th>acc_plT</th>\n",
       "    </tr>\n",
       "  </thead>\n",
       "  <tbody>\n",
       "    <tr>\n",
       "      <th>0</th>\n",
       "      <td>1674611369197642000</td>\n",
       "      <td>-0.108157</td>\n",
       "      <td>1535.36</td>\n",
       "      <td>1535.400</td>\n",
       "      <td>0.000000e+00</td>\n",
       "      <td>-0.004318</td>\n",
       "      <td>0.000000</td>\n",
       "    </tr>\n",
       "    <tr>\n",
       "      <th>1</th>\n",
       "      <td>1674611369259017000</td>\n",
       "      <td>-0.025815</td>\n",
       "      <td>1535.34</td>\n",
       "      <td>1535.360</td>\n",
       "      <td>-1.081570e+08</td>\n",
       "      <td>-0.000515</td>\n",
       "      <td>-0.004318</td>\n",
       "    </tr>\n",
       "    <tr>\n",
       "      <th>2</th>\n",
       "      <td>1674611369859465000</td>\n",
       "      <td>0.042000</td>\n",
       "      <td>1535.37</td>\n",
       "      <td>1535.315</td>\n",
       "      <td>-1.339720e+08</td>\n",
       "      <td>-0.002305</td>\n",
       "      <td>-0.004833</td>\n",
       "    </tr>\n",
       "    <tr>\n",
       "      <th>3</th>\n",
       "      <td>1674611369978466000</td>\n",
       "      <td>0.003096</td>\n",
       "      <td>1535.37</td>\n",
       "      <td>1535.315</td>\n",
       "      <td>-9.197200e+07</td>\n",
       "      <td>-0.000170</td>\n",
       "      <td>-0.007138</td>\n",
       "    </tr>\n",
       "    <tr>\n",
       "      <th>4</th>\n",
       "      <td>1674611370233612000</td>\n",
       "      <td>-0.211000</td>\n",
       "      <td>1535.26</td>\n",
       "      <td>1535.270</td>\n",
       "      <td>-8.887636e+07</td>\n",
       "      <td>-0.002106</td>\n",
       "      <td>-0.007308</td>\n",
       "    </tr>\n",
       "    <tr>\n",
       "      <th>...</th>\n",
       "      <td>...</td>\n",
       "      <td>...</td>\n",
       "      <td>...</td>\n",
       "      <td>...</td>\n",
       "      <td>...</td>\n",
       "      <td>...</td>\n",
       "      <td>...</td>\n",
       "    </tr>\n",
       "    <tr>\n",
       "      <th>30025</th>\n",
       "      <td>1674658827958690000</td>\n",
       "      <td>-0.216507</td>\n",
       "      <td>1534.64</td>\n",
       "      <td>1535.165</td>\n",
       "      <td>1.601068e+11</td>\n",
       "      <td>-0.113439</td>\n",
       "      <td>-107.265814</td>\n",
       "    </tr>\n",
       "    <tr>\n",
       "      <th>30026</th>\n",
       "      <td>1674658827995187000</td>\n",
       "      <td>-0.044431</td>\n",
       "      <td>1534.64</td>\n",
       "      <td>1535.140</td>\n",
       "      <td>1.598903e+11</td>\n",
       "      <td>-0.022171</td>\n",
       "      <td>-107.379253</td>\n",
       "    </tr>\n",
       "    <tr>\n",
       "      <th>30027</th>\n",
       "      <td>1674658828169034000</td>\n",
       "      <td>-0.215420</td>\n",
       "      <td>1534.36</td>\n",
       "      <td>1535.065</td>\n",
       "      <td>1.598458e+11</td>\n",
       "      <td>-0.151567</td>\n",
       "      <td>-107.401424</td>\n",
       "    </tr>\n",
       "    <tr>\n",
       "      <th>30028</th>\n",
       "      <td>1674658828203108000</td>\n",
       "      <td>-0.495971</td>\n",
       "      <td>1534.04</td>\n",
       "      <td>1535.060</td>\n",
       "      <td>1.596304e+11</td>\n",
       "      <td>-0.504879</td>\n",
       "      <td>-107.552991</td>\n",
       "    </tr>\n",
       "    <tr>\n",
       "      <th>30029</th>\n",
       "      <td>1674658828397082000</td>\n",
       "      <td>-0.170893</td>\n",
       "      <td>1534.36</td>\n",
       "      <td>1534.965</td>\n",
       "      <td>1.591345e+11</td>\n",
       "      <td>-0.103184</td>\n",
       "      <td>-108.057870</td>\n",
       "    </tr>\n",
       "  </tbody>\n",
       "</table>\n",
       "<p>30030 rows × 7 columns</p>\n",
       "</div>"
      ],
      "text/plain": [
       "       timestamp_utc_nanoseconds  position  PriceMillionths       Mid  \\\n",
       "0            1674611369197642000 -0.108157          1535.36  1535.400   \n",
       "1            1674611369259017000 -0.025815          1535.34  1535.360   \n",
       "2            1674611369859465000  0.042000          1535.37  1535.315   \n",
       "3            1674611369978466000  0.003096          1535.37  1535.315   \n",
       "4            1674611370233612000 -0.211000          1535.26  1535.270   \n",
       "...                          ...       ...              ...       ...   \n",
       "30025        1674658827958690000 -0.216507          1534.64  1535.165   \n",
       "30026        1674658827995187000 -0.044431          1534.64  1535.140   \n",
       "30027        1674658828169034000 -0.215420          1534.36  1535.065   \n",
       "30028        1674658828203108000 -0.495971          1534.04  1535.060   \n",
       "30029        1674658828397082000 -0.170893          1534.36  1534.965   \n",
       "\n",
       "            acc_qty       plT     acc_plT  \n",
       "0      0.000000e+00 -0.004318    0.000000  \n",
       "1     -1.081570e+08 -0.000515   -0.004318  \n",
       "2     -1.339720e+08 -0.002305   -0.004833  \n",
       "3     -9.197200e+07 -0.000170   -0.007138  \n",
       "4     -8.887636e+07 -0.002106   -0.007308  \n",
       "...             ...       ...         ...  \n",
       "30025  1.601068e+11 -0.113439 -107.265814  \n",
       "30026  1.598903e+11 -0.022171 -107.379253  \n",
       "30027  1.598458e+11 -0.151567 -107.401424  \n",
       "30028  1.596304e+11 -0.504879 -107.552991  \n",
       "30029  1.591345e+11 -0.103184 -108.057870  \n",
       "\n",
       "[30030 rows x 7 columns]"
      ]
     },
     "execution_count": 129,
     "metadata": {},
     "output_type": "execute_result"
    }
   ],
   "source": [
    "pnl_ETH_USD_with_tc = calculate_pnl_with_tc(test_pred_ETH_USD, book_narrow_ETH_USD, T = '40s', position_size=0.1)\n",
    "\n",
    "pnl_ETH_USD_with_tc"
   ]
  },
  {
   "cell_type": "markdown",
   "id": "2a6153a8",
   "metadata": {},
   "source": [
    "# Calculating pnl stats:"
   ]
  },
  {
   "cell_type": "code",
   "execution_count": 130,
   "id": "812d285b",
   "metadata": {
    "ExecuteTime": {
     "end_time": "2024-02-09T03:07:51.804996Z",
     "start_time": "2024-02-09T03:07:51.267086Z"
    }
   },
   "outputs": [
    {
     "data": {
      "image/png": "[encoded data removed]",
      "text/plain": [
       "<Figure size 640x480 with 1 Axes>"
      ]
     },
     "metadata": {},
     "output_type": "display_data"
    }
   ],
   "source": [
    "T = '40s'  \n",
    "sharpe_ratio_ETH_USD, max_drawdown_ETH_USD, downside_deviations_ETH_USD, cumulative_plT_ETH_USD, grouped_plt_ETH_USD = calculate_pnl_stats(pnl_ETH_USD, T)"
   ]
  },
  {
   "cell_type": "markdown",
   "id": "1c73f272",
   "metadata": {},
   "source": [
    "This graph represents the cumulative Profit and Loss (P&L) over a certain period, likely for a trading strategy. A negative P&L, as shown in the graph, indicates a loss over time. "
   ]
  },
  {
   "cell_type": "code",
   "execution_count": 131,
   "id": "3ced489b",
   "metadata": {
    "ExecuteTime": {
     "end_time": "2024-02-09T03:07:51.824743Z",
     "start_time": "2024-02-09T03:07:51.812007Z"
    }
   },
   "outputs": [
    {
     "data": {
      "text/plain": [
       "-0.14059533866336874"
      ]
     },
     "execution_count": 131,
     "metadata": {},
     "output_type": "execute_result"
    }
   ],
   "source": [
    "sharpe_ratio_ETH_USD"
   ]
  },
  {
   "cell_type": "code",
   "execution_count": 132,
   "id": "0a2051c6",
   "metadata": {
    "ExecuteTime": {
     "end_time": "2024-02-09T03:07:51.866091Z",
     "start_time": "2024-02-09T03:07:51.841977Z"
    }
   },
   "outputs": [
    {
     "data": {
      "text/plain": [
       "108.32674176187622"
      ]
     },
     "execution_count": 132,
     "metadata": {},
     "output_type": "execute_result"
    }
   ],
   "source": [
    "max_drawdown_ETH_USD"
   ]
  },
  {
   "cell_type": "code",
   "execution_count": 133,
   "id": "75c46ce5",
   "metadata": {
    "ExecuteTime": {
     "end_time": "2024-02-09T03:07:51.887367Z",
     "start_time": "2024-02-09T03:07:51.875646Z"
    }
   },
   "outputs": [
    {
     "data": {
      "text/plain": [
       "0.6370404019366247"
      ]
     },
     "execution_count": 133,
     "metadata": {},
     "output_type": "execute_result"
    }
   ],
   "source": [
    "downside_deviations_ETH_USD"
   ]
  },
  {
   "cell_type": "markdown",
   "id": "4e3322f0",
   "metadata": {},
   "source": [
    "As we have a negative Sharpe ratio of -0.14059953386636874 which suggests that the investment is performing worse than the risk-free rate when adjusted for volatility. \n",
    "\n",
    "The maximum drawdown value of 188.3267417687262 indicates the largest loss that would have been experienced if an investment was made at the peak value before the largest drop.\n",
    "\n",
    "The downside deviation value of 0.6374048419366247 suggests that there is a level of downside volatility in the returns of the investment."
   ]
  },
  {
   "cell_type": "markdown",
   "id": "cc8ab366",
   "metadata": {},
   "source": [
    "In summary, these statistics indicate a trading strategy or investment in Ethereum against the USD that is currently underperforming, with significant losses (as shown by the cumulative P&L), a negative risk-adjusted return (Sharpe ratio), a significant maximum drawdown, and a measure of downside risk (downside deviation)."
   ]
  },
  {
   "cell_type": "markdown",
   "id": "bf05e901",
   "metadata": {},
   "source": [
    "Pnl stats with trading costs:"
   ]
  },
  {
   "cell_type": "code",
   "execution_count": 134,
   "id": "4d8e8f4d",
   "metadata": {
    "ExecuteTime": {
     "end_time": "2024-02-09T03:07:52.374965Z",
     "start_time": "2024-02-09T03:07:51.899369Z"
    }
   },
   "outputs": [
    {
     "data": {
      "image/png": "[encoded data removed]",
      "text/plain": [
       "<Figure size 640x480 with 1 Axes>"
      ]
     },
     "metadata": {},
     "output_type": "display_data"
    }
   ],
   "source": [
    "T = '100s'  \n",
    "sharpe_ratio_ETH_USD_tc, max_drawdown_ETH_USD_tc, downside_deviations_ETH_USD_tc, cumulative_plT_ETH_USD_tc, grouped_plt_ETH_USD_tc = calculate_pnl_stats(pnl_ETH_USD_with_tc, T)"
   ]
  },
  {
   "cell_type": "code",
   "execution_count": 135,
   "id": "7e51052f",
   "metadata": {
    "ExecuteTime": {
     "end_time": "2024-02-09T03:07:52.428007Z",
     "start_time": "2024-02-09T03:07:52.384558Z"
    }
   },
   "outputs": [
    {
     "data": {
      "text/plain": [
       "-0.2199956093436834"
      ]
     },
     "execution_count": 135,
     "metadata": {},
     "output_type": "execute_result"
    }
   ],
   "source": [
    "sharpe_ratio_ETH_USD_tc\n",
    "\n"
   ]
  },
  {
   "cell_type": "code",
   "execution_count": 136,
   "id": "7faf5138",
   "metadata": {
    "ExecuteTime": {
     "end_time": "2024-02-09T03:07:52.452002Z",
     "start_time": "2024-02-09T03:07:52.440058Z"
    }
   },
   "outputs": [
    {
     "data": {
      "text/plain": [
       "108.11008827835246"
      ]
     },
     "execution_count": 136,
     "metadata": {},
     "output_type": "execute_result"
    }
   ],
   "source": [
    "max_drawdown_ETH_USD_tc\n",
    "\n"
   ]
  },
  {
   "cell_type": "code",
   "execution_count": 137,
   "id": "98e0cfb6",
   "metadata": {
    "ExecuteTime": {
     "end_time": "2024-02-09T03:07:52.476052Z",
     "start_time": "2024-02-09T03:07:52.459331Z"
    }
   },
   "outputs": [
    {
     "data": {
      "text/plain": [
       "0.9528182262954423"
      ]
     },
     "execution_count": 137,
     "metadata": {},
     "output_type": "execute_result"
    }
   ],
   "source": [
    "downside_deviations_ETH_USD_tc"
   ]
  },
  {
   "cell_type": "markdown",
   "id": "80b33af6",
   "metadata": {},
   "source": [
    "# 6. Conclusion:"
   ]
  },
  {
   "cell_type": "markdown",
   "id": "866d641f",
   "metadata": {},
   "source": [
    "The analysis has been done for three cryptocurrency pairs and we can see that the strategy for ETH-BTC pair is relatively profitable as compared to BTC-USD and ETH-USD and this can be seen from the sharpe ratio, max drawdown, downside deviation and cumulative pnl plots.\n",
    "\n",
    "Trade Flow as a Predictor:\n",
    "The use of trade flow as a predictor for future returns has shown varying degrees of efficacy across the different cryptocurrency pairs. While the methodology for calculating trade flow and predicting forward returns is sound, the actual predictive power, as evidenced by the calculated beta values, varies depending on the pair and the chosen intervals (tau and T).\n",
    "\n",
    "Beta Stability:\n",
    "The stability of the beta coefficient varied with different tau and T intervals, suggesting that the relationship between trade flow and future returns is not consistent across different time scales. This implies that the predictive power of trade flow may be more complex than initially assumed and may be influenced by external factors not accounted for in the model.\n",
    "\n",
    "Training Size Impact:\n",
    "The size of the training set had a noticeable impact on the beta values, indicating that the amount of historical data used to train the model can influence the predictions. As the training size increased, there was a tendency for beta to increase as well, suggesting that having more data points can potentially lead to stronger predictions. However, this did not necessarily translate into better performance metrics, indicating that more data does not automatically mean more profitable trading signals.\n",
    "\n",
    "Trading Signal Generation:\n",
    "The strategy of determining trade signals based on a certain percentile of predicted returns (with j values chosen to activate trading 60% and 30% of the time for the respective pairs) did not lead to consistently profitable outcomes. This could suggest that the threshold for generating signals may need further optimization, or that other factors may need to be considered when deciding when to trade.\n",
    "\n",
    "Transaction Costs Consideration:\n",
    "Incorporating transaction costs into the P&L calculations showed that the profitability of trades was further diminished but not significantly when such costs were accounted for.\n",
    "\n",
    "In conclusion, while the analytical approach and the developed models have potential, the current implementation does not yield profitable trading strategies for the cryptocurrency pairs analyzed. The analysis highlights the need for further refinement of the trade flow-based predictive model, perhaps by incorporating additional market factors, optimizing the model parameters, or employing more sophisticated risk management techniques. Future research could also explore different timeframes, alternative predictive indicators, and the use of machine learning models to improve the accuracy and profitability of the trade signals."
   ]
  }
 ],
 "metadata": {
  "kernelspec": {
   "display_name": "Python 3 (ipykernel)",
   "language": "python",
   "name": "python3"
  },
  "language_info": {
   "codemirror_mode": {
    "name": "ipython",
    "version": 3
   },
   "file_extension": ".py",
   "mimetype": "text/x-python",
   "name": "python",
   "nbconvert_exporter": "python",
   "pygments_lexer": "ipython3",
   "version": "3.11.4"
  }
 },
 "nbformat": 4,
 "nbformat_minor": 5
}
